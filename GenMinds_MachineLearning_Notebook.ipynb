{
 "cells": [
  {
   "cell_type": "markdown",
   "metadata": {},
   "source": [
    "<div style=\"text-align: center; color: red;\"><h2>NLP Project: Amazon Reviews Sentiment Analysis by GenMinds (Machine Learning notebook)</h2></div>"
   ]
  },
  {
   "cell_type": "markdown",
   "metadata": {},
   "source": [
    "In the previous notebook, we went over exploring the Amazon Reviews 23 dataset, mainly the 'All Beauty' category. The original one had around 700K entries and was quite unbalanced that we had to undersample it. We also pre-processed it to be ready for use with the various model algorithms."
   ]
  },
  {
   "cell_type": "markdown",
   "metadata": {},
   "source": [
    "# Import modules"
   ]
  },
  {
   "cell_type": "code",
   "execution_count": null,
   "metadata": {},
   "outputs": [
    {
     "name": "stderr",
     "output_type": "stream",
     "text": [
      "[nltk_data] Downloading package stopwords to\n",
      "[nltk_data]     C:\\Users\\Amine\\AppData\\Roaming\\nltk_data...\n",
      "[nltk_data]   Package stopwords is already up-to-date!\n"
     ]
    }
   ],
   "source": [
    "import os\n",
    "from utils import *\n",
    "from typing import Union\n",
    "\n",
    "import numpy as np\n",
    "import pandas as pd\n",
    "\n",
    "from nltk.tokenize import word_tokenize\n",
    "\n",
    "from sklearn.feature_extraction.text import TfidfVectorizer\n",
    "from gensim.models import Word2Vec\n",
    "\n",
    "import matplotlib.pyplot as plt\n",
    "\n",
    "from sklearn.model_selection import train_test_split\n",
    "from sklearn.ensemble import RandomForestClassifier\n",
    "from sklearn.linear_model import LogisticRegression\n",
    "from sklearn.naive_bayes import MultinomialNB\n",
    "import xgboost as xgb\n",
    "from sklearn.cluster import KMeans\n",
    "from sklearn.decomposition import TruncatedSVD\n",
    "\n",
    "from sklearn.metrics import classification_report, confusion_matrix\n",
    "\n",
    "import joblib"
   ]
  },
  {
   "cell_type": "markdown",
   "metadata": {},
   "source": [
    "# Load the dataset extracted last time"
   ]
  },
  {
   "cell_type": "code",
   "execution_count": 2,
   "metadata": {},
   "outputs": [],
   "source": [
    "df = pd.read_csv('GenMinds_Balanced_Dataset_All_Beauty.csv', index_col=0)"
   ]
  },
  {
   "cell_type": "code",
   "execution_count": 3,
   "metadata": {},
   "outputs": [
    {
     "data": {
      "text/html": [
       "<div>\n",
       "<style scoped>\n",
       "    .dataframe tbody tr th:only-of-type {\n",
       "        vertical-align: middle;\n",
       "    }\n",
       "\n",
       "    .dataframe tbody tr th {\n",
       "        vertical-align: top;\n",
       "    }\n",
       "\n",
       "    .dataframe thead th {\n",
       "        text-align: right;\n",
       "    }\n",
       "</style>\n",
       "<table border=\"1\" class=\"dataframe\">\n",
       "  <thead>\n",
       "    <tr style=\"text-align: right;\">\n",
       "      <th></th>\n",
       "      <th>review_text</th>\n",
       "      <th>label</th>\n",
       "    </tr>\n",
       "  </thead>\n",
       "  <tbody>\n",
       "    <tr>\n",
       "      <th>0</th>\n",
       "      <td>one star bad</td>\n",
       "      <td>0</td>\n",
       "    </tr>\n",
       "    <tr>\n",
       "      <th>1</th>\n",
       "      <td>three stars okay</td>\n",
       "      <td>1</td>\n",
       "    </tr>\n",
       "    <tr>\n",
       "      <th>2</th>\n",
       "      <td>missing bottle defective sprayer instead 4 bot...</td>\n",
       "      <td>0</td>\n",
       "    </tr>\n",
       "    <tr>\n",
       "      <th>3</th>\n",
       "      <td>disappointed little disappointed product case ...</td>\n",
       "      <td>1</td>\n",
       "    </tr>\n",
       "    <tr>\n",
       "      <th>4</th>\n",
       "      <td>don’t stay began peeling 20 minutes putting on</td>\n",
       "      <td>0</td>\n",
       "    </tr>\n",
       "  </tbody>\n",
       "</table>\n",
       "</div>"
      ],
      "text/plain": [
       "                                         review_text  label\n",
       "0                                       one star bad      0\n",
       "1                                   three stars okay      1\n",
       "2  missing bottle defective sprayer instead 4 bot...      0\n",
       "3  disappointed little disappointed product case ...      1\n",
       "4     don’t stay began peeling 20 minutes putting on      0"
      ]
     },
     "execution_count": 3,
     "metadata": {},
     "output_type": "execute_result"
    }
   ],
   "source": [
    "df.head()"
   ]
  },
  {
   "cell_type": "code",
   "execution_count": 4,
   "metadata": {},
   "outputs": [
    {
     "name": "stdout",
     "output_type": "stream",
     "text": [
      "<class 'pandas.core.frame.DataFrame'>\n",
      "Index: 168848 entries, 0 to 168920\n",
      "Data columns (total 2 columns):\n",
      " #   Column       Non-Null Count   Dtype \n",
      "---  ------       --------------   ----- \n",
      " 0   review_text  168848 non-null  object\n",
      " 1   label        168848 non-null  int64 \n",
      "dtypes: int64(1), object(1)\n",
      "memory usage: 3.9+ MB\n"
     ]
    }
   ],
   "source": [
    "df.info()"
   ]
  },
  {
   "cell_type": "markdown",
   "metadata": {},
   "source": [
    "# Tokenization"
   ]
  },
  {
   "cell_type": "code",
   "execution_count": 5,
   "metadata": {},
   "outputs": [],
   "source": [
    "df['tokens'] = df['review_text'].apply(word_tokenize)"
   ]
  },
  {
   "cell_type": "markdown",
   "metadata": {},
   "source": [
    "# TF-IDF approach"
   ]
  },
  {
   "cell_type": "markdown",
   "metadata": {},
   "source": [
    "TF-IDF, which stands for $\\textit{Term Frequency-Inverse Document Frequency}$, is a statistical approach that is used in NLP tasks to evaluate the importance of a word in a document relative to a corpus (a collection of documents). The formulas are as follows:\n",
    "\n",
    "<figure style=\"width: 600px; height: 500px; display: block; margin: auto;\">\n",
    "    <img src=\"https://media.geeksforgeeks.org/wp-content/uploads/20250207113146020518/The-TF-Formula.webp\">\n",
    "    <img src=\"https://media.geeksforgeeks.org/wp-content/uploads/20250207113218469447/IDF-Formula.webp\">\n",
    "</figure>\n",
    "\n",
    "- TF aims to determine the frequency of a term in a document which, alone, does not account for its global importance across the corpus.\n",
    "Also, common stopwords like 'the' or 'and' may have high scores but are not meaningful.\n",
    "\n",
    "- IDF highlights the importance of rare words by reducing the weight of common words. And through the logarithmic formula, the IDF scores scale appropriately. It is to note, however, that a term might be rare across the corpus but is irrelevant in a specific document.\n",
    "\n",
    "You can read more about TF-IDF <a href=\"https://www.geeksforgeeks.org/understanding-tf-idf-term-frequency-inverse-document-frequency/\">here</a>."
   ]
  },
  {
   "cell_type": "markdown",
   "metadata": {},
   "source": [
    "We'll approach training our models based on this method first. Then, we'll move on to something else."
   ]
  },
  {
   "cell_type": "code",
   "execution_count": 6,
   "metadata": {},
   "outputs": [],
   "source": [
    "# Initialize the TF-IDF Vectorizer\n",
    "tfidf = TfidfVectorizer(max_features=7500)\n",
    "\n",
    "# Fit and transform the data\n",
    "X_tfidf = tfidf.fit_transform(df['review_text'])"
   ]
  },
  {
   "cell_type": "markdown",
   "metadata": {},
   "source": [
    "Let's save the model for future use"
   ]
  },
  {
   "cell_type": "code",
   "execution_count": null,
   "metadata": {},
   "outputs": [
    {
     "data": {
      "text/plain": [
       "['tfidf_model.joblib']"
      ]
     },
     "execution_count": 7,
     "metadata": {},
     "output_type": "execute_result"
    }
   ],
   "source": [
    "if not os.path.exists('./models/tfidf_model.joblib'):\n",
    "    joblib.dump(X_tfidf, 'tfidf_model.joblib')"
   ]
  },
  {
   "cell_type": "code",
   "execution_count": 8,
   "metadata": {},
   "outputs": [],
   "source": [
    "# Convert the sparse matrix to a dense format and store it in a dataframe\n",
    "X_tfidf_df = pd.DataFrame(X_tfidf.toarray(), columns=tfidf.get_feature_names_out())\n",
    "y = df['label']"
   ]
  },
  {
   "cell_type": "code",
   "execution_count": 9,
   "metadata": {},
   "outputs": [
    {
     "data": {
      "text/html": [
       "<div>\n",
       "<style scoped>\n",
       "    .dataframe tbody tr th:only-of-type {\n",
       "        vertical-align: middle;\n",
       "    }\n",
       "\n",
       "    .dataframe tbody tr th {\n",
       "        vertical-align: top;\n",
       "    }\n",
       "\n",
       "    .dataframe thead th {\n",
       "        text-align: right;\n",
       "    }\n",
       "</style>\n",
       "<table border=\"1\" class=\"dataframe\">\n",
       "  <thead>\n",
       "    <tr style=\"text-align: right;\">\n",
       "      <th></th>\n",
       "      <th>05</th>\n",
       "      <th>10</th>\n",
       "      <th>100</th>\n",
       "      <th>1000</th>\n",
       "      <th>10000</th>\n",
       "      <th>1010</th>\n",
       "      <th>1015</th>\n",
       "      <th>1050</th>\n",
       "      <th>1090</th>\n",
       "      <th>10a</th>\n",
       "      <th>...</th>\n",
       "      <th>zero</th>\n",
       "      <th>zinc</th>\n",
       "      <th>zip</th>\n",
       "      <th>ziploc</th>\n",
       "      <th>ziplock</th>\n",
       "      <th>zipper</th>\n",
       "      <th>zippered</th>\n",
       "      <th>zippers</th>\n",
       "      <th>zone</th>\n",
       "      <th>zoom</th>\n",
       "    </tr>\n",
       "  </thead>\n",
       "  <tbody>\n",
       "    <tr>\n",
       "      <th>0</th>\n",
       "      <td>0.0</td>\n",
       "      <td>0.0</td>\n",
       "      <td>0.0</td>\n",
       "      <td>0.0</td>\n",
       "      <td>0.0</td>\n",
       "      <td>0.0</td>\n",
       "      <td>0.0</td>\n",
       "      <td>0.0</td>\n",
       "      <td>0.0</td>\n",
       "      <td>0.0</td>\n",
       "      <td>...</td>\n",
       "      <td>0.0</td>\n",
       "      <td>0.0</td>\n",
       "      <td>0.0</td>\n",
       "      <td>0.0</td>\n",
       "      <td>0.0</td>\n",
       "      <td>0.0</td>\n",
       "      <td>0.0</td>\n",
       "      <td>0.0</td>\n",
       "      <td>0.0</td>\n",
       "      <td>0.0</td>\n",
       "    </tr>\n",
       "    <tr>\n",
       "      <th>1</th>\n",
       "      <td>0.0</td>\n",
       "      <td>0.0</td>\n",
       "      <td>0.0</td>\n",
       "      <td>0.0</td>\n",
       "      <td>0.0</td>\n",
       "      <td>0.0</td>\n",
       "      <td>0.0</td>\n",
       "      <td>0.0</td>\n",
       "      <td>0.0</td>\n",
       "      <td>0.0</td>\n",
       "      <td>...</td>\n",
       "      <td>0.0</td>\n",
       "      <td>0.0</td>\n",
       "      <td>0.0</td>\n",
       "      <td>0.0</td>\n",
       "      <td>0.0</td>\n",
       "      <td>0.0</td>\n",
       "      <td>0.0</td>\n",
       "      <td>0.0</td>\n",
       "      <td>0.0</td>\n",
       "      <td>0.0</td>\n",
       "    </tr>\n",
       "    <tr>\n",
       "      <th>2</th>\n",
       "      <td>0.0</td>\n",
       "      <td>0.0</td>\n",
       "      <td>0.0</td>\n",
       "      <td>0.0</td>\n",
       "      <td>0.0</td>\n",
       "      <td>0.0</td>\n",
       "      <td>0.0</td>\n",
       "      <td>0.0</td>\n",
       "      <td>0.0</td>\n",
       "      <td>0.0</td>\n",
       "      <td>...</td>\n",
       "      <td>0.0</td>\n",
       "      <td>0.0</td>\n",
       "      <td>0.0</td>\n",
       "      <td>0.0</td>\n",
       "      <td>0.0</td>\n",
       "      <td>0.0</td>\n",
       "      <td>0.0</td>\n",
       "      <td>0.0</td>\n",
       "      <td>0.0</td>\n",
       "      <td>0.0</td>\n",
       "    </tr>\n",
       "    <tr>\n",
       "      <th>3</th>\n",
       "      <td>0.0</td>\n",
       "      <td>0.0</td>\n",
       "      <td>0.0</td>\n",
       "      <td>0.0</td>\n",
       "      <td>0.0</td>\n",
       "      <td>0.0</td>\n",
       "      <td>0.0</td>\n",
       "      <td>0.0</td>\n",
       "      <td>0.0</td>\n",
       "      <td>0.0</td>\n",
       "      <td>...</td>\n",
       "      <td>0.0</td>\n",
       "      <td>0.0</td>\n",
       "      <td>0.0</td>\n",
       "      <td>0.0</td>\n",
       "      <td>0.0</td>\n",
       "      <td>0.0</td>\n",
       "      <td>0.0</td>\n",
       "      <td>0.0</td>\n",
       "      <td>0.0</td>\n",
       "      <td>0.0</td>\n",
       "    </tr>\n",
       "    <tr>\n",
       "      <th>4</th>\n",
       "      <td>0.0</td>\n",
       "      <td>0.0</td>\n",
       "      <td>0.0</td>\n",
       "      <td>0.0</td>\n",
       "      <td>0.0</td>\n",
       "      <td>0.0</td>\n",
       "      <td>0.0</td>\n",
       "      <td>0.0</td>\n",
       "      <td>0.0</td>\n",
       "      <td>0.0</td>\n",
       "      <td>...</td>\n",
       "      <td>0.0</td>\n",
       "      <td>0.0</td>\n",
       "      <td>0.0</td>\n",
       "      <td>0.0</td>\n",
       "      <td>0.0</td>\n",
       "      <td>0.0</td>\n",
       "      <td>0.0</td>\n",
       "      <td>0.0</td>\n",
       "      <td>0.0</td>\n",
       "      <td>0.0</td>\n",
       "    </tr>\n",
       "    <tr>\n",
       "      <th>...</th>\n",
       "      <td>...</td>\n",
       "      <td>...</td>\n",
       "      <td>...</td>\n",
       "      <td>...</td>\n",
       "      <td>...</td>\n",
       "      <td>...</td>\n",
       "      <td>...</td>\n",
       "      <td>...</td>\n",
       "      <td>...</td>\n",
       "      <td>...</td>\n",
       "      <td>...</td>\n",
       "      <td>...</td>\n",
       "      <td>...</td>\n",
       "      <td>...</td>\n",
       "      <td>...</td>\n",
       "      <td>...</td>\n",
       "      <td>...</td>\n",
       "      <td>...</td>\n",
       "      <td>...</td>\n",
       "      <td>...</td>\n",
       "      <td>...</td>\n",
       "    </tr>\n",
       "    <tr>\n",
       "      <th>168843</th>\n",
       "      <td>0.0</td>\n",
       "      <td>0.0</td>\n",
       "      <td>0.0</td>\n",
       "      <td>0.0</td>\n",
       "      <td>0.0</td>\n",
       "      <td>0.0</td>\n",
       "      <td>0.0</td>\n",
       "      <td>0.0</td>\n",
       "      <td>0.0</td>\n",
       "      <td>0.0</td>\n",
       "      <td>...</td>\n",
       "      <td>0.0</td>\n",
       "      <td>0.0</td>\n",
       "      <td>0.0</td>\n",
       "      <td>0.0</td>\n",
       "      <td>0.0</td>\n",
       "      <td>0.0</td>\n",
       "      <td>0.0</td>\n",
       "      <td>0.0</td>\n",
       "      <td>0.0</td>\n",
       "      <td>0.0</td>\n",
       "    </tr>\n",
       "    <tr>\n",
       "      <th>168844</th>\n",
       "      <td>0.0</td>\n",
       "      <td>0.0</td>\n",
       "      <td>0.0</td>\n",
       "      <td>0.0</td>\n",
       "      <td>0.0</td>\n",
       "      <td>0.0</td>\n",
       "      <td>0.0</td>\n",
       "      <td>0.0</td>\n",
       "      <td>0.0</td>\n",
       "      <td>0.0</td>\n",
       "      <td>...</td>\n",
       "      <td>0.0</td>\n",
       "      <td>0.0</td>\n",
       "      <td>0.0</td>\n",
       "      <td>0.0</td>\n",
       "      <td>0.0</td>\n",
       "      <td>0.0</td>\n",
       "      <td>0.0</td>\n",
       "      <td>0.0</td>\n",
       "      <td>0.0</td>\n",
       "      <td>0.0</td>\n",
       "    </tr>\n",
       "    <tr>\n",
       "      <th>168845</th>\n",
       "      <td>0.0</td>\n",
       "      <td>0.0</td>\n",
       "      <td>0.0</td>\n",
       "      <td>0.0</td>\n",
       "      <td>0.0</td>\n",
       "      <td>0.0</td>\n",
       "      <td>0.0</td>\n",
       "      <td>0.0</td>\n",
       "      <td>0.0</td>\n",
       "      <td>0.0</td>\n",
       "      <td>...</td>\n",
       "      <td>0.0</td>\n",
       "      <td>0.0</td>\n",
       "      <td>0.0</td>\n",
       "      <td>0.0</td>\n",
       "      <td>0.0</td>\n",
       "      <td>0.0</td>\n",
       "      <td>0.0</td>\n",
       "      <td>0.0</td>\n",
       "      <td>0.0</td>\n",
       "      <td>0.0</td>\n",
       "    </tr>\n",
       "    <tr>\n",
       "      <th>168846</th>\n",
       "      <td>0.0</td>\n",
       "      <td>0.0</td>\n",
       "      <td>0.0</td>\n",
       "      <td>0.0</td>\n",
       "      <td>0.0</td>\n",
       "      <td>0.0</td>\n",
       "      <td>0.0</td>\n",
       "      <td>0.0</td>\n",
       "      <td>0.0</td>\n",
       "      <td>0.0</td>\n",
       "      <td>...</td>\n",
       "      <td>0.0</td>\n",
       "      <td>0.0</td>\n",
       "      <td>0.0</td>\n",
       "      <td>0.0</td>\n",
       "      <td>0.0</td>\n",
       "      <td>0.0</td>\n",
       "      <td>0.0</td>\n",
       "      <td>0.0</td>\n",
       "      <td>0.0</td>\n",
       "      <td>0.0</td>\n",
       "    </tr>\n",
       "    <tr>\n",
       "      <th>168847</th>\n",
       "      <td>0.0</td>\n",
       "      <td>0.0</td>\n",
       "      <td>0.0</td>\n",
       "      <td>0.0</td>\n",
       "      <td>0.0</td>\n",
       "      <td>0.0</td>\n",
       "      <td>0.0</td>\n",
       "      <td>0.0</td>\n",
       "      <td>0.0</td>\n",
       "      <td>0.0</td>\n",
       "      <td>...</td>\n",
       "      <td>0.0</td>\n",
       "      <td>0.0</td>\n",
       "      <td>0.0</td>\n",
       "      <td>0.0</td>\n",
       "      <td>0.0</td>\n",
       "      <td>0.0</td>\n",
       "      <td>0.0</td>\n",
       "      <td>0.0</td>\n",
       "      <td>0.0</td>\n",
       "      <td>0.0</td>\n",
       "    </tr>\n",
       "  </tbody>\n",
       "</table>\n",
       "<p>168848 rows × 7500 columns</p>\n",
       "</div>"
      ],
      "text/plain": [
       "         05   10  100  1000  10000  1010  1015  1050  1090  10a  ...  zero  \\\n",
       "0       0.0  0.0  0.0   0.0    0.0   0.0   0.0   0.0   0.0  0.0  ...   0.0   \n",
       "1       0.0  0.0  0.0   0.0    0.0   0.0   0.0   0.0   0.0  0.0  ...   0.0   \n",
       "2       0.0  0.0  0.0   0.0    0.0   0.0   0.0   0.0   0.0  0.0  ...   0.0   \n",
       "3       0.0  0.0  0.0   0.0    0.0   0.0   0.0   0.0   0.0  0.0  ...   0.0   \n",
       "4       0.0  0.0  0.0   0.0    0.0   0.0   0.0   0.0   0.0  0.0  ...   0.0   \n",
       "...     ...  ...  ...   ...    ...   ...   ...   ...   ...  ...  ...   ...   \n",
       "168843  0.0  0.0  0.0   0.0    0.0   0.0   0.0   0.0   0.0  0.0  ...   0.0   \n",
       "168844  0.0  0.0  0.0   0.0    0.0   0.0   0.0   0.0   0.0  0.0  ...   0.0   \n",
       "168845  0.0  0.0  0.0   0.0    0.0   0.0   0.0   0.0   0.0  0.0  ...   0.0   \n",
       "168846  0.0  0.0  0.0   0.0    0.0   0.0   0.0   0.0   0.0  0.0  ...   0.0   \n",
       "168847  0.0  0.0  0.0   0.0    0.0   0.0   0.0   0.0   0.0  0.0  ...   0.0   \n",
       "\n",
       "        zinc  zip  ziploc  ziplock  zipper  zippered  zippers  zone  zoom  \n",
       "0        0.0  0.0     0.0      0.0     0.0       0.0      0.0   0.0   0.0  \n",
       "1        0.0  0.0     0.0      0.0     0.0       0.0      0.0   0.0   0.0  \n",
       "2        0.0  0.0     0.0      0.0     0.0       0.0      0.0   0.0   0.0  \n",
       "3        0.0  0.0     0.0      0.0     0.0       0.0      0.0   0.0   0.0  \n",
       "4        0.0  0.0     0.0      0.0     0.0       0.0      0.0   0.0   0.0  \n",
       "...      ...  ...     ...      ...     ...       ...      ...   ...   ...  \n",
       "168843   0.0  0.0     0.0      0.0     0.0       0.0      0.0   0.0   0.0  \n",
       "168844   0.0  0.0     0.0      0.0     0.0       0.0      0.0   0.0   0.0  \n",
       "168845   0.0  0.0     0.0      0.0     0.0       0.0      0.0   0.0   0.0  \n",
       "168846   0.0  0.0     0.0      0.0     0.0       0.0      0.0   0.0   0.0  \n",
       "168847   0.0  0.0     0.0      0.0     0.0       0.0      0.0   0.0   0.0  \n",
       "\n",
       "[168848 rows x 7500 columns]"
      ]
     },
     "execution_count": 9,
     "metadata": {},
     "output_type": "execute_result"
    }
   ],
   "source": [
    "X_tfidf_df"
   ]
  },
  {
   "cell_type": "code",
   "execution_count": 16,
   "metadata": {},
   "outputs": [],
   "source": [
    "# Split the data into training and test sets (80% train, 20% test)\n",
    "X_train, X_test, y_train, y_test = train_test_split(X_tfidf_df, y, test_size=0.2, random_state=42)"
   ]
  },
  {
   "cell_type": "markdown",
   "metadata": {},
   "source": [
    "<h1>NOTE: If you already have the trained models saved, the notebook will automatically reload it for you. Otherwise, it will create it and train it.</h1>"
   ]
  },
  {
   "cell_type": "markdown",
   "metadata": {},
   "source": [
    "## XGBoost"
   ]
  },
  {
   "cell_type": "markdown",
   "metadata": {},
   "source": [
    "Our first model of choice is eXtreme Gradient Boosting, a machine learning algorithm based on gradient boosting, which combines the outcome of weak learners, typically decision trees, to create a strong predictive model. It improves upon standard gradient through performance optimization.\n",
    "\n",
    "<figure style=\"width: 600px; height: 500px; display: block; margin: auto;\">\n",
    "    <img src=\"https://www.researchgate.net/publication/345327934/figure/fig3/AS:1022810793209856@1620868504478/Flow-chart-of-XGBoost.png\">\n",
    "</figure>\n",
    "\n",
    "Some of its hyperparameters include:\n",
    "\n",
    "+ `tree_method`: The algorithm used for constructing decision trees (`exact` for greedy construction, `approx`, `hist` and `gpu_hist`).\n",
    "+ `n_estimators`: The number of trees to train.\n",
    "+ `learning_rate`: The step size for each tree's contribution to the final prediction.\n",
    "+ `max_depth`: The maximum depth of each tree.\n",
    "+ `eval_metric`: The evaluation metric used for validation (`rmse` for regression, `logloss` and `mlogloss` for classification depending on the number of classes).\n",
    "+ `random_state`: The seed for the random number generation, a fixed number ensures the same results can be reproduced every time."
   ]
  },
  {
   "cell_type": "code",
   "execution_count": null,
   "metadata": {},
   "outputs": [],
   "source": [
    "# Initialize the model or load from file if it exists\n",
    "file = './models/xgb_tfidf_model.joblib'\n",
    "\n",
    "if os.path.exists(file):\n",
    "    xgb_tfidf_model = load_model(file)\n",
    "\n",
    "else:\n",
    "    print(\"Failed to fetch model file. Creating the model...\")\n",
    "    xgb_tfidf_model = xgb.XGBClassifier(\n",
    "        tree_method=\"gpu_hist\", # Use GPU acceleration\n",
    "        max_depth=6,\n",
    "        learning_rate=0.1,\n",
    "        n_estimators=300,\n",
    "        random_state=42,\n",
    "        verbosity=2, # Controls general logs\n",
    "        eval_metric=\"mlogloss\" # Multi-class log loss\n",
    "    )\n",
    "    print(\"Model created! Training...\")\n",
    "    xgb_tfidf_model.fit(X_train, y_train, eval_set=[(X_test, y_test)], verbose=True)"
   ]
  },
  {
   "cell_type": "code",
   "execution_count": 9,
   "metadata": {},
   "outputs": [
    {
     "data": {
      "image/png": "[encoded data removed]",
      "text/plain": [
       "<Figure size 1000x600 with 1 Axes>"
      ]
     },
     "metadata": {},
     "output_type": "display_data"
    }
   ],
   "source": [
    "# Extract the evaluation results (mlogloss) from the training process\n",
    "evals_result = xgb_tfidf_model.evals_result()\n",
    "\n",
    "# Plot the multi-log loss curve\n",
    "plt.figure(figsize=(10, 6))\n",
    "plt.plot(evals_result['validation_0']['mlogloss'], label='Validation Log Loss')\n",
    "plt.title('Multi-Class Log Loss Curve')\n",
    "plt.xlabel('Number of Boosting Rounds')\n",
    "plt.ylabel('Log Loss')\n",
    "plt.legend()\n",
    "plt.grid(True)\n",
    "plt.show()"
   ]
  },
  {
   "cell_type": "markdown",
   "metadata": {},
   "source": [
    "We notice a good curve where the log loss starts to cap at 0.57."
   ]
  },
  {
   "cell_type": "code",
   "execution_count": 10,
   "metadata": {},
   "outputs": [
    {
     "name": "stderr",
     "output_type": "stream",
     "text": [
      "c:\\Users\\Amine\\Desktop\\9raya\\NLP\\nlp_proj_venv\\Lib\\site-packages\\xgboost\\core.py:2676: UserWarning: [23:08:36] WARNING: C:\\actions-runner\\_work\\xgboost\\xgboost\\src\\common\\error_msg.cc:27: The tree method `gpu_hist` is deprecated since 2.0.0. To use GPU training, set the `device` parameter to CUDA instead.\n",
      "\n",
      "    E.g. tree_method = \"hist\", device = \"cuda\"\n",
      "\n",
      "  if len(data.shape) != 1 and self.num_features() != data.shape[1]:\n",
      "c:\\Users\\Amine\\Desktop\\9raya\\NLP\\nlp_proj_venv\\Lib\\site-packages\\xgboost\\core.py:729: UserWarning: [23:08:36] WARNING: C:\\actions-runner\\_work\\xgboost\\xgboost\\src\\common\\error_msg.cc:58: Falling back to prediction using DMatrix due to mismatched devices. This might lead to higher memory usage and slower performance. XGBoost is running on: cuda:0, while the input data is on: cpu.\n",
      "Potential solutions:\n",
      "- Use a data structure that matches the device ordinal in the booster.\n",
      "- Set the device for booster before call to inplace_predict.\n",
      "\n",
      "This warning will only be shown once.\n",
      "\n",
      "  return func(**kwargs)\n"
     ]
    },
    {
     "name": "stdout",
     "output_type": "stream",
     "text": [
      "Classification Report:\n",
      "              precision    recall  f1-score   support\n",
      "\n",
      "           0       0.73      0.79      0.76     11427\n",
      "           1       0.69      0.66      0.68     11372\n",
      "           2       0.85      0.82      0.83     10971\n",
      "\n",
      "    accuracy                           0.76     33770\n",
      "   macro avg       0.76      0.76      0.76     33770\n",
      "weighted avg       0.76      0.76      0.76     33770\n",
      "\n",
      "Confusion Matrix:\n",
      "[[9040 1996  391]\n",
      " [2607 7552 1213]\n",
      " [ 662 1360 8949]]\n"
     ]
    }
   ],
   "source": [
    "# Predict on the test set\n",
    "xgb_tfidf_y_pred = xgb_tfidf_model.predict(X_test)\n",
    "\n",
    "# Evaluate the model's performance\n",
    "print(\"Classification Report:\")\n",
    "print(classification_report(y_test, xgb_tfidf_y_pred))\n",
    "print(\"Confusion Matrix:\")\n",
    "print(confusion_matrix(y_test, xgb_tfidf_y_pred))"
   ]
  },
  {
   "cell_type": "markdown",
   "metadata": {},
   "source": [
    "The model, despite being trained on TF-IDF data, shows decent results across all classes with values of class 1 (Neutral) lower than its counterparts. The precision, recall and f1-score values show promising performance. But, will it hold up ? Let's find out!"
   ]
  },
  {
   "cell_type": "code",
   "execution_count": 42,
   "metadata": {},
   "outputs": [],
   "source": [
    "def map_results(predictions):\n",
    "    label_mapping = {0: \"Negative\", 1: \"Neutral\", 2: \"Good\"}\n",
    "    predicted_sentiments = [label_mapping[label] for label in predictions]\n",
    "\n",
    "    return predicted_sentiments"
   ]
  },
  {
   "cell_type": "code",
   "execution_count": 12,
   "metadata": {},
   "outputs": [],
   "source": [
    "# Example input text\n",
    "new_texts = [\"excellent product! Highly recommend it\", # Positive\n",
    "             \"very bad product, avoid at all costs!\", # Negative\n",
    "             \"I don't know, it's not bad but it's not too good either.\"] # Neutral\n",
    "\n",
    "# Transform the new text using the trained TF-IDF vectorizer\n",
    "new_texts = [remove_punctuation(text).lower() for text in new_texts]\n",
    "new_texts = [remove_stopwords(text) for text in new_texts]\n",
    "X_new = tfidf.transform(new_texts)"
   ]
  },
  {
   "cell_type": "markdown",
   "metadata": {},
   "source": [
    "Above are some test sentences that need to undergo the same data transformations as the training set (punctuation removal, deleting stopwords and lowercase in this context, there are no emojis though). Will the current model be able to correctly classify them ?"
   ]
  },
  {
   "cell_type": "code",
   "execution_count": 13,
   "metadata": {},
   "outputs": [
    {
     "name": "stdout",
     "output_type": "stream",
     "text": [
      "Review: excellent product highly recommend -> Sentiment: Good\n",
      "Review: bad product avoid costs -> Sentiment: Good\n",
      "Review: dont know not bad but not good either -> Sentiment: Good\n"
     ]
    }
   ],
   "source": [
    "# Predict class labels using the XGB model\n",
    "xgb_predicted_labels = xgb_tfidf_model.predict(X_new)\n",
    "\n",
    "predicted_sentiments = map_results(xgb_predicted_labels)\n",
    "\n",
    "# Print predictions\n",
    "for text, sentiment in zip(new_texts, predicted_sentiments):\n",
    "    print(f\"Review: {text} -> Sentiment: {sentiment}\")"
   ]
  },
  {
   "cell_type": "markdown",
   "metadata": {},
   "source": [
    "It seems our model couldn't properly classify these review texts."
   ]
  },
  {
   "cell_type": "code",
   "execution_count": null,
   "metadata": {},
   "outputs": [],
   "source": [
    "if not os.path.exists('./models/xgb_tfidf_model.joblib'):\n",
    "    joblib.dump(xgb_tfidf_model, './models/xgb_tfidf_model.joblib')"
   ]
  },
  {
   "cell_type": "markdown",
   "metadata": {},
   "source": [
    "## Random Forest"
   ]
  },
  {
   "cell_type": "markdown",
   "metadata": {},
   "source": [
    "Random Forest is a derivative of Decision Tree, an ensemble learning algorithm that builds multiple decision trees and combines their predictions to improve accuracy and reduce overfitting. It trains each tree on a random subset of the data, also known as `bagging`. The final prediction is made by majority voting (classification) or averaging (regression), making it robust and less prone to overfitting than individual decision trees.\n",
    "\n",
    "<figure style=\"width: 600px; height: 500px; display: block; margin: auto;\">\n",
    "    <img src=\"https://miro.medium.com/v2/resize:fit:1010/1*R3oJiyaQwyLUyLZL-scDpw.png\">\n",
    "</figure>"
   ]
  },
  {
   "cell_type": "markdown",
   "metadata": {},
   "source": [
    "We'll be simply setting the number of estimators `n_estimators` to 300 with a `max_depth` of 10. Note that, this time, we'll be training on the CPU since GPU support for Random Forest is only available through cuML, which doesn't support Windows yet."
   ]
  },
  {
   "cell_type": "code",
   "execution_count": null,
   "metadata": {},
   "outputs": [],
   "source": [
    "# Initialize the model or load from file if it exists\n",
    "file = './models/rf_tfidf_model.joblib'\n",
    "\n",
    "if os.path.exists(file):\n",
    "    rf_tfidf_model = load_model('./models/rf_tfidf_model.joblib')\n",
    "\n",
    "else:\n",
    "    print(\"Failed to fetch model file. Creating the model...\")\n",
    "    rf_tfidf_model = RandomForestClassifier(n_estimators=300, max_depth=10, random_state=42)\n",
    "    print(\"Model created! Training...\")\n",
    "    rf_tfidf_model.fit(X_train, y_train)"
   ]
  },
  {
   "cell_type": "code",
   "execution_count": 15,
   "metadata": {},
   "outputs": [
    {
     "name": "stdout",
     "output_type": "stream",
     "text": [
      "Classification Report:\n",
      "              precision    recall  f1-score   support\n",
      "\n",
      "           0       0.74      0.74      0.74     11427\n",
      "           1       0.70      0.57      0.63     11372\n",
      "           2       0.72      0.86      0.78     10971\n",
      "\n",
      "    accuracy                           0.72     33770\n",
      "   macro avg       0.72      0.72      0.72     33770\n",
      "weighted avg       0.72      0.72      0.72     33770\n",
      "\n",
      "Confusion Matrix:\n",
      "[[8476 1653 1298]\n",
      " [2544 6492 2336]\n",
      " [ 438 1120 9413]]\n"
     ]
    }
   ],
   "source": [
    "rf_tfidf_y_pred = rf_tfidf_model.predict(X_test)\n",
    "\n",
    "# Evaluate the model's performance\n",
    "print(\"Classification Report:\")\n",
    "print(classification_report(y_test, rf_tfidf_y_pred))\n",
    "print(\"Confusion Matrix:\")\n",
    "print(confusion_matrix(y_test, rf_tfidf_y_pred))"
   ]
  },
  {
   "cell_type": "code",
   "execution_count": 16,
   "metadata": {},
   "outputs": [
    {
     "name": "stdout",
     "output_type": "stream",
     "text": [
      "Review: excellent product highly recommend -> Sentiment: Good\n",
      "Review: bad product avoid costs -> Sentiment: Negative\n",
      "Review: dont know not bad but not good either -> Sentiment: Neutral\n"
     ]
    },
    {
     "name": "stderr",
     "output_type": "stream",
     "text": [
      "c:\\Users\\Amine\\Desktop\\9raya\\NLP\\nlp_proj_venv\\Lib\\site-packages\\sklearn\\utils\\validation.py:2739: UserWarning: X does not have valid feature names, but RandomForestClassifier was fitted with feature names\n",
      "  warnings.warn(\n"
     ]
    }
   ],
   "source": [
    "rf_predicted_labels = rf_tfidf_model.predict(X_new)\n",
    "\n",
    "predicted_sentiments = map_results(rf_predicted_labels)\n",
    "\n",
    "# Print predictions\n",
    "for text, sentiment in zip(new_texts, predicted_sentiments):\n",
    "    print(f\"Review: {text} -> Sentiment: {sentiment}\")"
   ]
  },
  {
   "cell_type": "markdown",
   "metadata": {},
   "source": [
    "This model seems to have properly classified the entered reviews."
   ]
  },
  {
   "cell_type": "code",
   "execution_count": null,
   "metadata": {},
   "outputs": [],
   "source": [
    "if not os.path.exists('./models/rf_tfidf_model.joblib'):\n",
    "    joblib.dump(rf_tfidf_model, './models/rf_tfidf_model.joblib')"
   ]
  },
  {
   "cell_type": "markdown",
   "metadata": {},
   "source": [
    "## Logistic Regression"
   ]
  },
  {
   "cell_type": "markdown",
   "metadata": {},
   "source": [
    "A statistical model usually used for binary classification, logistic regression has been adapted for multinomial tasks (multi-class classification). You can think of it as linear regression but for classification tasks. It works by outputting the probability of a class. Below is the mathematical formula:\n",
    "\n",
    "$\n",
    "\\begin{align}\n",
    "    P(y=1|x) = \\frac{1}{1+e^{-(w*x + b)}}\n",
    "\\end{align}\n",
    "$\n",
    "\n",
    "Where:\n",
    "+ $P(y=1|x)$ is the probability of class 1.\n",
    "+ $x$ represent the input features.\n",
    "+ $w$ are the weights.\n",
    "+ $b$ is the bias.\n",
    "\n",
    "For a multi-class task, the formula gets adapted as follows:\n",
    "\n",
    "$\n",
    "\\begin{align}\n",
    "    P(y=k|x) = \\frac{e^{w_{k}^{T}x + b_{k}}}{\\sum_{j=1}^{K} e^{w_{j}^{T}x+b_{j}}}\n",
    "\\end{align}\n",
    "$\n",
    "\n",
    "Where:\n",
    "+ $x$ is a feature vector.\n",
    "+ $w_k, b_k$ are the weights and bias for class $k$\n",
    "+ $K$ is the total number of classes.\n",
    "\n",
    "<figure style=\"width: 600px; height: 500px; display: block; margin: auto;\">\n",
    "    <img src=\"https://i.ytimg.com/vi/L0FU8NFpx4E/sddefault.jpg\">\n",
    "</figure>"
   ]
  },
  {
   "cell_type": "code",
   "execution_count": null,
   "metadata": {},
   "outputs": [],
   "source": [
    "# Initialize the model or load from file if it exists\n",
    "file = './models/xgb_tfidf_model.joblib'\n",
    "\n",
    "if os.path.exists(file):\n",
    "    lr_tfidf_model = load_model('./models/lr_tfidf_model.joblib')\n",
    "\n",
    "else:\n",
    "    print(\"Failed to fetch model file. Creating the model...\")\n",
    "    lr_tfidf_model = LogisticRegression(multi_class='multinomial', random_state=42) # 'multinomial' is better than 'ovr (one versus rest)' since the dataset is large and balanced\n",
    "    print(\"Model created! Training...\")\n",
    "    lr_tfidf_model.fit(X_train, y_train)"
   ]
  },
  {
   "cell_type": "code",
   "execution_count": 18,
   "metadata": {},
   "outputs": [
    {
     "name": "stdout",
     "output_type": "stream",
     "text": [
      "Classification Report:\n",
      "              precision    recall  f1-score   support\n",
      "\n",
      "           0       0.77      0.79      0.78     11427\n",
      "           1       0.70      0.69      0.70     11372\n",
      "           2       0.86      0.86      0.86     10971\n",
      "\n",
      "    accuracy                           0.78     33770\n",
      "   macro avg       0.78      0.78      0.78     33770\n",
      "weighted avg       0.78      0.78      0.78     33770\n",
      "\n",
      "Confusion Matrix:\n",
      "[[8973 2110  344]\n",
      " [2275 7841 1256]\n",
      " [ 334 1199 9438]]\n"
     ]
    }
   ],
   "source": [
    "lr_tfidf_y_pred = lr_tfidf_model.predict(X_test)\n",
    "\n",
    "# Evaluate the model's performance\n",
    "print(\"Classification Report:\")\n",
    "print(classification_report(y_test, lr_tfidf_y_pred))\n",
    "print(\"Confusion Matrix:\")\n",
    "print(confusion_matrix(y_test, lr_tfidf_y_pred))"
   ]
  },
  {
   "cell_type": "markdown",
   "metadata": {},
   "source": [
    "Results seem consistent across all labels with room for improvement, especially for label 1 (Neutral). Let's see how it performs."
   ]
  },
  {
   "cell_type": "code",
   "execution_count": 19,
   "metadata": {},
   "outputs": [
    {
     "name": "stdout",
     "output_type": "stream",
     "text": [
      "Review: excellent product highly recommend -> Sentiment: Good\n",
      "Review: bad product avoid costs -> Sentiment: Negative\n",
      "Review: dont know not bad but not good either -> Sentiment: Negative\n"
     ]
    },
    {
     "name": "stderr",
     "output_type": "stream",
     "text": [
      "c:\\Users\\Amine\\Desktop\\9raya\\NLP\\nlp_proj_venv\\Lib\\site-packages\\sklearn\\utils\\validation.py:2739: UserWarning: X does not have valid feature names, but LogisticRegression was fitted with feature names\n",
      "  warnings.warn(\n"
     ]
    }
   ],
   "source": [
    "lr_predicted_labels = lr_tfidf_model.predict(X_new)\n",
    "\n",
    "predicted_sentiments = map_results(lr_predicted_labels)\n",
    "\n",
    "# Print predictions\n",
    "for text, sentiment in zip(new_texts, predicted_sentiments):\n",
    "    print(f\"Review: {text} -> Sentiment: {sentiment}\")"
   ]
  },
  {
   "cell_type": "markdown",
   "metadata": {},
   "source": [
    "This model has been able to properly classify the first 2 reviews but misinterpreted the last one. However, it still performed better than XGBoost."
   ]
  },
  {
   "cell_type": "code",
   "execution_count": null,
   "metadata": {},
   "outputs": [],
   "source": [
    "if not os.path.exists('./models/lr_tfidf_model.joblib'):\n",
    "    joblib.dump(lr_tfidf_model, './models/lr_tfidf_model.joblib')"
   ]
  },
  {
   "cell_type": "markdown",
   "metadata": {},
   "source": [
    "## Naive Bayes (Multinomial)"
   ]
  },
  {
   "cell_type": "markdown",
   "metadata": {},
   "source": [
    "Multinomial Naive Bayes is a probabilistic classification algorithm used primarily for discrete count data, like word counts in text classification. It assumes that $\\textbf{features follow a multinomial distribution given its class and that said features are conditionally independent given the class}$. Let's break it down for our case.\n",
    "\n",
    "Let's say we have the following review (document):\n",
    "+ The document: \"great product great\"\n",
    "+ Feature vector: {\"great\": 2, \"product\": 1}\n",
    "\n",
    "And you're in the $\\textbf{Positive}$ class. This assumes that there's a probability for \"great\" independent from the probability of \"product\" for the class. It also assumes that the document's word counts were generated based on those probabilities.\n",
    "\n",
    "This is why this should work well with a TF-IDF approach. Let's try it below!"
   ]
  },
  {
   "cell_type": "code",
   "execution_count": null,
   "metadata": {},
   "outputs": [],
   "source": [
    "file = './models/nb_tfidf_model.joblib'\n",
    "\n",
    "if os.path.exists(file):\n",
    "    nb_tfidf_model = load_model(file)\n",
    "\n",
    "else:\n",
    "    print(\"Failed to fetch model file. Creating model...\")\n",
    "    nb_tfidf_model = MultinomialNB()\n",
    "    print(\"Model created! Training...\")\n",
    "    nb_tfidf_model.fit(X_train, y_train)"
   ]
  },
  {
   "cell_type": "code",
   "execution_count": 21,
   "metadata": {},
   "outputs": [
    {
     "name": "stdout",
     "output_type": "stream",
     "text": [
      "Classification Report:\n",
      "              precision    recall  f1-score   support\n",
      "\n",
      "           0       0.74      0.72      0.73     11427\n",
      "           1       0.70      0.56      0.62     11372\n",
      "           2       0.70      0.86      0.77     10971\n",
      "\n",
      "    accuracy                           0.71     33770\n",
      "   macro avg       0.71      0.71      0.71     33770\n",
      "weighted avg       0.71      0.71      0.71     33770\n",
      "\n",
      "Confusion Matrix:\n",
      "[[8255 1662 1510]\n",
      " [2484 6338 2550]\n",
      " [ 470 1106 9395]]\n"
     ]
    }
   ],
   "source": [
    "nb_tfidf_y_pred = nb_tfidf_model.predict(X_test)\n",
    "\n",
    "print(\"Classification Report:\")\n",
    "print(classification_report(y_test, nb_tfidf_y_pred))\n",
    "print(\"Confusion Matrix:\")\n",
    "print(confusion_matrix(y_test, nb_tfidf_y_pred))"
   ]
  },
  {
   "cell_type": "markdown",
   "metadata": {},
   "source": [
    "A bad recall and f1-score on label 1 would result in poor performance. Otherwise, the other results seem decent. Let's test the model below."
   ]
  },
  {
   "cell_type": "code",
   "execution_count": 22,
   "metadata": {},
   "outputs": [
    {
     "name": "stdout",
     "output_type": "stream",
     "text": [
      "Review: excellent product highly recommend -> Sentiment: Good\n",
      "Review: bad product avoid costs -> Sentiment: Good\n",
      "Review: dont know not bad but not good either -> Sentiment: Neutral\n"
     ]
    },
    {
     "name": "stderr",
     "output_type": "stream",
     "text": [
      "c:\\Users\\Amine\\Desktop\\9raya\\NLP\\nlp_proj_venv\\Lib\\site-packages\\sklearn\\utils\\validation.py:2739: UserWarning: X does not have valid feature names, but RandomForestClassifier was fitted with feature names\n",
      "  warnings.warn(\n"
     ]
    }
   ],
   "source": [
    "nb_predicted_labels = nb_tfidf_model.predict(X_new)\n",
    "\n",
    "predicted_sentiments = map_results(nb_predicted_labels)\n",
    "\n",
    "# Print predictions\n",
    "for text, sentiment in zip(new_texts, predicted_sentiments):\n",
    "    print(f\"Review: {text} -> Sentiment: {sentiment}\")"
   ]
  },
  {
   "cell_type": "markdown",
   "metadata": {},
   "source": [
    "The lack of diverse vocab could explain the struggle of the model to classify the texts."
   ]
  },
  {
   "cell_type": "code",
   "execution_count": null,
   "metadata": {},
   "outputs": [],
   "source": [
    "if not os.path.exists('./models/nb_tfidf_model.joblib'):\n",
    "    joblib.dump(rf_tfidf_model, './models/nb_tfidf_model.joblib')"
   ]
  },
  {
   "cell_type": "markdown",
   "metadata": {},
   "source": [
    "We've tried some supervised algorithms with a word frequency approach. So far, the \"Random Forest\" model seems to be the most performing, despite the close metrics with other tested algorithms. Now, let's move on to unsupervised ones, primarily \"K-Means\" clustering."
   ]
  },
  {
   "cell_type": "markdown",
   "metadata": {},
   "source": [
    "## K-Means"
   ]
  },
  {
   "cell_type": "markdown",
   "metadata": {},
   "source": [
    "This algorithm will divide the dataset into a pre-defined number of classes (clusters to be more technical). It allows us to group data point such that points within each cluster are as similar as possible.\n",
    "\n",
    "<figure style=\"width: 600px; height: 500px; display: block; margin: auto;\">\n",
    "    <img src=\"https://upload.wikimedia.org/wikipedia/commons/e/ea/K-means_convergence.gif\">\n",
    "</figure>"
   ]
  },
  {
   "cell_type": "markdown",
   "metadata": {},
   "source": [
    "These are the steps for this algorithm:\n",
    "\n",
    "1) Select random $k$ initial centroids.\n",
    "2) Assign each datapoint to the nearest centroid (it calculates euclidian distance by default).\n",
    "3) Recompute the $k$ centroids as the average of the points assigned to each cluster.\n",
    "4) Repeat steps 2 and 3 until no major changes occur in the clusters or a certain number of iterations is reached. "
   ]
  },
  {
   "cell_type": "code",
   "execution_count": 13,
   "metadata": {},
   "outputs": [
    {
     "name": "stdout",
     "output_type": "stream",
     "text": [
      "Trying to load model from file ./models/kmeans_tfidf_model.joblib...\n",
      "Loaded model successfully!\n"
     ]
    }
   ],
   "source": [
    "file = './models/kmeans_tfidf_model.joblib'\n",
    "num_clusters = 3\n",
    "\n",
    "if os.path.exists(file):\n",
    "    kmeans_tfidf_model = load_model(file)\n",
    "\n",
    "else:\n",
    "    print(\"Failed to fetch model file. Creating model...\")\n",
    "    kmeans_tfidf_model = KMeans(n_clusters=num_clusters, random_state=10, n_init=10)\n",
    "    print(\"Model created! Training...\")\n",
    "    kmeans_tfidf_model.fit(X_train)"
   ]
  },
  {
   "cell_type": "code",
   "execution_count": 14,
   "metadata": {},
   "outputs": [],
   "source": [
    "kmeans_labels = kmeans_tfidf_model.labels_"
   ]
  },
  {
   "cell_type": "code",
   "execution_count": 19,
   "metadata": {},
   "outputs": [
    {
     "data": {
      "image/png": "[encoded data removed]",
      "text/plain": [
       "<Figure size 800x500 with 1 Axes>"
      ]
     },
     "metadata": {},
     "output_type": "display_data"
    }
   ],
   "source": [
    "# Plot cluster distribution\n",
    "plt.figure(figsize=(8, 5))\n",
    "plt.hist(kmeans_labels, bins=np.arange(num_clusters + 1) - 0.5, edgecolor='black', alpha=0.7)\n",
    "plt.xticks(range(num_clusters))\n",
    "plt.xlabel(\"Cluster\")\n",
    "plt.ylabel(\"Number of Texts\")\n",
    "plt.title(\"Distribution of Texts Across Clusters\")\n",
    "plt.show()"
   ]
  },
  {
   "cell_type": "markdown",
   "metadata": {},
   "source": [
    "The model doesn't perform well with TF-IDF. This is to be expected since this technique doesn't capture semantic relations between words by calculating the distances in a vector space."
   ]
  },
  {
   "cell_type": "code",
   "execution_count": null,
   "metadata": {},
   "outputs": [
    {
     "data": {
      "text/plain": [
       "['./models/kmeans_tfidf_model.joblib']"
      ]
     },
     "execution_count": 79,
     "metadata": {},
     "output_type": "execute_result"
    }
   ],
   "source": [
    "if not os.path.exists('./models/kmeans_tfidf_model.joblib'):\n",
    "    joblib.dump(kmeans_tfidf_model, './models/kmeans_tfidf_model.joblib')"
   ]
  },
  {
   "cell_type": "markdown",
   "metadata": {},
   "source": [
    "## Truncated SVD (Singular Value Decomposition)"
   ]
  },
  {
   "cell_type": "markdown",
   "metadata": {},
   "source": [
    "Truncated SVD is a dimensionality reduction technique that works by reducing the number of features while preserving as much of the original structure as possible."
   ]
  },
  {
   "cell_type": "code",
   "execution_count": 20,
   "metadata": {},
   "outputs": [
    {
     "name": "stdout",
     "output_type": "stream",
     "text": [
      "Trying to load model from file ./models/svd_tfidf_model.joblib...\n",
      "Loaded model successfully!\n",
      "Fitting dimensionally reduced data to K-Means...\n"
     ]
    },
    {
     "data": {
      "text/html": [
       "<style>#sk-container-id-2 {\n",
       "  /* Definition of color scheme common for light and dark mode */\n",
       "  --sklearn-color-text: #000;\n",
       "  --sklearn-color-text-muted: #666;\n",
       "  --sklearn-color-line: gray;\n",
       "  /* Definition of color scheme for unfitted estimators */\n",
       "  --sklearn-color-unfitted-level-0: #fff5e6;\n",
       "  --sklearn-color-unfitted-level-1: #f6e4d2;\n",
       "  --sklearn-color-unfitted-level-2: #ffe0b3;\n",
       "  --sklearn-color-unfitted-level-3: chocolate;\n",
       "  /* Definition of color scheme for fitted estimators */\n",
       "  --sklearn-color-fitted-level-0: #f0f8ff;\n",
       "  --sklearn-color-fitted-level-1: #d4ebff;\n",
       "  --sklearn-color-fitted-level-2: #b3dbfd;\n",
       "  --sklearn-color-fitted-level-3: cornflowerblue;\n",
       "\n",
       "  /* Specific color for light theme */\n",
       "  --sklearn-color-text-on-default-background: var(--sg-text-color, var(--theme-code-foreground, var(--jp-content-font-color1, black)));\n",
       "  --sklearn-color-background: var(--sg-background-color, var(--theme-background, var(--jp-layout-color0, white)));\n",
       "  --sklearn-color-border-box: var(--sg-text-color, var(--theme-code-foreground, var(--jp-content-font-color1, black)));\n",
       "  --sklearn-color-icon: #696969;\n",
       "\n",
       "  @media (prefers-color-scheme: dark) {\n",
       "    /* Redefinition of color scheme for dark theme */\n",
       "    --sklearn-color-text-on-default-background: var(--sg-text-color, var(--theme-code-foreground, var(--jp-content-font-color1, white)));\n",
       "    --sklearn-color-background: var(--sg-background-color, var(--theme-background, var(--jp-layout-color0, #111)));\n",
       "    --sklearn-color-border-box: var(--sg-text-color, var(--theme-code-foreground, var(--jp-content-font-color1, white)));\n",
       "    --sklearn-color-icon: #878787;\n",
       "  }\n",
       "}\n",
       "\n",
       "#sk-container-id-2 {\n",
       "  color: var(--sklearn-color-text);\n",
       "}\n",
       "\n",
       "#sk-container-id-2 pre {\n",
       "  padding: 0;\n",
       "}\n",
       "\n",
       "#sk-container-id-2 input.sk-hidden--visually {\n",
       "  border: 0;\n",
       "  clip: rect(1px 1px 1px 1px);\n",
       "  clip: rect(1px, 1px, 1px, 1px);\n",
       "  height: 1px;\n",
       "  margin: -1px;\n",
       "  overflow: hidden;\n",
       "  padding: 0;\n",
       "  position: absolute;\n",
       "  width: 1px;\n",
       "}\n",
       "\n",
       "#sk-container-id-2 div.sk-dashed-wrapped {\n",
       "  border: 1px dashed var(--sklearn-color-line);\n",
       "  margin: 0 0.4em 0.5em 0.4em;\n",
       "  box-sizing: border-box;\n",
       "  padding-bottom: 0.4em;\n",
       "  background-color: var(--sklearn-color-background);\n",
       "}\n",
       "\n",
       "#sk-container-id-2 div.sk-container {\n",
       "  /* jupyter's `normalize.less` sets `[hidden] { display: none; }`\n",
       "     but bootstrap.min.css set `[hidden] { display: none !important; }`\n",
       "     so we also need the `!important` here to be able to override the\n",
       "     default hidden behavior on the sphinx rendered scikit-learn.org.\n",
       "     See: https://github.com/scikit-learn/scikit-learn/issues/21755 */\n",
       "  display: inline-block !important;\n",
       "  position: relative;\n",
       "}\n",
       "\n",
       "#sk-container-id-2 div.sk-text-repr-fallback {\n",
       "  display: none;\n",
       "}\n",
       "\n",
       "div.sk-parallel-item,\n",
       "div.sk-serial,\n",
       "div.sk-item {\n",
       "  /* draw centered vertical line to link estimators */\n",
       "  background-image: linear-gradient(var(--sklearn-color-text-on-default-background), var(--sklearn-color-text-on-default-background));\n",
       "  background-size: 2px 100%;\n",
       "  background-repeat: no-repeat;\n",
       "  background-position: center center;\n",
       "}\n",
       "\n",
       "/* Parallel-specific style estimator block */\n",
       "\n",
       "#sk-container-id-2 div.sk-parallel-item::after {\n",
       "  content: \"\";\n",
       "  width: 100%;\n",
       "  border-bottom: 2px solid var(--sklearn-color-text-on-default-background);\n",
       "  flex-grow: 1;\n",
       "}\n",
       "\n",
       "#sk-container-id-2 div.sk-parallel {\n",
       "  display: flex;\n",
       "  align-items: stretch;\n",
       "  justify-content: center;\n",
       "  background-color: var(--sklearn-color-background);\n",
       "  position: relative;\n",
       "}\n",
       "\n",
       "#sk-container-id-2 div.sk-parallel-item {\n",
       "  display: flex;\n",
       "  flex-direction: column;\n",
       "}\n",
       "\n",
       "#sk-container-id-2 div.sk-parallel-item:first-child::after {\n",
       "  align-self: flex-end;\n",
       "  width: 50%;\n",
       "}\n",
       "\n",
       "#sk-container-id-2 div.sk-parallel-item:last-child::after {\n",
       "  align-self: flex-start;\n",
       "  width: 50%;\n",
       "}\n",
       "\n",
       "#sk-container-id-2 div.sk-parallel-item:only-child::after {\n",
       "  width: 0;\n",
       "}\n",
       "\n",
       "/* Serial-specific style estimator block */\n",
       "\n",
       "#sk-container-id-2 div.sk-serial {\n",
       "  display: flex;\n",
       "  flex-direction: column;\n",
       "  align-items: center;\n",
       "  background-color: var(--sklearn-color-background);\n",
       "  padding-right: 1em;\n",
       "  padding-left: 1em;\n",
       "}\n",
       "\n",
       "\n",
       "/* Toggleable style: style used for estimator/Pipeline/ColumnTransformer box that is\n",
       "clickable and can be expanded/collapsed.\n",
       "- Pipeline and ColumnTransformer use this feature and define the default style\n",
       "- Estimators will overwrite some part of the style using the `sk-estimator` class\n",
       "*/\n",
       "\n",
       "/* Pipeline and ColumnTransformer style (default) */\n",
       "\n",
       "#sk-container-id-2 div.sk-toggleable {\n",
       "  /* Default theme specific background. It is overwritten whether we have a\n",
       "  specific estimator or a Pipeline/ColumnTransformer */\n",
       "  background-color: var(--sklearn-color-background);\n",
       "}\n",
       "\n",
       "/* Toggleable label */\n",
       "#sk-container-id-2 label.sk-toggleable__label {\n",
       "  cursor: pointer;\n",
       "  display: flex;\n",
       "  width: 100%;\n",
       "  margin-bottom: 0;\n",
       "  padding: 0.5em;\n",
       "  box-sizing: border-box;\n",
       "  text-align: center;\n",
       "  align-items: start;\n",
       "  justify-content: space-between;\n",
       "  gap: 0.5em;\n",
       "}\n",
       "\n",
       "#sk-container-id-2 label.sk-toggleable__label .caption {\n",
       "  font-size: 0.6rem;\n",
       "  font-weight: lighter;\n",
       "  color: var(--sklearn-color-text-muted);\n",
       "}\n",
       "\n",
       "#sk-container-id-2 label.sk-toggleable__label-arrow:before {\n",
       "  /* Arrow on the left of the label */\n",
       "  content: \"▸\";\n",
       "  float: left;\n",
       "  margin-right: 0.25em;\n",
       "  color: var(--sklearn-color-icon);\n",
       "}\n",
       "\n",
       "#sk-container-id-2 label.sk-toggleable__label-arrow:hover:before {\n",
       "  color: var(--sklearn-color-text);\n",
       "}\n",
       "\n",
       "/* Toggleable content - dropdown */\n",
       "\n",
       "#sk-container-id-2 div.sk-toggleable__content {\n",
       "  max-height: 0;\n",
       "  max-width: 0;\n",
       "  overflow: hidden;\n",
       "  text-align: left;\n",
       "  /* unfitted */\n",
       "  background-color: var(--sklearn-color-unfitted-level-0);\n",
       "}\n",
       "\n",
       "#sk-container-id-2 div.sk-toggleable__content.fitted {\n",
       "  /* fitted */\n",
       "  background-color: var(--sklearn-color-fitted-level-0);\n",
       "}\n",
       "\n",
       "#sk-container-id-2 div.sk-toggleable__content pre {\n",
       "  margin: 0.2em;\n",
       "  border-radius: 0.25em;\n",
       "  color: var(--sklearn-color-text);\n",
       "  /* unfitted */\n",
       "  background-color: var(--sklearn-color-unfitted-level-0);\n",
       "}\n",
       "\n",
       "#sk-container-id-2 div.sk-toggleable__content.fitted pre {\n",
       "  /* unfitted */\n",
       "  background-color: var(--sklearn-color-fitted-level-0);\n",
       "}\n",
       "\n",
       "#sk-container-id-2 input.sk-toggleable__control:checked~div.sk-toggleable__content {\n",
       "  /* Expand drop-down */\n",
       "  max-height: 200px;\n",
       "  max-width: 100%;\n",
       "  overflow: auto;\n",
       "}\n",
       "\n",
       "#sk-container-id-2 input.sk-toggleable__control:checked~label.sk-toggleable__label-arrow:before {\n",
       "  content: \"▾\";\n",
       "}\n",
       "\n",
       "/* Pipeline/ColumnTransformer-specific style */\n",
       "\n",
       "#sk-container-id-2 div.sk-label input.sk-toggleable__control:checked~label.sk-toggleable__label {\n",
       "  color: var(--sklearn-color-text);\n",
       "  background-color: var(--sklearn-color-unfitted-level-2);\n",
       "}\n",
       "\n",
       "#sk-container-id-2 div.sk-label.fitted input.sk-toggleable__control:checked~label.sk-toggleable__label {\n",
       "  background-color: var(--sklearn-color-fitted-level-2);\n",
       "}\n",
       "\n",
       "/* Estimator-specific style */\n",
       "\n",
       "/* Colorize estimator box */\n",
       "#sk-container-id-2 div.sk-estimator input.sk-toggleable__control:checked~label.sk-toggleable__label {\n",
       "  /* unfitted */\n",
       "  background-color: var(--sklearn-color-unfitted-level-2);\n",
       "}\n",
       "\n",
       "#sk-container-id-2 div.sk-estimator.fitted input.sk-toggleable__control:checked~label.sk-toggleable__label {\n",
       "  /* fitted */\n",
       "  background-color: var(--sklearn-color-fitted-level-2);\n",
       "}\n",
       "\n",
       "#sk-container-id-2 div.sk-label label.sk-toggleable__label,\n",
       "#sk-container-id-2 div.sk-label label {\n",
       "  /* The background is the default theme color */\n",
       "  color: var(--sklearn-color-text-on-default-background);\n",
       "}\n",
       "\n",
       "/* On hover, darken the color of the background */\n",
       "#sk-container-id-2 div.sk-label:hover label.sk-toggleable__label {\n",
       "  color: var(--sklearn-color-text);\n",
       "  background-color: var(--sklearn-color-unfitted-level-2);\n",
       "}\n",
       "\n",
       "/* Label box, darken color on hover, fitted */\n",
       "#sk-container-id-2 div.sk-label.fitted:hover label.sk-toggleable__label.fitted {\n",
       "  color: var(--sklearn-color-text);\n",
       "  background-color: var(--sklearn-color-fitted-level-2);\n",
       "}\n",
       "\n",
       "/* Estimator label */\n",
       "\n",
       "#sk-container-id-2 div.sk-label label {\n",
       "  font-family: monospace;\n",
       "  font-weight: bold;\n",
       "  display: inline-block;\n",
       "  line-height: 1.2em;\n",
       "}\n",
       "\n",
       "#sk-container-id-2 div.sk-label-container {\n",
       "  text-align: center;\n",
       "}\n",
       "\n",
       "/* Estimator-specific */\n",
       "#sk-container-id-2 div.sk-estimator {\n",
       "  font-family: monospace;\n",
       "  border: 1px dotted var(--sklearn-color-border-box);\n",
       "  border-radius: 0.25em;\n",
       "  box-sizing: border-box;\n",
       "  margin-bottom: 0.5em;\n",
       "  /* unfitted */\n",
       "  background-color: var(--sklearn-color-unfitted-level-0);\n",
       "}\n",
       "\n",
       "#sk-container-id-2 div.sk-estimator.fitted {\n",
       "  /* fitted */\n",
       "  background-color: var(--sklearn-color-fitted-level-0);\n",
       "}\n",
       "\n",
       "/* on hover */\n",
       "#sk-container-id-2 div.sk-estimator:hover {\n",
       "  /* unfitted */\n",
       "  background-color: var(--sklearn-color-unfitted-level-2);\n",
       "}\n",
       "\n",
       "#sk-container-id-2 div.sk-estimator.fitted:hover {\n",
       "  /* fitted */\n",
       "  background-color: var(--sklearn-color-fitted-level-2);\n",
       "}\n",
       "\n",
       "/* Specification for estimator info (e.g. \"i\" and \"?\") */\n",
       "\n",
       "/* Common style for \"i\" and \"?\" */\n",
       "\n",
       ".sk-estimator-doc-link,\n",
       "a:link.sk-estimator-doc-link,\n",
       "a:visited.sk-estimator-doc-link {\n",
       "  float: right;\n",
       "  font-size: smaller;\n",
       "  line-height: 1em;\n",
       "  font-family: monospace;\n",
       "  background-color: var(--sklearn-color-background);\n",
       "  border-radius: 1em;\n",
       "  height: 1em;\n",
       "  width: 1em;\n",
       "  text-decoration: none !important;\n",
       "  margin-left: 0.5em;\n",
       "  text-align: center;\n",
       "  /* unfitted */\n",
       "  border: var(--sklearn-color-unfitted-level-1) 1pt solid;\n",
       "  color: var(--sklearn-color-unfitted-level-1);\n",
       "}\n",
       "\n",
       ".sk-estimator-doc-link.fitted,\n",
       "a:link.sk-estimator-doc-link.fitted,\n",
       "a:visited.sk-estimator-doc-link.fitted {\n",
       "  /* fitted */\n",
       "  border: var(--sklearn-color-fitted-level-1) 1pt solid;\n",
       "  color: var(--sklearn-color-fitted-level-1);\n",
       "}\n",
       "\n",
       "/* On hover */\n",
       "div.sk-estimator:hover .sk-estimator-doc-link:hover,\n",
       ".sk-estimator-doc-link:hover,\n",
       "div.sk-label-container:hover .sk-estimator-doc-link:hover,\n",
       ".sk-estimator-doc-link:hover {\n",
       "  /* unfitted */\n",
       "  background-color: var(--sklearn-color-unfitted-level-3);\n",
       "  color: var(--sklearn-color-background);\n",
       "  text-decoration: none;\n",
       "}\n",
       "\n",
       "div.sk-estimator.fitted:hover .sk-estimator-doc-link.fitted:hover,\n",
       ".sk-estimator-doc-link.fitted:hover,\n",
       "div.sk-label-container:hover .sk-estimator-doc-link.fitted:hover,\n",
       ".sk-estimator-doc-link.fitted:hover {\n",
       "  /* fitted */\n",
       "  background-color: var(--sklearn-color-fitted-level-3);\n",
       "  color: var(--sklearn-color-background);\n",
       "  text-decoration: none;\n",
       "}\n",
       "\n",
       "/* Span, style for the box shown on hovering the info icon */\n",
       ".sk-estimator-doc-link span {\n",
       "  display: none;\n",
       "  z-index: 9999;\n",
       "  position: relative;\n",
       "  font-weight: normal;\n",
       "  right: .2ex;\n",
       "  padding: .5ex;\n",
       "  margin: .5ex;\n",
       "  width: min-content;\n",
       "  min-width: 20ex;\n",
       "  max-width: 50ex;\n",
       "  color: var(--sklearn-color-text);\n",
       "  box-shadow: 2pt 2pt 4pt #999;\n",
       "  /* unfitted */\n",
       "  background: var(--sklearn-color-unfitted-level-0);\n",
       "  border: .5pt solid var(--sklearn-color-unfitted-level-3);\n",
       "}\n",
       "\n",
       ".sk-estimator-doc-link.fitted span {\n",
       "  /* fitted */\n",
       "  background: var(--sklearn-color-fitted-level-0);\n",
       "  border: var(--sklearn-color-fitted-level-3);\n",
       "}\n",
       "\n",
       ".sk-estimator-doc-link:hover span {\n",
       "  display: block;\n",
       "}\n",
       "\n",
       "/* \"?\"-specific style due to the `<a>` HTML tag */\n",
       "\n",
       "#sk-container-id-2 a.estimator_doc_link {\n",
       "  float: right;\n",
       "  font-size: 1rem;\n",
       "  line-height: 1em;\n",
       "  font-family: monospace;\n",
       "  background-color: var(--sklearn-color-background);\n",
       "  border-radius: 1rem;\n",
       "  height: 1rem;\n",
       "  width: 1rem;\n",
       "  text-decoration: none;\n",
       "  /* unfitted */\n",
       "  color: var(--sklearn-color-unfitted-level-1);\n",
       "  border: var(--sklearn-color-unfitted-level-1) 1pt solid;\n",
       "}\n",
       "\n",
       "#sk-container-id-2 a.estimator_doc_link.fitted {\n",
       "  /* fitted */\n",
       "  border: var(--sklearn-color-fitted-level-1) 1pt solid;\n",
       "  color: var(--sklearn-color-fitted-level-1);\n",
       "}\n",
       "\n",
       "/* On hover */\n",
       "#sk-container-id-2 a.estimator_doc_link:hover {\n",
       "  /* unfitted */\n",
       "  background-color: var(--sklearn-color-unfitted-level-3);\n",
       "  color: var(--sklearn-color-background);\n",
       "  text-decoration: none;\n",
       "}\n",
       "\n",
       "#sk-container-id-2 a.estimator_doc_link.fitted:hover {\n",
       "  /* fitted */\n",
       "  background-color: var(--sklearn-color-fitted-level-3);\n",
       "}\n",
       "</style><div id=\"sk-container-id-2\" class=\"sk-top-container\"><div class=\"sk-text-repr-fallback\"><pre>KMeans(n_clusters=3, n_init=10, random_state=10)</pre><b>In a Jupyter environment, please rerun this cell to show the HTML representation or trust the notebook. <br />On GitHub, the HTML representation is unable to render, please try loading this page with nbviewer.org.</b></div><div class=\"sk-container\" hidden><div class=\"sk-item\"><div class=\"sk-estimator fitted sk-toggleable\"><input class=\"sk-toggleable__control sk-hidden--visually\" id=\"sk-estimator-id-2\" type=\"checkbox\" checked><label for=\"sk-estimator-id-2\" class=\"sk-toggleable__label fitted sk-toggleable__label-arrow\"><div><div>KMeans</div></div><div><a class=\"sk-estimator-doc-link fitted\" rel=\"noreferrer\" target=\"_blank\" href=\"https://scikit-learn.org/1.6/modules/generated/sklearn.cluster.KMeans.html\">?<span>Documentation for KMeans</span></a><span class=\"sk-estimator-doc-link fitted\">i<span>Fitted</span></span></div></label><div class=\"sk-toggleable__content fitted\"><pre>KMeans(n_clusters=3, n_init=10, random_state=10)</pre></div> </div></div></div></div>"
      ],
      "text/plain": [
       "KMeans(n_clusters=3, n_init=10, random_state=10)"
      ]
     },
     "execution_count": 20,
     "metadata": {},
     "output_type": "execute_result"
    }
   ],
   "source": [
    "file = './models/svd_tfidf_model.joblib'\n",
    "\n",
    "if os.path.exists(file):\n",
    "    X_reduced = load_model(file)\n",
    "\n",
    "else:\n",
    "    print(\"Failed to fetch model file. Creating model...\")\n",
    "    svd_tfidf_model = TruncatedSVD(n_components=2)\n",
    "    print(\"Model created! Training...\")\n",
    "    X_reduced = svd_tfidf_model.fit_transform(X_train)\n",
    "\n",
    "kmeans_tfidf_model = KMeans(n_clusters=num_clusters, random_state=10, n_init=10)\n",
    "print(\"Fitting dimensionally reduced data to K-Means...\")\n",
    "# Apply K-Means on dimensionally reduced data\n",
    "kmeans_tfidf_model.fit(X_reduced)"
   ]
  },
  {
   "cell_type": "code",
   "execution_count": 21,
   "metadata": {},
   "outputs": [
    {
     "data": {
      "image/png": "[encoded data removed]",
      "text/plain": [
       "<Figure size 800x500 with 2 Axes>"
      ]
     },
     "metadata": {},
     "output_type": "display_data"
    }
   ],
   "source": [
    "kmeans_labels = kmeans_tfidf_model.labels_\n",
    "\n",
    "# Scatter plot of clusters\n",
    "plt.figure(figsize=(8, 5))\n",
    "plt.scatter(X_reduced[:, 0], X_reduced[:, 1], c=kmeans_labels, cmap='viridis', alpha=0.5)\n",
    "plt.xlabel(\"SVD Component 1\")\n",
    "plt.ylabel(\"SVD Component 2\")\n",
    "plt.title(\"K-Means Clustering of Text Data (SVD)\")\n",
    "plt.colorbar(label=\"Cluster\")\n",
    "plt.show()"
   ]
  },
  {
   "cell_type": "code",
   "execution_count": 22,
   "metadata": {},
   "outputs": [
    {
     "data": {
      "image/png": "[encoded data removed]",
      "text/plain": [
       "<Figure size 800x500 with 1 Axes>"
      ]
     },
     "metadata": {},
     "output_type": "display_data"
    }
   ],
   "source": [
    "# Plot cluster distribution\n",
    "plt.figure(figsize=(8, 5))\n",
    "plt.hist(kmeans_labels, bins=np.arange(num_clusters + 1) - 0.5, edgecolor='black', alpha=0.7)\n",
    "plt.xticks(range(num_clusters))\n",
    "plt.xlabel(\"Cluster\")\n",
    "plt.ylabel(\"Number of Texts\")\n",
    "plt.title(\"Distribution of Texts Across Clusters\")\n",
    "plt.show()"
   ]
  },
  {
   "cell_type": "markdown",
   "metadata": {},
   "source": [
    "The splits are still no near as awaited. Still, it's an improvement."
   ]
  },
  {
   "cell_type": "code",
   "execution_count": null,
   "metadata": {},
   "outputs": [
    {
     "data": {
      "text/plain": [
       "['./models/svd_tfidf_model.joblib']"
      ]
     },
     "execution_count": 28,
     "metadata": {},
     "output_type": "execute_result"
    }
   ],
   "source": [
    "if not os.path.exists('./models/svd_tfidf_model.joblib'):\n",
    "    joblib.dump(X_reduced, './models/svd_tfidf_model.joblib')"
   ]
  },
  {
   "cell_type": "markdown",
   "metadata": {},
   "source": [
    "# Word2Vec approach"
   ]
  },
  {
   "cell_type": "markdown",
   "metadata": {},
   "source": [
    "Instead of relying on term frequency, Word2Vec transforms words into dense vector representations that capture the semantic meaning. It uses a neural network trained on a large corpus to achieve this.\n",
    "\n",
    "There are two main architectures of Word2Vec:\n",
    "\n",
    "- CBOW (Continuous Bag of Words) which predicts a word from surrounding context.\n",
    "- Skip-Gram which perdicts surrounding words from a target word.\n",
    "\n",
    "<figure style=\"width: 600px; height: 500px; display: block; margin: auto;\">\n",
    "    <img src=\"https://israelg99.github.io/images/2017-03-23-Word2Vec-Explained/word2vec_diagrams.png\">\n",
    "</figure>"
   ]
  },
  {
   "cell_type": "markdown",
   "metadata": {},
   "source": [
    "We will start off by generating embeddings for our data. First, we need to transform our sentences to a list."
   ]
  },
  {
   "cell_type": "markdown",
   "metadata": {},
   "source": [
    "### Generate embeddings"
   ]
  },
  {
   "cell_type": "code",
   "execution_count": 23,
   "metadata": {},
   "outputs": [],
   "source": [
    "sentences = df['tokens'].tolist()"
   ]
  },
  {
   "cell_type": "code",
   "execution_count": 26,
   "metadata": {},
   "outputs": [
    {
     "data": {
      "text/plain": [
       "[['one', 'star', 'bad'],\n",
       " ['three', 'stars', 'okay'],\n",
       " ['missing',\n",
       "  'bottle',\n",
       "  'defective',\n",
       "  'sprayer',\n",
       "  'instead',\n",
       "  '4',\n",
       "  'bottles',\n",
       "  'received',\n",
       "  '3',\n",
       "  'one',\n",
       "  'sprayers',\n",
       "  'defective']]"
      ]
     },
     "execution_count": 26,
     "metadata": {},
     "output_type": "execute_result"
    }
   ],
   "source": [
    "sentences[:3]"
   ]
  },
  {
   "cell_type": "markdown",
   "metadata": {},
   "source": [
    "Next up, we'll load the already trained model or create it and train it if its file doesn't exist.\n",
    "\n",
    "Some parameters when defining the model include:\n",
    "\n",
    "- vector_size: the vector dimension of each word. A higher dimension will capture semantic detail but will require more memory and time to train.\n",
    "- window: the context window (how many word before and after are checked). A higher value will capture semantic relations better.\n",
    "- min_count: ignore all words with a total count less the threshold. "
   ]
  },
  {
   "cell_type": "markdown",
   "metadata": {},
   "source": [
    "## Create the Word2Vec model or load if it's saved"
   ]
  },
  {
   "cell_type": "code",
   "execution_count": 30,
   "metadata": {},
   "outputs": [
    {
     "name": "stdout",
     "output_type": "stream",
     "text": [
      "Trying to load model from file ./models/word2vec.model...\n",
      "Loaded model successfully!\n"
     ]
    }
   ],
   "source": [
    "file = './models/word2vec.model'\n",
    "\n",
    "if os.path.exists(file):\n",
    "    word2vec_model = load_model(file)\n",
    "\n",
    "else:\n",
    "    print(\"Failed to fetch model file. Creating...\")\n",
    "    word2vec_model = Word2Vec(sentences=sentences, vector_size=100, window=16, min_count=1, workers=4, epochs=10)\n",
    "    print(\"Model created!\")\n",
    "    if not os.path.exists(file):\n",
    "        word2vec_model.save(file)\n",
    "        print(\"Model saved!\")"
   ]
  },
  {
   "cell_type": "markdown",
   "metadata": {},
   "source": [
    "Let's get the embeddings of a word."
   ]
  },
  {
   "cell_type": "code",
   "execution_count": 34,
   "metadata": {},
   "outputs": [
    {
     "name": "stdout",
     "output_type": "stream",
     "text": [
      "[-1.3638482  -3.0990782   0.9058887   1.387734   -0.9586647  -1.5450629\n",
      " -1.5349272  -0.10324144  1.6417786  -1.8406616   1.645935    2.5549033\n",
      " -1.4038532  -0.845482   -1.6175296   0.3098475   0.35571507  2.4683917\n",
      "  0.68418235  1.0479997  -0.24099758 -0.47712678 -1.6781847   1.0733849\n",
      "  3.0199678  -0.9796755  -1.480551    0.72818834  1.6171952   0.5115614\n",
      "  2.3297875   2.7850258  -0.72032857  3.0164065   0.87408584 -1.2810904\n",
      " -0.15373112 -0.06561374  0.2057374   1.41069     1.5663363   1.8093778\n",
      " -0.7706048   0.87798375 -2.1721923   3.319968    1.3553375  -1.1211559\n",
      " -2.202855   -2.5543857   1.0440694  -0.62956816  1.8184737   0.29046878\n",
      " -2.3414805  -0.7886499  -2.090765    1.7233273   1.6056272   1.1984261\n",
      " -1.3815765  -2.8136451   3.2128778  -0.5686327  -0.51666623 -0.22660023\n",
      "  0.8773884   0.6726543  -0.6260462  -0.06642428  0.36541972 -0.09377273\n",
      " -2.2744794   0.43554428  0.38361117  0.1440682  -0.7828249  -2.968183\n",
      " -3.1424668   0.01295327  3.0873492  -2.1914618  -0.1393812   0.05571296\n",
      "  2.1459346  -0.34373     1.5856687  -0.16481239 -0.50320596  1.7109121\n",
      "  1.2312386  -0.7400446  -0.03327037 -0.26937816 -0.55663615  1.2872939\n",
      "  4.365639   -3.1719298   2.749782   -0.7526444 ]\n"
     ]
    }
   ],
   "source": [
    "word_vector = word2vec_model.wv[\"great\"] # Get vector for the word \"great\"\n",
    "print(word_vector)"
   ]
  },
  {
   "cell_type": "markdown",
   "metadata": {},
   "source": [
    "### Small similarity test"
   ]
  },
  {
   "cell_type": "code",
   "execution_count": 35,
   "metadata": {},
   "outputs": [
    {
     "name": "stdout",
     "output_type": "stream",
     "text": [
      "Similar word of 'great': [('good', 0.7259478569030762), ('awesome', 0.6184465885162354), ('amazing', 0.5890615582466125), ('nice', 0.5704588890075684), ('fantastic', 0.5672759413719177)]\n",
      "Similar word of 'worst': [('loudest', 0.6316258907318115), ('ugliest', 0.6065316796302795), ('thinnest', 0.5998057126998901), ('worse', 0.5890233516693115), ('absolute', 0.5824419856071472)]\n",
      "Similar word of 'average': [('terms', 0.5895516872406006), ('adultsized', 0.556084156036377), ('adequate', 0.5211485028266907), ('higher', 0.5140167474746704), ('circumference', 0.4974731504917145)]\n"
     ]
    }
   ],
   "source": [
    "test_words = [\"great\", \"worst\", \"average\",]\n",
    "\n",
    "for word in test_words:\n",
    "    similar_words = word2vec_model.wv.most_similar(word, topn=5)\n",
    "    print(f\"Similar word of '{word}': {similar_words}\")"
   ]
  },
  {
   "cell_type": "markdown",
   "metadata": {},
   "source": [
    "## Vectorization"
   ]
  },
  {
   "cell_type": "code",
   "execution_count": null,
   "metadata": {},
   "outputs": [],
   "source": [
    "def get_sentence_vector(sentence: Union[str, list], model: Word2Vec) -> np.ndarray:\n",
    "    \"\"\"\"\n",
    "    Takes a sentence and created a vector of embeddings,\n",
    "    this function assumes that the sentence is already\n",
    "    pre-processed (e.g. lower text, removed emojis, stopwords, punctuation, etc.).\n",
    "\n",
    "    Args:\n",
    "      sentence: either a list of tokens or a string.\n",
    "      model: the Word2Vec model.\n",
    "\n",
    "    Returns:\n",
    "      a numpy array representing the embedding vector\n",
    "    \"\"\"\n",
    "\n",
    "    if not isinstance(sentence, list):\n",
    "        words = sentence.split()\n",
    "    else:\n",
    "        words = sentence\n",
    "    \n",
    "    # Collect word vectors for each word in the sentence\n",
    "    word_vectors = [model.wv[word] for word in words if word in model.wv]\n",
    "    \n",
    "    # If no words found in model, return a vector of zeros\n",
    "    if len(word_vectors) == 0:\n",
    "        return np.zeros(model.vector_size)\n",
    "    \n",
    "    # Return the mean of the word vectors\n",
    "    return np.mean(word_vectors, axis=0)"
   ]
  },
  {
   "cell_type": "code",
   "execution_count": 35,
   "metadata": {},
   "outputs": [
    {
     "name": "stdout",
     "output_type": "stream",
     "text": [
      "[ 1.5451374   0.27771905 -1.4111625  -1.0300173  -1.2527977   1.0231632\n",
      " -1.3883901  -0.8395501  -0.7728316   0.2078421  -1.1692767  -1.6573492\n",
      " -0.2725357  -0.63697654  0.22349195 -2.664951   -0.03335091  0.5029711\n",
      "  0.1893868   2.2739627  -0.6181981   1.4369766  -0.6014728   0.17241172\n",
      " -2.0669982  -0.520802   -0.6678373   0.66857404 -0.59718096  1.0478545\n",
      "  0.4921148  -0.08163712  0.09688082  2.0903738   0.56204313 -1.4891748\n",
      "  1.0946611   0.49746308 -1.1743102   1.5913922   1.3556296   0.3598225\n",
      "  0.2956139   0.71593    -1.2558073  -2.1616342  -0.56438637 -0.12539761\n",
      " -0.17620826 -0.10827595  0.4851153   1.3852592   0.5124249  -1.138217\n",
      " -0.9587915   0.38857856  0.8515664   0.15436006  0.8285888   1.5822595\n",
      " -0.791231   -0.0727394  -0.9806567   0.04674466  1.0475044  -2.6764657\n",
      "  0.5557454   2.0319786  -0.1242163  -1.8023248   1.6692547   0.5999075\n",
      " -0.12509744  0.48192295  0.97588414 -0.69458467 -0.61596024  0.4324106\n",
      "  1.0286037   0.09698633 -0.31412148 -0.43222126  0.01230745 -0.20381336\n",
      " -0.8496148  -1.268623   -0.95964575  0.7907322  -0.25135097  1.3426204\n",
      " -1.5390396   2.2562063   0.7743442  -0.41852832 -0.583352   -0.79970866\n",
      " -0.5377454   0.24848099 -0.5729399   0.48636064]\n"
     ]
    }
   ],
   "source": [
    "# Example: Get the sentence vector for a preprocessed sentence\n",
    "sentence = ['hate', 'this', 'product']  # Example tokenized sentence\n",
    "sentence_vector = get_sentence_vector(sentence, word2vec_model)\n",
    "print(sentence_vector)"
   ]
  },
  {
   "cell_type": "markdown",
   "metadata": {},
   "source": [
    "It's time to embed our data and train some models, we will use the same ones as in the TF-IDF section."
   ]
  },
  {
   "cell_type": "code",
   "execution_count": 36,
   "metadata": {},
   "outputs": [],
   "source": [
    "sentences = df['tokens'].tolist()\n",
    "labels = df['label'].tolist()\n",
    "\n",
    "X = np.array([get_sentence_vector(sentence, word2vec_model) for sentence in sentences])\n",
    "y = np.array(labels)\n",
    "\n",
    "X_train, X_test, y_train, y_test = train_test_split(X, y, test_size=0.2, random_state=42)"
   ]
  },
  {
   "cell_type": "markdown",
   "metadata": {},
   "source": [
    "## XGBoost"
   ]
  },
  {
   "cell_type": "code",
   "execution_count": 37,
   "metadata": {},
   "outputs": [
    {
     "name": "stdout",
     "output_type": "stream",
     "text": [
      "Trying to load model from file ./models/xgb_word2vec_model.joblib...\n",
      "Loaded model successfully!\n"
     ]
    }
   ],
   "source": [
    "file = './models/xgb_word2vec_model.joblib'\n",
    "\n",
    "if os.path.exists(file):\n",
    "    xgb_word2vec_model = load_model(file)\n",
    "\n",
    "else:\n",
    "    print(\"Failed to fetch model file. Creating model...\")\n",
    "    xgb_word2vec_model = xgb.XGBClassifier(\n",
    "        tree_method=\"gpu_hist\", # Use GPU acceleration\n",
    "        max_depth=6,\n",
    "        learning_rate=0.1,\n",
    "        n_estimators=300,\n",
    "        random_state=42,\n",
    "        verbosity=2, # Controls general logs\n",
    "        eval_metric=\"mlogloss\" # Multi-class log loss\n",
    "    )\n",
    "    print(\"Model created! Training...\")\n",
    "    xgb_word2vec_model.fit(X_train, y_train, eval_set=[(X_test, y_test)], verbose=True)"
   ]
  },
  {
   "cell_type": "code",
   "execution_count": 38,
   "metadata": {},
   "outputs": [
    {
     "name": "stderr",
     "output_type": "stream",
     "text": [
      "c:\\Users\\Amine\\Desktop\\9raya\\NLP\\nlp_proj_venv\\Lib\\site-packages\\xgboost\\core.py:2676: UserWarning: [22:26:29] WARNING: C:\\actions-runner\\_work\\xgboost\\xgboost\\src\\common\\error_msg.cc:27: The tree method `gpu_hist` is deprecated since 2.0.0. To use GPU training, set the `device` parameter to CUDA instead.\n",
      "\n",
      "    E.g. tree_method = \"hist\", device = \"cuda\"\n",
      "\n",
      "  if len(data.shape) != 1 and self.num_features() != data.shape[1]:\n",
      "c:\\Users\\Amine\\Desktop\\9raya\\NLP\\nlp_proj_venv\\Lib\\site-packages\\xgboost\\core.py:729: UserWarning: [22:26:29] WARNING: C:\\actions-runner\\_work\\xgboost\\xgboost\\src\\common\\error_msg.cc:58: Falling back to prediction using DMatrix due to mismatched devices. This might lead to higher memory usage and slower performance. XGBoost is running on: cuda:0, while the input data is on: cpu.\n",
      "Potential solutions:\n",
      "- Use a data structure that matches the device ordinal in the booster.\n",
      "- Set the device for booster before call to inplace_predict.\n",
      "\n",
      "This warning will only be shown once.\n",
      "\n",
      "  return func(**kwargs)\n"
     ]
    },
    {
     "name": "stdout",
     "output_type": "stream",
     "text": [
      "Classification Report:\n",
      "              precision    recall  f1-score   support\n",
      "\n",
      "           0       0.77      0.76      0.76     11427\n",
      "           1       0.67      0.68      0.67     11372\n",
      "           2       0.84      0.83      0.84     10971\n",
      "\n",
      "    accuracy                           0.76     33770\n",
      "   macro avg       0.76      0.76      0.76     33770\n",
      "weighted avg       0.76      0.76      0.76     33770\n",
      "\n",
      "Confusion Matrix:\n",
      "[[8701 2355  371]\n",
      " [2303 7769 1300]\n",
      " [ 342 1536 9093]]\n"
     ]
    }
   ],
   "source": [
    "# Predict on the test set\n",
    "xgb_word2vec_y_pred = xgb_word2vec_model.predict(X_test)\n",
    "\n",
    "# Evaluate the model's performance\n",
    "print(\"Classification Report:\")\n",
    "print(classification_report(y_test, xgb_word2vec_y_pred))\n",
    "print(\"Confusion Matrix:\")\n",
    "print(confusion_matrix(y_test, xgb_word2vec_y_pred))"
   ]
  },
  {
   "cell_type": "code",
   "execution_count": null,
   "metadata": {},
   "outputs": [],
   "source": [
    "new_texts = [\"excellent product! Highly recommend it\",\n",
    "             \"very bad product, avoid at all costs!\",\n",
    "             \"I don't know, it's not bad but it's not too good either.\"] \n",
    "\n",
    "# Preprocess the text\n",
    "new_texts = [remove_punctuation(text).lower() for text in new_texts]\n",
    "new_texts_tokens = [text.split() for text in new_texts]"
   ]
  },
  {
   "cell_type": "code",
   "execution_count": 40,
   "metadata": {},
   "outputs": [],
   "source": [
    "new_texts_vectors = np.array([get_sentence_vector(tokens, word2vec_model) for tokens in new_texts_tokens])"
   ]
  },
  {
   "cell_type": "markdown",
   "metadata": {},
   "source": [
    "Time to try and classify."
   ]
  },
  {
   "cell_type": "code",
   "execution_count": 43,
   "metadata": {},
   "outputs": [
    {
     "name": "stdout",
     "output_type": "stream",
     "text": [
      "Review: excellent product highly recommend it -> Sentiment: Good\n",
      "Review: very bad product avoid at all costs -> Sentiment: Negative\n",
      "Review: i dont know its not bad but its not too good either -> Sentiment: Neutral\n"
     ]
    }
   ],
   "source": [
    "# Predict class labels using the XGB model\n",
    "xgb_predicted_labels = xgb_word2vec_model.predict(new_texts_vectors)\n",
    "\n",
    "predicted_sentiments = map_results(xgb_predicted_labels)\n",
    "\n",
    "# Print predictions\n",
    "for text, sentiment in zip(new_texts, predicted_sentiments):\n",
    "    print(f\"Review: {text} -> Sentiment: {sentiment}\")"
   ]
  },
  {
   "cell_type": "markdown",
   "metadata": {},
   "source": [
    "Our XGBoost model seems to be performing better with Word2Vec embeddings. It was able to properly classify the texts into their respective categories."
   ]
  },
  {
   "cell_type": "code",
   "execution_count": null,
   "metadata": {},
   "outputs": [
    {
     "data": {
      "text/plain": [
       "['./models/xgb_word2vec_model.joblib']"
      ]
     },
     "execution_count": 56,
     "metadata": {},
     "output_type": "execute_result"
    }
   ],
   "source": [
    "if not os.path.exists('./models/xgb_word2vec_model.joblib'):\n",
    "    joblib.dump(xgb_word2vec_model, './models/xgb_word2vec_model.joblib')"
   ]
  },
  {
   "cell_type": "markdown",
   "metadata": {},
   "source": [
    "## Random Forest"
   ]
  },
  {
   "cell_type": "code",
   "execution_count": null,
   "metadata": {},
   "outputs": [],
   "source": [
    "file = './models/rf_word2vec_model.joblib'\n",
    "\n",
    "if os.path.exists(file):\n",
    "    rf_word2vec_model = load_model(file)\n",
    "\n",
    "else:\n",
    "    print(\"Failed to fetch model file. Creating model...\")\n",
    "    rf_word2vec_model = RandomForestClassifier(n_estimators=300, max_depth=10, random_state=42)\n",
    "    print(\"Model created! Training...\")\n",
    "    rf_word2vec_model.fit(X_train, y_train)"
   ]
  },
  {
   "cell_type": "code",
   "execution_count": 48,
   "metadata": {},
   "outputs": [
    {
     "name": "stdout",
     "output_type": "stream",
     "text": [
      "Classification Report:\n",
      "              precision    recall  f1-score   support\n",
      "\n",
      "           0       0.73      0.73      0.73     11427\n",
      "           1       0.61      0.66      0.63     11372\n",
      "           2       0.81      0.76      0.79     10971\n",
      "\n",
      "    accuracy                           0.71     33770\n",
      "   macro avg       0.72      0.71      0.72     33770\n",
      "weighted avg       0.72      0.71      0.72     33770\n",
      "\n",
      "Confusion Matrix:\n",
      "[[8308 2628  491]\n",
      " [2494 7450 1428]\n",
      " [ 509 2103 8359]]\n"
     ]
    }
   ],
   "source": [
    "rf_y_word2vec_pred = rf_word2vec_model.predict(X_test)\n",
    "\n",
    "# Evaluate the model's performance\n",
    "print(\"Classification Report:\")\n",
    "print(classification_report(y_test, rf_y_word2vec_pred))\n",
    "print(\"Confusion Matrix:\")\n",
    "print(confusion_matrix(y_test, rf_y_word2vec_pred))"
   ]
  },
  {
   "cell_type": "code",
   "execution_count": null,
   "metadata": {},
   "outputs": [
    {
     "name": "stdout",
     "output_type": "stream",
     "text": [
      "Review: excellent product highly recommend it -> Sentiment: Good\n",
      "Review: very bad product avoid at all costs -> Sentiment: Negative\n",
      "Review: i dont know its not bad but its not too good either -> Sentiment: Neutral\n"
     ]
    }
   ],
   "source": [
    "rf_predicted_labels = rf_word2vec_model.predict(new_texts_vectors)\n",
    "\n",
    "predicted_sentiments = map_results(rf_predicted_labels)\n",
    "\n",
    "# Print predictions\n",
    "for text, sentiment in zip(new_texts, predicted_sentiments):\n",
    "    print(f\"Review: {text} -> Sentiment: {sentiment}\")"
   ]
  },
  {
   "cell_type": "markdown",
   "metadata": {},
   "source": [
    "The same goes for the \"Random Forest\" model, although it did perform well before too."
   ]
  },
  {
   "cell_type": "code",
   "execution_count": null,
   "metadata": {},
   "outputs": [
    {
     "data": {
      "text/plain": [
       "['./models/rf_word2vec_model.joblib']"
      ]
     },
     "execution_count": 61,
     "metadata": {},
     "output_type": "execute_result"
    }
   ],
   "source": [
    "if not os.path.exists('./models/rf_word2vec_model.joblib'):\n",
    "    joblib.dump(rf_word2vec_model, './models/rf_word2vec_model.joblib')"
   ]
  },
  {
   "cell_type": "markdown",
   "metadata": {},
   "source": [
    "## Logistic Regression"
   ]
  },
  {
   "cell_type": "code",
   "execution_count": null,
   "metadata": {},
   "outputs": [],
   "source": [
    "file = './models/lr_word2vec_model.joblib'\n",
    "if os.path.exists(file):\n",
    "    lr_word2vec_model = load_model(file)\n",
    "\n",
    "else:\n",
    "    print(\"Failed to fetch model file. Creating model...\")\n",
    "    lr_word2vec_model = LogisticRegression(multi_class='multinomial', random_state=42)\n",
    "    print(\"Model created! Training...\")\n",
    "    lr_word2vec_model.fit(X_train, y_train)"
   ]
  },
  {
   "cell_type": "code",
   "execution_count": 51,
   "metadata": {},
   "outputs": [
    {
     "name": "stdout",
     "output_type": "stream",
     "text": [
      "Classification Report:\n",
      "              precision    recall  f1-score   support\n",
      "\n",
      "           0       0.76      0.76      0.76     11427\n",
      "           1       0.67      0.67      0.67     11372\n",
      "           2       0.83      0.82      0.83     10971\n",
      "\n",
      "    accuracy                           0.75     33770\n",
      "   macro avg       0.75      0.75      0.75     33770\n",
      "weighted avg       0.75      0.75      0.75     33770\n",
      "\n",
      "Confusion Matrix:\n",
      "[[8713 2250  464]\n",
      " [2367 7639 1366]\n",
      " [ 372 1585 9014]]\n"
     ]
    }
   ],
   "source": [
    "lr_y_word2vec_pred = lr_word2vec_model.predict(X_test)\n",
    "\n",
    "# Evaluate the model's performance\n",
    "print(\"Classification Report:\")\n",
    "print(classification_report(y_test, lr_y_word2vec_pred))\n",
    "print(\"Confusion Matrix:\")\n",
    "print(confusion_matrix(y_test, lr_y_word2vec_pred))"
   ]
  },
  {
   "cell_type": "code",
   "execution_count": 52,
   "metadata": {},
   "outputs": [
    {
     "name": "stdout",
     "output_type": "stream",
     "text": [
      "Review: excellent product highly recommend it -> Sentiment: Good\n",
      "Review: very bad product avoid at all costs -> Sentiment: Negative\n",
      "Review: i dont know its not bad but its not too good either -> Sentiment: Neutral\n"
     ]
    }
   ],
   "source": [
    "lr_predicted_labels = lr_word2vec_model.predict(new_texts_vectors)\n",
    "\n",
    "predicted_sentiments = map_results(lr_predicted_labels)\n",
    "\n",
    "# Print predictions\n",
    "for text, sentiment in zip(new_texts, predicted_sentiments):\n",
    "    print(f\"Review: {text} -> Sentiment: {sentiment}\")"
   ]
  },
  {
   "cell_type": "markdown",
   "metadata": {},
   "source": [
    "It seems the Logistic Regression has seen improvements."
   ]
  },
  {
   "cell_type": "code",
   "execution_count": null,
   "metadata": {},
   "outputs": [
    {
     "data": {
      "text/plain": [
       "['./models/lr_word2vec_model.joblib']"
      ]
     },
     "execution_count": 66,
     "metadata": {},
     "output_type": "execute_result"
    }
   ],
   "source": [
    "if not os.path.exists('./models/lr_word2vec_model.joblib'):\n",
    "    joblib.dump(lr_word2vec_model, './models/lr_word2vec_model.joblib')"
   ]
  },
  {
   "cell_type": "markdown",
   "metadata": {},
   "source": [
    "## Naive Bayes (Multinomial)"
   ]
  },
  {
   "cell_type": "code",
   "execution_count": null,
   "metadata": {},
   "outputs": [],
   "source": [
    "nb_word2vec_model = MultinomialNB()"
   ]
  },
  {
   "cell_type": "code",
   "execution_count": 69,
   "metadata": {},
   "outputs": [
    {
     "name": "stdout",
     "output_type": "stream",
     "text": [
      "Negative values in data passed to MultinomialNB (input X).\n"
     ]
    }
   ],
   "source": [
    "try:\n",
    "    nb_word2vec_model.fit(X_train, y_train)\n",
    "except ValueError as e:\n",
    "    print(e)"
   ]
  },
  {
   "cell_type": "markdown",
   "metadata": {},
   "source": [
    "Multinomial Naive Bayes doesn't support negative embeddings. We will refrain from training one as converting those values of the vector could negatively affect performance."
   ]
  },
  {
   "cell_type": "markdown",
   "metadata": {},
   "source": [
    "## K-Means clustering"
   ]
  },
  {
   "cell_type": "code",
   "execution_count": null,
   "metadata": {},
   "outputs": [],
   "source": [
    "file = './models/kmeans_word2vec_model.joblib'\n",
    "if os.path.exists(file):\n",
    "    kmeans_word2vec_model = load_model(file)\n",
    "\n",
    "else:\n",
    "    print(\"Failed to fetch model file. Creating model...\")\n",
    "    kmeans_word2vec_model = KMeans(n_clusters=3, random_state=10, n_init=10)\n",
    "    print(\"Model created! Clustering...\")\n",
    "    kmeans_word2vec_model.fit(X_train)"
   ]
  },
  {
   "cell_type": "code",
   "execution_count": 54,
   "metadata": {},
   "outputs": [],
   "source": [
    "kmeans_labels = kmeans_word2vec_model.labels_"
   ]
  },
  {
   "cell_type": "code",
   "execution_count": 55,
   "metadata": {},
   "outputs": [
    {
     "data": {
      "image/png": "[encoded data removed]",
      "text/plain": [
       "<Figure size 800x500 with 1 Axes>"
      ]
     },
     "metadata": {},
     "output_type": "display_data"
    }
   ],
   "source": [
    "num_clusters = 3\n",
    "\n",
    "# Plot cluster distribution\n",
    "plt.figure(figsize=(8, 5))\n",
    "plt.hist(kmeans_labels, bins=np.arange(num_clusters + 1) - 0.5, edgecolor='black', alpha=0.7)\n",
    "plt.xticks(range(num_clusters))\n",
    "plt.xlabel(\"Cluster\")\n",
    "plt.ylabel(\"Number of Texts\")\n",
    "plt.title(\"Distribution of Texts Across Clusters\")\n",
    "plt.show()"
   ]
  },
  {
   "cell_type": "markdown",
   "metadata": {},
   "source": [
    "The clustering is much better with Word2Vec embeddings."
   ]
  },
  {
   "cell_type": "code",
   "execution_count": null,
   "metadata": {},
   "outputs": [
    {
     "data": {
      "text/plain": [
       "['./models/kmeans_word2vec_model.joblib']"
      ]
     },
     "execution_count": 78,
     "metadata": {},
     "output_type": "execute_result"
    }
   ],
   "source": [
    "if not os.path.exists('./models/kmeans_word2vec_model.joblib'):\n",
    "    joblib.dump(kmeans_word2vec_model, './models/kmeans_word2vec_model.joblib')"
   ]
  },
  {
   "cell_type": "markdown",
   "metadata": {},
   "source": [
    "## Truncated SVD"
   ]
  },
  {
   "cell_type": "code",
   "execution_count": 46,
   "metadata": {},
   "outputs": [
    {
     "name": "stdout",
     "output_type": "stream",
     "text": [
      "Trying to load model from file ./models/svd_word2vec_model.joblib...\n",
      "Loaded model successfully!\n",
      "Fitting dimensionally reduced data to K-Means...\n"
     ]
    },
    {
     "data": {
      "text/html": [
       "<style>#sk-container-id-4 {\n",
       "  /* Definition of color scheme common for light and dark mode */\n",
       "  --sklearn-color-text: #000;\n",
       "  --sklearn-color-text-muted: #666;\n",
       "  --sklearn-color-line: gray;\n",
       "  /* Definition of color scheme for unfitted estimators */\n",
       "  --sklearn-color-unfitted-level-0: #fff5e6;\n",
       "  --sklearn-color-unfitted-level-1: #f6e4d2;\n",
       "  --sklearn-color-unfitted-level-2: #ffe0b3;\n",
       "  --sklearn-color-unfitted-level-3: chocolate;\n",
       "  /* Definition of color scheme for fitted estimators */\n",
       "  --sklearn-color-fitted-level-0: #f0f8ff;\n",
       "  --sklearn-color-fitted-level-1: #d4ebff;\n",
       "  --sklearn-color-fitted-level-2: #b3dbfd;\n",
       "  --sklearn-color-fitted-level-3: cornflowerblue;\n",
       "\n",
       "  /* Specific color for light theme */\n",
       "  --sklearn-color-text-on-default-background: var(--sg-text-color, var(--theme-code-foreground, var(--jp-content-font-color1, black)));\n",
       "  --sklearn-color-background: var(--sg-background-color, var(--theme-background, var(--jp-layout-color0, white)));\n",
       "  --sklearn-color-border-box: var(--sg-text-color, var(--theme-code-foreground, var(--jp-content-font-color1, black)));\n",
       "  --sklearn-color-icon: #696969;\n",
       "\n",
       "  @media (prefers-color-scheme: dark) {\n",
       "    /* Redefinition of color scheme for dark theme */\n",
       "    --sklearn-color-text-on-default-background: var(--sg-text-color, var(--theme-code-foreground, var(--jp-content-font-color1, white)));\n",
       "    --sklearn-color-background: var(--sg-background-color, var(--theme-background, var(--jp-layout-color0, #111)));\n",
       "    --sklearn-color-border-box: var(--sg-text-color, var(--theme-code-foreground, var(--jp-content-font-color1, white)));\n",
       "    --sklearn-color-icon: #878787;\n",
       "  }\n",
       "}\n",
       "\n",
       "#sk-container-id-4 {\n",
       "  color: var(--sklearn-color-text);\n",
       "}\n",
       "\n",
       "#sk-container-id-4 pre {\n",
       "  padding: 0;\n",
       "}\n",
       "\n",
       "#sk-container-id-4 input.sk-hidden--visually {\n",
       "  border: 0;\n",
       "  clip: rect(1px 1px 1px 1px);\n",
       "  clip: rect(1px, 1px, 1px, 1px);\n",
       "  height: 1px;\n",
       "  margin: -1px;\n",
       "  overflow: hidden;\n",
       "  padding: 0;\n",
       "  position: absolute;\n",
       "  width: 1px;\n",
       "}\n",
       "\n",
       "#sk-container-id-4 div.sk-dashed-wrapped {\n",
       "  border: 1px dashed var(--sklearn-color-line);\n",
       "  margin: 0 0.4em 0.5em 0.4em;\n",
       "  box-sizing: border-box;\n",
       "  padding-bottom: 0.4em;\n",
       "  background-color: var(--sklearn-color-background);\n",
       "}\n",
       "\n",
       "#sk-container-id-4 div.sk-container {\n",
       "  /* jupyter's `normalize.less` sets `[hidden] { display: none; }`\n",
       "     but bootstrap.min.css set `[hidden] { display: none !important; }`\n",
       "     so we also need the `!important` here to be able to override the\n",
       "     default hidden behavior on the sphinx rendered scikit-learn.org.\n",
       "     See: https://github.com/scikit-learn/scikit-learn/issues/21755 */\n",
       "  display: inline-block !important;\n",
       "  position: relative;\n",
       "}\n",
       "\n",
       "#sk-container-id-4 div.sk-text-repr-fallback {\n",
       "  display: none;\n",
       "}\n",
       "\n",
       "div.sk-parallel-item,\n",
       "div.sk-serial,\n",
       "div.sk-item {\n",
       "  /* draw centered vertical line to link estimators */\n",
       "  background-image: linear-gradient(var(--sklearn-color-text-on-default-background), var(--sklearn-color-text-on-default-background));\n",
       "  background-size: 2px 100%;\n",
       "  background-repeat: no-repeat;\n",
       "  background-position: center center;\n",
       "}\n",
       "\n",
       "/* Parallel-specific style estimator block */\n",
       "\n",
       "#sk-container-id-4 div.sk-parallel-item::after {\n",
       "  content: \"\";\n",
       "  width: 100%;\n",
       "  border-bottom: 2px solid var(--sklearn-color-text-on-default-background);\n",
       "  flex-grow: 1;\n",
       "}\n",
       "\n",
       "#sk-container-id-4 div.sk-parallel {\n",
       "  display: flex;\n",
       "  align-items: stretch;\n",
       "  justify-content: center;\n",
       "  background-color: var(--sklearn-color-background);\n",
       "  position: relative;\n",
       "}\n",
       "\n",
       "#sk-container-id-4 div.sk-parallel-item {\n",
       "  display: flex;\n",
       "  flex-direction: column;\n",
       "}\n",
       "\n",
       "#sk-container-id-4 div.sk-parallel-item:first-child::after {\n",
       "  align-self: flex-end;\n",
       "  width: 50%;\n",
       "}\n",
       "\n",
       "#sk-container-id-4 div.sk-parallel-item:last-child::after {\n",
       "  align-self: flex-start;\n",
       "  width: 50%;\n",
       "}\n",
       "\n",
       "#sk-container-id-4 div.sk-parallel-item:only-child::after {\n",
       "  width: 0;\n",
       "}\n",
       "\n",
       "/* Serial-specific style estimator block */\n",
       "\n",
       "#sk-container-id-4 div.sk-serial {\n",
       "  display: flex;\n",
       "  flex-direction: column;\n",
       "  align-items: center;\n",
       "  background-color: var(--sklearn-color-background);\n",
       "  padding-right: 1em;\n",
       "  padding-left: 1em;\n",
       "}\n",
       "\n",
       "\n",
       "/* Toggleable style: style used for estimator/Pipeline/ColumnTransformer box that is\n",
       "clickable and can be expanded/collapsed.\n",
       "- Pipeline and ColumnTransformer use this feature and define the default style\n",
       "- Estimators will overwrite some part of the style using the `sk-estimator` class\n",
       "*/\n",
       "\n",
       "/* Pipeline and ColumnTransformer style (default) */\n",
       "\n",
       "#sk-container-id-4 div.sk-toggleable {\n",
       "  /* Default theme specific background. It is overwritten whether we have a\n",
       "  specific estimator or a Pipeline/ColumnTransformer */\n",
       "  background-color: var(--sklearn-color-background);\n",
       "}\n",
       "\n",
       "/* Toggleable label */\n",
       "#sk-container-id-4 label.sk-toggleable__label {\n",
       "  cursor: pointer;\n",
       "  display: flex;\n",
       "  width: 100%;\n",
       "  margin-bottom: 0;\n",
       "  padding: 0.5em;\n",
       "  box-sizing: border-box;\n",
       "  text-align: center;\n",
       "  align-items: start;\n",
       "  justify-content: space-between;\n",
       "  gap: 0.5em;\n",
       "}\n",
       "\n",
       "#sk-container-id-4 label.sk-toggleable__label .caption {\n",
       "  font-size: 0.6rem;\n",
       "  font-weight: lighter;\n",
       "  color: var(--sklearn-color-text-muted);\n",
       "}\n",
       "\n",
       "#sk-container-id-4 label.sk-toggleable__label-arrow:before {\n",
       "  /* Arrow on the left of the label */\n",
       "  content: \"▸\";\n",
       "  float: left;\n",
       "  margin-right: 0.25em;\n",
       "  color: var(--sklearn-color-icon);\n",
       "}\n",
       "\n",
       "#sk-container-id-4 label.sk-toggleable__label-arrow:hover:before {\n",
       "  color: var(--sklearn-color-text);\n",
       "}\n",
       "\n",
       "/* Toggleable content - dropdown */\n",
       "\n",
       "#sk-container-id-4 div.sk-toggleable__content {\n",
       "  max-height: 0;\n",
       "  max-width: 0;\n",
       "  overflow: hidden;\n",
       "  text-align: left;\n",
       "  /* unfitted */\n",
       "  background-color: var(--sklearn-color-unfitted-level-0);\n",
       "}\n",
       "\n",
       "#sk-container-id-4 div.sk-toggleable__content.fitted {\n",
       "  /* fitted */\n",
       "  background-color: var(--sklearn-color-fitted-level-0);\n",
       "}\n",
       "\n",
       "#sk-container-id-4 div.sk-toggleable__content pre {\n",
       "  margin: 0.2em;\n",
       "  border-radius: 0.25em;\n",
       "  color: var(--sklearn-color-text);\n",
       "  /* unfitted */\n",
       "  background-color: var(--sklearn-color-unfitted-level-0);\n",
       "}\n",
       "\n",
       "#sk-container-id-4 div.sk-toggleable__content.fitted pre {\n",
       "  /* unfitted */\n",
       "  background-color: var(--sklearn-color-fitted-level-0);\n",
       "}\n",
       "\n",
       "#sk-container-id-4 input.sk-toggleable__control:checked~div.sk-toggleable__content {\n",
       "  /* Expand drop-down */\n",
       "  max-height: 200px;\n",
       "  max-width: 100%;\n",
       "  overflow: auto;\n",
       "}\n",
       "\n",
       "#sk-container-id-4 input.sk-toggleable__control:checked~label.sk-toggleable__label-arrow:before {\n",
       "  content: \"▾\";\n",
       "}\n",
       "\n",
       "/* Pipeline/ColumnTransformer-specific style */\n",
       "\n",
       "#sk-container-id-4 div.sk-label input.sk-toggleable__control:checked~label.sk-toggleable__label {\n",
       "  color: var(--sklearn-color-text);\n",
       "  background-color: var(--sklearn-color-unfitted-level-2);\n",
       "}\n",
       "\n",
       "#sk-container-id-4 div.sk-label.fitted input.sk-toggleable__control:checked~label.sk-toggleable__label {\n",
       "  background-color: var(--sklearn-color-fitted-level-2);\n",
       "}\n",
       "\n",
       "/* Estimator-specific style */\n",
       "\n",
       "/* Colorize estimator box */\n",
       "#sk-container-id-4 div.sk-estimator input.sk-toggleable__control:checked~label.sk-toggleable__label {\n",
       "  /* unfitted */\n",
       "  background-color: var(--sklearn-color-unfitted-level-2);\n",
       "}\n",
       "\n",
       "#sk-container-id-4 div.sk-estimator.fitted input.sk-toggleable__control:checked~label.sk-toggleable__label {\n",
       "  /* fitted */\n",
       "  background-color: var(--sklearn-color-fitted-level-2);\n",
       "}\n",
       "\n",
       "#sk-container-id-4 div.sk-label label.sk-toggleable__label,\n",
       "#sk-container-id-4 div.sk-label label {\n",
       "  /* The background is the default theme color */\n",
       "  color: var(--sklearn-color-text-on-default-background);\n",
       "}\n",
       "\n",
       "/* On hover, darken the color of the background */\n",
       "#sk-container-id-4 div.sk-label:hover label.sk-toggleable__label {\n",
       "  color: var(--sklearn-color-text);\n",
       "  background-color: var(--sklearn-color-unfitted-level-2);\n",
       "}\n",
       "\n",
       "/* Label box, darken color on hover, fitted */\n",
       "#sk-container-id-4 div.sk-label.fitted:hover label.sk-toggleable__label.fitted {\n",
       "  color: var(--sklearn-color-text);\n",
       "  background-color: var(--sklearn-color-fitted-level-2);\n",
       "}\n",
       "\n",
       "/* Estimator label */\n",
       "\n",
       "#sk-container-id-4 div.sk-label label {\n",
       "  font-family: monospace;\n",
       "  font-weight: bold;\n",
       "  display: inline-block;\n",
       "  line-height: 1.2em;\n",
       "}\n",
       "\n",
       "#sk-container-id-4 div.sk-label-container {\n",
       "  text-align: center;\n",
       "}\n",
       "\n",
       "/* Estimator-specific */\n",
       "#sk-container-id-4 div.sk-estimator {\n",
       "  font-family: monospace;\n",
       "  border: 1px dotted var(--sklearn-color-border-box);\n",
       "  border-radius: 0.25em;\n",
       "  box-sizing: border-box;\n",
       "  margin-bottom: 0.5em;\n",
       "  /* unfitted */\n",
       "  background-color: var(--sklearn-color-unfitted-level-0);\n",
       "}\n",
       "\n",
       "#sk-container-id-4 div.sk-estimator.fitted {\n",
       "  /* fitted */\n",
       "  background-color: var(--sklearn-color-fitted-level-0);\n",
       "}\n",
       "\n",
       "/* on hover */\n",
       "#sk-container-id-4 div.sk-estimator:hover {\n",
       "  /* unfitted */\n",
       "  background-color: var(--sklearn-color-unfitted-level-2);\n",
       "}\n",
       "\n",
       "#sk-container-id-4 div.sk-estimator.fitted:hover {\n",
       "  /* fitted */\n",
       "  background-color: var(--sklearn-color-fitted-level-2);\n",
       "}\n",
       "\n",
       "/* Specification for estimator info (e.g. \"i\" and \"?\") */\n",
       "\n",
       "/* Common style for \"i\" and \"?\" */\n",
       "\n",
       ".sk-estimator-doc-link,\n",
       "a:link.sk-estimator-doc-link,\n",
       "a:visited.sk-estimator-doc-link {\n",
       "  float: right;\n",
       "  font-size: smaller;\n",
       "  line-height: 1em;\n",
       "  font-family: monospace;\n",
       "  background-color: var(--sklearn-color-background);\n",
       "  border-radius: 1em;\n",
       "  height: 1em;\n",
       "  width: 1em;\n",
       "  text-decoration: none !important;\n",
       "  margin-left: 0.5em;\n",
       "  text-align: center;\n",
       "  /* unfitted */\n",
       "  border: var(--sklearn-color-unfitted-level-1) 1pt solid;\n",
       "  color: var(--sklearn-color-unfitted-level-1);\n",
       "}\n",
       "\n",
       ".sk-estimator-doc-link.fitted,\n",
       "a:link.sk-estimator-doc-link.fitted,\n",
       "a:visited.sk-estimator-doc-link.fitted {\n",
       "  /* fitted */\n",
       "  border: var(--sklearn-color-fitted-level-1) 1pt solid;\n",
       "  color: var(--sklearn-color-fitted-level-1);\n",
       "}\n",
       "\n",
       "/* On hover */\n",
       "div.sk-estimator:hover .sk-estimator-doc-link:hover,\n",
       ".sk-estimator-doc-link:hover,\n",
       "div.sk-label-container:hover .sk-estimator-doc-link:hover,\n",
       ".sk-estimator-doc-link:hover {\n",
       "  /* unfitted */\n",
       "  background-color: var(--sklearn-color-unfitted-level-3);\n",
       "  color: var(--sklearn-color-background);\n",
       "  text-decoration: none;\n",
       "}\n",
       "\n",
       "div.sk-estimator.fitted:hover .sk-estimator-doc-link.fitted:hover,\n",
       ".sk-estimator-doc-link.fitted:hover,\n",
       "div.sk-label-container:hover .sk-estimator-doc-link.fitted:hover,\n",
       ".sk-estimator-doc-link.fitted:hover {\n",
       "  /* fitted */\n",
       "  background-color: var(--sklearn-color-fitted-level-3);\n",
       "  color: var(--sklearn-color-background);\n",
       "  text-decoration: none;\n",
       "}\n",
       "\n",
       "/* Span, style for the box shown on hovering the info icon */\n",
       ".sk-estimator-doc-link span {\n",
       "  display: none;\n",
       "  z-index: 9999;\n",
       "  position: relative;\n",
       "  font-weight: normal;\n",
       "  right: .2ex;\n",
       "  padding: .5ex;\n",
       "  margin: .5ex;\n",
       "  width: min-content;\n",
       "  min-width: 20ex;\n",
       "  max-width: 50ex;\n",
       "  color: var(--sklearn-color-text);\n",
       "  box-shadow: 2pt 2pt 4pt #999;\n",
       "  /* unfitted */\n",
       "  background: var(--sklearn-color-unfitted-level-0);\n",
       "  border: .5pt solid var(--sklearn-color-unfitted-level-3);\n",
       "}\n",
       "\n",
       ".sk-estimator-doc-link.fitted span {\n",
       "  /* fitted */\n",
       "  background: var(--sklearn-color-fitted-level-0);\n",
       "  border: var(--sklearn-color-fitted-level-3);\n",
       "}\n",
       "\n",
       ".sk-estimator-doc-link:hover span {\n",
       "  display: block;\n",
       "}\n",
       "\n",
       "/* \"?\"-specific style due to the `<a>` HTML tag */\n",
       "\n",
       "#sk-container-id-4 a.estimator_doc_link {\n",
       "  float: right;\n",
       "  font-size: 1rem;\n",
       "  line-height: 1em;\n",
       "  font-family: monospace;\n",
       "  background-color: var(--sklearn-color-background);\n",
       "  border-radius: 1rem;\n",
       "  height: 1rem;\n",
       "  width: 1rem;\n",
       "  text-decoration: none;\n",
       "  /* unfitted */\n",
       "  color: var(--sklearn-color-unfitted-level-1);\n",
       "  border: var(--sklearn-color-unfitted-level-1) 1pt solid;\n",
       "}\n",
       "\n",
       "#sk-container-id-4 a.estimator_doc_link.fitted {\n",
       "  /* fitted */\n",
       "  border: var(--sklearn-color-fitted-level-1) 1pt solid;\n",
       "  color: var(--sklearn-color-fitted-level-1);\n",
       "}\n",
       "\n",
       "/* On hover */\n",
       "#sk-container-id-4 a.estimator_doc_link:hover {\n",
       "  /* unfitted */\n",
       "  background-color: var(--sklearn-color-unfitted-level-3);\n",
       "  color: var(--sklearn-color-background);\n",
       "  text-decoration: none;\n",
       "}\n",
       "\n",
       "#sk-container-id-4 a.estimator_doc_link.fitted:hover {\n",
       "  /* fitted */\n",
       "  background-color: var(--sklearn-color-fitted-level-3);\n",
       "}\n",
       "</style><div id=\"sk-container-id-4\" class=\"sk-top-container\"><div class=\"sk-text-repr-fallback\"><pre>KMeans(n_clusters=3, n_init=10, random_state=10)</pre><b>In a Jupyter environment, please rerun this cell to show the HTML representation or trust the notebook. <br />On GitHub, the HTML representation is unable to render, please try loading this page with nbviewer.org.</b></div><div class=\"sk-container\" hidden><div class=\"sk-item\"><div class=\"sk-estimator fitted sk-toggleable\"><input class=\"sk-toggleable__control sk-hidden--visually\" id=\"sk-estimator-id-4\" type=\"checkbox\" checked><label for=\"sk-estimator-id-4\" class=\"sk-toggleable__label fitted sk-toggleable__label-arrow\"><div><div>KMeans</div></div><div><a class=\"sk-estimator-doc-link fitted\" rel=\"noreferrer\" target=\"_blank\" href=\"https://scikit-learn.org/1.6/modules/generated/sklearn.cluster.KMeans.html\">?<span>Documentation for KMeans</span></a><span class=\"sk-estimator-doc-link fitted\">i<span>Fitted</span></span></div></label><div class=\"sk-toggleable__content fitted\"><pre>KMeans(n_clusters=3, n_init=10, random_state=10)</pre></div> </div></div></div></div>"
      ],
      "text/plain": [
       "KMeans(n_clusters=3, n_init=10, random_state=10)"
      ]
     },
     "execution_count": 46,
     "metadata": {},
     "output_type": "execute_result"
    }
   ],
   "source": [
    "file = './models/svd_word2vec_model.joblib'\n",
    "\n",
    "if os.path.exists(file):\n",
    "    X_reduced = load_model(file)\n",
    "\n",
    "else:\n",
    "    print(\"Failed to fetch model file. Creating model...\")\n",
    "    svd_word2vec_model = TruncatedSVD(n_components=2)\n",
    "    print(\"Model created! Training...\")\n",
    "    X_reduced = svd_word2vec_model.fit_transform(X_train)\n",
    "\n",
    "kmeans_word2vec_model = KMeans(n_clusters=num_clusters, random_state=10, n_init=10)\n",
    "print(\"Fitting dimensionally reduced data to K-Means...\")\n",
    "# Apply K-Means on dimensionally reduced data\n",
    "kmeans_word2vec_model.fit(X_reduced)"
   ]
  },
  {
   "cell_type": "code",
   "execution_count": 47,
   "metadata": {},
   "outputs": [
    {
     "data": {
      "image/png": "[encoded data removed]",
      "text/plain": [
       "<Figure size 800x500 with 2 Axes>"
      ]
     },
     "metadata": {},
     "output_type": "display_data"
    }
   ],
   "source": [
    "kmeans_labels = kmeans_word2vec_model.labels_\n",
    "\n",
    "# Scatter plot of clusters\n",
    "plt.figure(figsize=(8, 5))\n",
    "plt.scatter(X_reduced[:, 0], X_reduced[:, 1], c=kmeans_labels, cmap='viridis', alpha=0.5)\n",
    "plt.xlabel(\"SVD Component 1\")\n",
    "plt.ylabel(\"SVD Component 2\")\n",
    "plt.title(\"K-Means Clustering of Text Data (SVD)\")\n",
    "plt.colorbar(label=\"Cluster\")\n",
    "plt.show()"
   ]
  },
  {
   "cell_type": "code",
   "execution_count": 48,
   "metadata": {},
   "outputs": [
    {
     "data": {
      "image/png": "[encoded data removed]",
      "text/plain": [
       "<Figure size 800x500 with 1 Axes>"
      ]
     },
     "metadata": {},
     "output_type": "display_data"
    }
   ],
   "source": [
    "# Plot cluster distribution\n",
    "plt.figure(figsize=(8, 5))\n",
    "plt.hist(kmeans_labels, bins=np.arange(num_clusters + 1) - 0.5, edgecolor='black', alpha=0.7)\n",
    "plt.xticks(range(num_clusters))\n",
    "plt.xlabel(\"Cluster\")\n",
    "plt.ylabel(\"Number of Texts\")\n",
    "plt.title(\"Distribution of Texts Across Clusters\")\n",
    "plt.show()"
   ]
  },
  {
   "cell_type": "code",
   "execution_count": null,
   "metadata": {},
   "outputs": [
    {
     "data": {
      "text/plain": [
       "['./models/svd_word2vec_model.joblib']"
      ]
     },
     "execution_count": 59,
     "metadata": {},
     "output_type": "execute_result"
    }
   ],
   "source": [
    "if not os.path.exists('./models/svd_word2vec_model.joblib'):\n",
    "    joblib.dump(X_reduced, './models/svd_word2vec_model.joblib')"
   ]
  }
 ],
 "metadata": {
  "kernelspec": {
   "display_name": "NLP Project Venv",
   "language": "python",
   "name": "nlp_proj_venv"
  },
  "language_info": {
   "codemirror_mode": {
    "name": "ipython",
    "version": 3
   },
   "file_extension": ".py",
   "mimetype": "text/x-python",
   "name": "python",
   "nbconvert_exporter": "python",
   "pygments_lexer": "ipython3",
   "version": "3.11.9"
  }
 },
 "nbformat": 4,
 "nbformat_minor": 2
}
