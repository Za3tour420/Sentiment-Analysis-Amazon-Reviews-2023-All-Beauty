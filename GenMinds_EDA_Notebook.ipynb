{
 "cells": [
  {
   "cell_type": "markdown",
   "metadata": {},
   "source": [
    "<div style=\"text-align: center; color: red;\"><h2>NLP Project: Amazon Reviews Sentiment Analysis by GenMinds (EDA notebook)</h2></div>"
   ]
  },
  {
   "cell_type": "markdown",
   "metadata": {},
   "source": [
    "# Install requirements"
   ]
  },
  {
   "cell_type": "code",
   "execution_count": 1,
   "metadata": {},
   "outputs": [
    {
     "name": "stdout",
     "output_type": "stream",
     "text": [
      "Requirement already satisfied: nltk in c:\\users\\amine\\desktop\\9raya\\nlp\\nlp_proj_venv\\lib\\site-packages (from -r requirements.txt (line 1)) (3.9.1)\n",
      "Requirement already satisfied: pandas in c:\\users\\amine\\desktop\\9raya\\nlp\\nlp_proj_venv\\lib\\site-packages (from -r requirements.txt (line 2)) (2.2.3)\n",
      "Requirement already satisfied: scipy in c:\\users\\amine\\desktop\\9raya\\nlp\\nlp_proj_venv\\lib\\site-packages (from -r requirements.txt (line 3)) (1.13.1)\n",
      "Requirement already satisfied: scikit-learn in c:\\users\\amine\\desktop\\9raya\\nlp\\nlp_proj_venv\\lib\\site-packages (from -r requirements.txt (line 4)) (1.6.1)\n",
      "Requirement already satisfied: datasets in c:\\users\\amine\\desktop\\9raya\\nlp\\nlp_proj_venv\\lib\\site-packages (from -r requirements.txt (line 5)) (3.5.0)\n",
      "Requirement already satisfied: seaborn in c:\\users\\amine\\desktop\\9raya\\nlp\\nlp_proj_venv\\lib\\site-packages (from -r requirements.txt (line 6)) (0.13.2)\n",
      "Requirement already satisfied: xgboost in c:\\users\\amine\\desktop\\9raya\\nlp\\nlp_proj_venv\\lib\\site-packages (from -r requirements.txt (line 7)) (3.0.0)\n",
      "Requirement already satisfied: numpy in c:\\users\\amine\\desktop\\9raya\\nlp\\nlp_proj_venv\\lib\\site-packages (from -r requirements.txt (line 8)) (1.26.4)\n",
      "Requirement already satisfied: gensim in c:\\users\\amine\\desktop\\9raya\\nlp\\nlp_proj_venv\\lib\\site-packages (from -r requirements.txt (line 9)) (4.3.3)\n",
      "Requirement already satisfied: ipykernel in c:\\users\\amine\\desktop\\9raya\\nlp\\nlp_proj_venv\\lib\\site-packages (from -r requirements.txt (line 10)) (6.29.5)\n",
      "Requirement already satisfied: plotly in c:\\users\\amine\\desktop\\9raya\\nlp\\nlp_proj_venv\\lib\\site-packages (from -r requirements.txt (line 12)) (6.0.1)\n",
      "Requirement already satisfied: nbformat>=4.2.0 in c:\\users\\amine\\desktop\\9raya\\nlp\\nlp_proj_venv\\lib\\site-packages (from -r requirements.txt (line 13)) (5.10.4)\n",
      "Requirement already satisfied: requests in c:\\users\\amine\\desktop\\9raya\\nlp\\nlp_proj_venv\\lib\\site-packages (from -r requirements.txt (line 14)) (2.32.3)\n",
      "Requirement already satisfied: pillow in c:\\users\\amine\\desktop\\9raya\\nlp\\nlp_proj_venv\\lib\\site-packages (from -r requirements.txt (line 15)) (11.1.0)\n",
      "Requirement already satisfied: click in c:\\users\\amine\\desktop\\9raya\\nlp\\nlp_proj_venv\\lib\\site-packages (from nltk->-r requirements.txt (line 1)) (8.1.8)\n",
      "Requirement already satisfied: joblib in c:\\users\\amine\\desktop\\9raya\\nlp\\nlp_proj_venv\\lib\\site-packages (from nltk->-r requirements.txt (line 1)) (1.4.2)\n",
      "Requirement already satisfied: regex>=2021.8.3 in c:\\users\\amine\\desktop\\9raya\\nlp\\nlp_proj_venv\\lib\\site-packages (from nltk->-r requirements.txt (line 1)) (2024.11.6)\n",
      "Requirement already satisfied: tqdm in c:\\users\\amine\\desktop\\9raya\\nlp\\nlp_proj_venv\\lib\\site-packages (from nltk->-r requirements.txt (line 1)) (4.67.1)\n",
      "Requirement already satisfied: python-dateutil>=2.8.2 in c:\\users\\amine\\desktop\\9raya\\nlp\\nlp_proj_venv\\lib\\site-packages (from pandas->-r requirements.txt (line 2)) (2.9.0.post0)\n",
      "Requirement already satisfied: pytz>=2020.1 in c:\\users\\amine\\desktop\\9raya\\nlp\\nlp_proj_venv\\lib\\site-packages (from pandas->-r requirements.txt (line 2)) (2025.2)\n",
      "Requirement already satisfied: tzdata>=2022.7 in c:\\users\\amine\\desktop\\9raya\\nlp\\nlp_proj_venv\\lib\\site-packages (from pandas->-r requirements.txt (line 2)) (2025.2)\n",
      "Requirement already satisfied: threadpoolctl>=3.1.0 in c:\\users\\amine\\desktop\\9raya\\nlp\\nlp_proj_venv\\lib\\site-packages (from scikit-learn->-r requirements.txt (line 4)) (3.6.0)\n",
      "Requirement already satisfied: filelock in c:\\users\\amine\\desktop\\9raya\\nlp\\nlp_proj_venv\\lib\\site-packages (from datasets->-r requirements.txt (line 5)) (3.18.0)\n",
      "Requirement already satisfied: pyarrow>=15.0.0 in c:\\users\\amine\\desktop\\9raya\\nlp\\nlp_proj_venv\\lib\\site-packages (from datasets->-r requirements.txt (line 5)) (19.0.1)\n",
      "Requirement already satisfied: dill<0.3.9,>=0.3.0 in c:\\users\\amine\\desktop\\9raya\\nlp\\nlp_proj_venv\\lib\\site-packages (from datasets->-r requirements.txt (line 5)) (0.3.8)\n",
      "Requirement already satisfied: xxhash in c:\\users\\amine\\desktop\\9raya\\nlp\\nlp_proj_venv\\lib\\site-packages (from datasets->-r requirements.txt (line 5)) (3.5.0)\n",
      "Requirement already satisfied: multiprocess<0.70.17 in c:\\users\\amine\\desktop\\9raya\\nlp\\nlp_proj_venv\\lib\\site-packages (from datasets->-r requirements.txt (line 5)) (0.70.16)\n",
      "Requirement already satisfied: fsspec<=2024.12.0,>=2023.1.0 in c:\\users\\amine\\desktop\\9raya\\nlp\\nlp_proj_venv\\lib\\site-packages (from fsspec[http]<=2024.12.0,>=2023.1.0->datasets->-r requirements.txt (line 5)) (2024.12.0)\n",
      "Requirement already satisfied: aiohttp in c:\\users\\amine\\desktop\\9raya\\nlp\\nlp_proj_venv\\lib\\site-packages (from datasets->-r requirements.txt (line 5)) (3.11.14)\n",
      "Requirement already satisfied: huggingface-hub>=0.24.0 in c:\\users\\amine\\desktop\\9raya\\nlp\\nlp_proj_venv\\lib\\site-packages (from datasets->-r requirements.txt (line 5)) (0.29.3)\n",
      "Requirement already satisfied: packaging in c:\\users\\amine\\desktop\\9raya\\nlp\\nlp_proj_venv\\lib\\site-packages (from datasets->-r requirements.txt (line 5)) (24.2)\n",
      "Requirement already satisfied: pyyaml>=5.1 in c:\\users\\amine\\desktop\\9raya\\nlp\\nlp_proj_venv\\lib\\site-packages (from datasets->-r requirements.txt (line 5)) (6.0.2)\n",
      "Requirement already satisfied: matplotlib!=3.6.1,>=3.4 in c:\\users\\amine\\desktop\\9raya\\nlp\\nlp_proj_venv\\lib\\site-packages (from seaborn->-r requirements.txt (line 6)) (3.10.1)\n",
      "Requirement already satisfied: smart-open>=1.8.1 in c:\\users\\amine\\desktop\\9raya\\nlp\\nlp_proj_venv\\lib\\site-packages (from gensim->-r requirements.txt (line 9)) (7.1.0)\n",
      "Requirement already satisfied: comm>=0.1.1 in c:\\users\\amine\\desktop\\9raya\\nlp\\nlp_proj_venv\\lib\\site-packages (from ipykernel->-r requirements.txt (line 10)) (0.2.2)\n",
      "Requirement already satisfied: debugpy>=1.6.5 in c:\\users\\amine\\desktop\\9raya\\nlp\\nlp_proj_venv\\lib\\site-packages (from ipykernel->-r requirements.txt (line 10)) (1.8.13)\n",
      "Requirement already satisfied: ipython>=7.23.1 in c:\\users\\amine\\desktop\\9raya\\nlp\\nlp_proj_venv\\lib\\site-packages (from ipykernel->-r requirements.txt (line 10)) (9.0.2)\n",
      "Requirement already satisfied: jupyter-client>=6.1.12 in c:\\users\\amine\\desktop\\9raya\\nlp\\nlp_proj_venv\\lib\\site-packages (from ipykernel->-r requirements.txt (line 10)) (8.6.3)\n",
      "Requirement already satisfied: jupyter-core!=5.0.*,>=4.12 in c:\\users\\amine\\desktop\\9raya\\nlp\\nlp_proj_venv\\lib\\site-packages (from ipykernel->-r requirements.txt (line 10)) (5.7.2)\n",
      "Requirement already satisfied: matplotlib-inline>=0.1 in c:\\users\\amine\\desktop\\9raya\\nlp\\nlp_proj_venv\\lib\\site-packages (from ipykernel->-r requirements.txt (line 10)) (0.1.7)\n",
      "Requirement already satisfied: nest-asyncio in c:\\users\\amine\\desktop\\9raya\\nlp\\nlp_proj_venv\\lib\\site-packages (from ipykernel->-r requirements.txt (line 10)) (1.6.0)\n",
      "Requirement already satisfied: psutil in c:\\users\\amine\\desktop\\9raya\\nlp\\nlp_proj_venv\\lib\\site-packages (from ipykernel->-r requirements.txt (line 10)) (7.0.0)\n",
      "Requirement already satisfied: pyzmq>=24 in c:\\users\\amine\\desktop\\9raya\\nlp\\nlp_proj_venv\\lib\\site-packages (from ipykernel->-r requirements.txt (line 10)) (26.3.0)\n",
      "Requirement already satisfied: tornado>=6.1 in c:\\users\\amine\\desktop\\9raya\\nlp\\nlp_proj_venv\\lib\\site-packages (from ipykernel->-r requirements.txt (line 10)) (6.4.2)\n",
      "Requirement already satisfied: traitlets>=5.4.0 in c:\\users\\amine\\desktop\\9raya\\nlp\\nlp_proj_venv\\lib\\site-packages (from ipykernel->-r requirements.txt (line 10)) (5.14.3)\n",
      "Requirement already satisfied: narwhals>=1.15.1 in c:\\users\\amine\\desktop\\9raya\\nlp\\nlp_proj_venv\\lib\\site-packages (from plotly->-r requirements.txt (line 12)) (1.32.0)\n",
      "Requirement already satisfied: fastjsonschema>=2.15 in c:\\users\\amine\\desktop\\9raya\\nlp\\nlp_proj_venv\\lib\\site-packages (from nbformat>=4.2.0->-r requirements.txt (line 13)) (2.21.1)\n",
      "Requirement already satisfied: jsonschema>=2.6 in c:\\users\\amine\\desktop\\9raya\\nlp\\nlp_proj_venv\\lib\\site-packages (from nbformat>=4.2.0->-r requirements.txt (line 13)) (4.23.0)\n",
      "Requirement already satisfied: charset-normalizer<4,>=2 in c:\\users\\amine\\desktop\\9raya\\nlp\\nlp_proj_venv\\lib\\site-packages (from requests->-r requirements.txt (line 14)) (3.4.1)\n",
      "Requirement already satisfied: idna<4,>=2.5 in c:\\users\\amine\\desktop\\9raya\\nlp\\nlp_proj_venv\\lib\\site-packages (from requests->-r requirements.txt (line 14)) (3.10)\n",
      "Requirement already satisfied: urllib3<3,>=1.21.1 in c:\\users\\amine\\desktop\\9raya\\nlp\\nlp_proj_venv\\lib\\site-packages (from requests->-r requirements.txt (line 14)) (2.3.0)\n",
      "Requirement already satisfied: certifi>=2017.4.17 in c:\\users\\amine\\desktop\\9raya\\nlp\\nlp_proj_venv\\lib\\site-packages (from requests->-r requirements.txt (line 14)) (2025.1.31)\n",
      "Requirement already satisfied: aiohappyeyeballs>=2.3.0 in c:\\users\\amine\\desktop\\9raya\\nlp\\nlp_proj_venv\\lib\\site-packages (from aiohttp->datasets->-r requirements.txt (line 5)) (2.6.1)\n",
      "Requirement already satisfied: aiosignal>=1.1.2 in c:\\users\\amine\\desktop\\9raya\\nlp\\nlp_proj_venv\\lib\\site-packages (from aiohttp->datasets->-r requirements.txt (line 5)) (1.3.2)\n",
      "Requirement already satisfied: attrs>=17.3.0 in c:\\users\\amine\\desktop\\9raya\\nlp\\nlp_proj_venv\\lib\\site-packages (from aiohttp->datasets->-r requirements.txt (line 5)) (25.3.0)\n",
      "Requirement already satisfied: frozenlist>=1.1.1 in c:\\users\\amine\\desktop\\9raya\\nlp\\nlp_proj_venv\\lib\\site-packages (from aiohttp->datasets->-r requirements.txt (line 5)) (1.5.0)\n",
      "Requirement already satisfied: multidict<7.0,>=4.5 in c:\\users\\amine\\desktop\\9raya\\nlp\\nlp_proj_venv\\lib\\site-packages (from aiohttp->datasets->-r requirements.txt (line 5)) (6.2.0)\n",
      "Requirement already satisfied: propcache>=0.2.0 in c:\\users\\amine\\desktop\\9raya\\nlp\\nlp_proj_venv\\lib\\site-packages (from aiohttp->datasets->-r requirements.txt (line 5)) (0.3.1)\n",
      "Requirement already satisfied: yarl<2.0,>=1.17.0 in c:\\users\\amine\\desktop\\9raya\\nlp\\nlp_proj_venv\\lib\\site-packages (from aiohttp->datasets->-r requirements.txt (line 5)) (1.18.3)\n",
      "Requirement already satisfied: typing-extensions>=3.7.4.3 in c:\\users\\amine\\desktop\\9raya\\nlp\\nlp_proj_venv\\lib\\site-packages (from huggingface-hub>=0.24.0->datasets->-r requirements.txt (line 5)) (4.13.0)\n",
      "Requirement already satisfied: colorama in c:\\users\\amine\\desktop\\9raya\\nlp\\nlp_proj_venv\\lib\\site-packages (from ipython>=7.23.1->ipykernel->-r requirements.txt (line 10)) (0.4.6)\n",
      "Requirement already satisfied: decorator in c:\\users\\amine\\desktop\\9raya\\nlp\\nlp_proj_venv\\lib\\site-packages (from ipython>=7.23.1->ipykernel->-r requirements.txt (line 10)) (5.2.1)\n",
      "Requirement already satisfied: ipython-pygments-lexers in c:\\users\\amine\\desktop\\9raya\\nlp\\nlp_proj_venv\\lib\\site-packages (from ipython>=7.23.1->ipykernel->-r requirements.txt (line 10)) (1.1.1)\n",
      "Requirement already satisfied: jedi>=0.16 in c:\\users\\amine\\desktop\\9raya\\nlp\\nlp_proj_venv\\lib\\site-packages (from ipython>=7.23.1->ipykernel->-r requirements.txt (line 10)) (0.19.2)\n",
      "Requirement already satisfied: prompt_toolkit<3.1.0,>=3.0.41 in c:\\users\\amine\\desktop\\9raya\\nlp\\nlp_proj_venv\\lib\\site-packages (from ipython>=7.23.1->ipykernel->-r requirements.txt (line 10)) (3.0.50)\n",
      "Requirement already satisfied: pygments>=2.4.0 in c:\\users\\amine\\desktop\\9raya\\nlp\\nlp_proj_venv\\lib\\site-packages (from ipython>=7.23.1->ipykernel->-r requirements.txt (line 10)) (2.19.1)\n",
      "Requirement already satisfied: stack_data in c:\\users\\amine\\desktop\\9raya\\nlp\\nlp_proj_venv\\lib\\site-packages (from ipython>=7.23.1->ipykernel->-r requirements.txt (line 10)) (0.6.3)\n",
      "Requirement already satisfied: jsonschema-specifications>=2023.03.6 in c:\\users\\amine\\desktop\\9raya\\nlp\\nlp_proj_venv\\lib\\site-packages (from jsonschema>=2.6->nbformat>=4.2.0->-r requirements.txt (line 13)) (2024.10.1)\n",
      "Requirement already satisfied: referencing>=0.28.4 in c:\\users\\amine\\desktop\\9raya\\nlp\\nlp_proj_venv\\lib\\site-packages (from jsonschema>=2.6->nbformat>=4.2.0->-r requirements.txt (line 13)) (0.36.2)\n",
      "Requirement already satisfied: rpds-py>=0.7.1 in c:\\users\\amine\\desktop\\9raya\\nlp\\nlp_proj_venv\\lib\\site-packages (from jsonschema>=2.6->nbformat>=4.2.0->-r requirements.txt (line 13)) (0.24.0)\n",
      "Requirement already satisfied: platformdirs>=2.5 in c:\\users\\amine\\desktop\\9raya\\nlp\\nlp_proj_venv\\lib\\site-packages (from jupyter-core!=5.0.*,>=4.12->ipykernel->-r requirements.txt (line 10)) (4.3.7)\n",
      "Requirement already satisfied: pywin32>=300 in c:\\users\\amine\\desktop\\9raya\\nlp\\nlp_proj_venv\\lib\\site-packages (from jupyter-core!=5.0.*,>=4.12->ipykernel->-r requirements.txt (line 10)) (310)\n",
      "Requirement already satisfied: contourpy>=1.0.1 in c:\\users\\amine\\desktop\\9raya\\nlp\\nlp_proj_venv\\lib\\site-packages (from matplotlib!=3.6.1,>=3.4->seaborn->-r requirements.txt (line 6)) (1.3.1)\n",
      "Requirement already satisfied: cycler>=0.10 in c:\\users\\amine\\desktop\\9raya\\nlp\\nlp_proj_venv\\lib\\site-packages (from matplotlib!=3.6.1,>=3.4->seaborn->-r requirements.txt (line 6)) (0.12.1)\n",
      "Requirement already satisfied: fonttools>=4.22.0 in c:\\users\\amine\\desktop\\9raya\\nlp\\nlp_proj_venv\\lib\\site-packages (from matplotlib!=3.6.1,>=3.4->seaborn->-r requirements.txt (line 6)) (4.56.0)\n",
      "Requirement already satisfied: kiwisolver>=1.3.1 in c:\\users\\amine\\desktop\\9raya\\nlp\\nlp_proj_venv\\lib\\site-packages (from matplotlib!=3.6.1,>=3.4->seaborn->-r requirements.txt (line 6)) (1.4.8)\n",
      "Requirement already satisfied: pyparsing>=2.3.1 in c:\\users\\amine\\desktop\\9raya\\nlp\\nlp_proj_venv\\lib\\site-packages (from matplotlib!=3.6.1,>=3.4->seaborn->-r requirements.txt (line 6)) (3.2.3)\n",
      "Requirement already satisfied: six>=1.5 in c:\\users\\amine\\desktop\\9raya\\nlp\\nlp_proj_venv\\lib\\site-packages (from python-dateutil>=2.8.2->pandas->-r requirements.txt (line 2)) (1.17.0)\n",
      "Requirement already satisfied: wrapt in c:\\users\\amine\\desktop\\9raya\\nlp\\nlp_proj_venv\\lib\\site-packages (from smart-open>=1.8.1->gensim->-r requirements.txt (line 9)) (1.17.2)\n",
      "Requirement already satisfied: parso<0.9.0,>=0.8.4 in c:\\users\\amine\\desktop\\9raya\\nlp\\nlp_proj_venv\\lib\\site-packages (from jedi>=0.16->ipython>=7.23.1->ipykernel->-r requirements.txt (line 10)) (0.8.4)\n",
      "Requirement already satisfied: wcwidth in c:\\users\\amine\\desktop\\9raya\\nlp\\nlp_proj_venv\\lib\\site-packages (from prompt_toolkit<3.1.0,>=3.0.41->ipython>=7.23.1->ipykernel->-r requirements.txt (line 10)) (0.2.13)\n",
      "Requirement already satisfied: executing>=1.2.0 in c:\\users\\amine\\desktop\\9raya\\nlp\\nlp_proj_venv\\lib\\site-packages (from stack_data->ipython>=7.23.1->ipykernel->-r requirements.txt (line 10)) (2.2.0)\n",
      "Requirement already satisfied: asttokens>=2.1.0 in c:\\users\\amine\\desktop\\9raya\\nlp\\nlp_proj_venv\\lib\\site-packages (from stack_data->ipython>=7.23.1->ipykernel->-r requirements.txt (line 10)) (3.0.0)\n",
      "Requirement already satisfied: pure-eval in c:\\users\\amine\\desktop\\9raya\\nlp\\nlp_proj_venv\\lib\\site-packages (from stack_data->ipython>=7.23.1->ipykernel->-r requirements.txt (line 10)) (0.2.3)\n"
     ]
    },
    {
     "name": "stderr",
     "output_type": "stream",
     "text": [
      "\n",
      "[notice] A new release of pip is available: 24.0 -> 25.0.1\n",
      "[notice] To update, run: python.exe -m pip install --upgrade pip\n"
     ]
    }
   ],
   "source": [
    "!pip install --no-cache-dir -r requirements.txt"
   ]
  },
  {
   "cell_type": "markdown",
   "metadata": {},
   "source": [
    "# Import modules"
   ]
  },
  {
   "cell_type": "code",
   "execution_count": null,
   "metadata": {},
   "outputs": [
    {
     "name": "stderr",
     "output_type": "stream",
     "text": [
      "c:\\Users\\Amine\\Desktop\\9raya\\NLP\\nlp_proj_venv\\Lib\\site-packages\\tqdm\\auto.py:21: TqdmWarning: IProgress not found. Please update jupyter and ipywidgets. See https://ipywidgets.readthedocs.io/en/stable/user_install.html\n",
      "  from .autonotebook import tqdm as notebook_tqdm\n"
     ]
    }
   ],
   "source": [
    "from datasets import load_dataset\n",
    "import numpy as np\n",
    "import pandas as pd\n",
    "pd.options.display.float_format = \"{:.3f}\".format\n",
    "\n",
    "from datetime import datetime\n",
    "\n",
    "import json\n",
    "import random\n",
    "\n",
    "import matplotlib.pyplot as plt\n",
    "import seaborn as sns\n",
    "import plotly.express as px\n",
    "\n",
    "import requests\n",
    "from PIL import Image\n",
    "from io import BytesIO\n",
    "\n",
    "from sklearn.utils import resample\n",
    "\n",
    "import re\n",
    "import nltk\n",
    "from nltk.corpus import stopwords\n",
    "from string import punctuation"
   ]
  },
  {
   "cell_type": "markdown",
   "metadata": {},
   "source": [
    "# Load the dataset from HuggingFace"
   ]
  },
  {
   "cell_type": "code",
   "execution_count": 3,
   "metadata": {},
   "outputs": [],
   "source": [
    "dataset = load_dataset(\"McAuley-Lab/Amazon-Reviews-2023\", \"raw_review_All_Beauty\", trust_remote_code=True)"
   ]
  },
  {
   "cell_type": "code",
   "execution_count": 4,
   "metadata": {},
   "outputs": [
    {
     "data": {
      "text/plain": [
       "DatasetDict({\n",
       "    full: Dataset({\n",
       "        features: ['rating', 'title', 'text', 'images', 'asin', 'parent_asin', 'user_id', 'timestamp', 'helpful_vote', 'verified_purchase'],\n",
       "        num_rows: 701528\n",
       "    })\n",
       "})"
      ]
     },
     "execution_count": 4,
     "metadata": {},
     "output_type": "execute_result"
    }
   ],
   "source": [
    "dataset"
   ]
  },
  {
   "cell_type": "markdown",
   "metadata": {},
   "source": [
    "# Extract the dataset from the dictionary"
   ]
  },
  {
   "cell_type": "code",
   "execution_count": 5,
   "metadata": {},
   "outputs": [],
   "source": [
    "dataset = dataset[\"full\"]"
   ]
  },
  {
   "cell_type": "code",
   "execution_count": 6,
   "metadata": {},
   "outputs": [
    {
     "data": {
      "text/plain": [
       "(701528, 10)"
      ]
     },
     "execution_count": 6,
     "metadata": {},
     "output_type": "execute_result"
    }
   ],
   "source": [
    "dataset.shape"
   ]
  },
  {
   "cell_type": "markdown",
   "metadata": {},
   "source": [
    "We can see our initial dataset contains 701K entries and 10 rows.\n",
    "\n",
    "Let's take a look at an example."
   ]
  },
  {
   "cell_type": "code",
   "execution_count": 7,
   "metadata": {},
   "outputs": [
    {
     "data": {
      "text/plain": [
       "{'rating': 5.0,\n",
       " 'title': 'Such a lovely scent but not overpowering.',\n",
       " 'text': \"This spray is really nice. It smells really good, goes on really fine, and does the trick. I will say it feels like you need a lot of it though to get the texture I want. I have a lot of hair, medium thickness. I am comparing to other brands with yucky chemicals so I'm gonna stick with this. Try it!\",\n",
       " 'images': [],\n",
       " 'asin': 'B00YQ6X8EO',\n",
       " 'parent_asin': 'B00YQ6X8EO',\n",
       " 'user_id': 'AGKHLEW2SOWHNMFQIJGBECAF7INQ',\n",
       " 'timestamp': 1588687728923,\n",
       " 'helpful_vote': 0,\n",
       " 'verified_purchase': True}"
      ]
     },
     "execution_count": 7,
     "metadata": {},
     "output_type": "execute_result"
    }
   ],
   "source": [
    "dataset[0]"
   ]
  },
  {
   "cell_type": "markdown",
   "metadata": {},
   "source": [
    "We will convert the Dataset instance to a pandas dataframe (to make it easier to work with)"
   ]
  },
  {
   "cell_type": "code",
   "execution_count": 8,
   "metadata": {},
   "outputs": [],
   "source": [
    "df = dataset.to_pandas()"
   ]
  },
  {
   "cell_type": "markdown",
   "metadata": {},
   "source": [
    "Let's start exploring our dataset properly."
   ]
  },
  {
   "cell_type": "markdown",
   "metadata": {},
   "source": [
    "#### General info"
   ]
  },
  {
   "cell_type": "code",
   "execution_count": 9,
   "metadata": {},
   "outputs": [
    {
     "name": "stdout",
     "output_type": "stream",
     "text": [
      "<class 'pandas.core.frame.DataFrame'>\n",
      "RangeIndex: 701528 entries, 0 to 701527\n",
      "Data columns (total 10 columns):\n",
      " #   Column             Non-Null Count   Dtype  \n",
      "---  ------             --------------   -----  \n",
      " 0   rating             701528 non-null  float64\n",
      " 1   title              701528 non-null  object \n",
      " 2   text               701528 non-null  object \n",
      " 3   images             701528 non-null  object \n",
      " 4   asin               701528 non-null  object \n",
      " 5   parent_asin        701528 non-null  object \n",
      " 6   user_id            701528 non-null  object \n",
      " 7   timestamp          701528 non-null  int64  \n",
      " 8   helpful_vote       701528 non-null  int64  \n",
      " 9   verified_purchase  701528 non-null  bool   \n",
      "dtypes: bool(1), float64(1), int64(2), object(6)\n",
      "memory usage: 48.8+ MB\n"
     ]
    }
   ],
   "source": [
    "df.info()"
   ]
  },
  {
   "cell_type": "markdown",
   "metadata": {},
   "source": [
    "We have 3 numerical features and 7 categorical ones of which one is a boolean:\n",
    "\n",
    "- rating: represents the actual rating of the product. It is currently set to float64, which uses quite a bit of memory. We will see if it can be optimized.\n",
    "- title: the review title which can be used for the sentiment analysis later.\n",
    "- text: the review text itself, the primary feature for the sentiment analysis.\n",
    "- images: probably the product image(s).\n",
    "- asin: the sub-category of a product.\n",
    "- parent_asin: the parent category of a product (All_Beauty, Automotive, etc.). You can find the other categories <a href=\"https://amazon-reviews-2023.github.io/\"><strong>here</strong></a>.\n",
    "- user_id: id of the user who submitted the review.\n",
    "- timestamp: time of the review. It's set to int64. We will see if it can be optimized.\n",
    "- helpful_vote: the number of uses who found a review helpful. Again, we will see if we can reduce the bit size.\n",
    "- verified_purchase: a boolean value to see if a purchase is verified or not. It could be useless for our case.\n",
    "\n",
    "We notice this dataframe uses more than 48.8 MB of memory. Optimizing numerical types here is key to ensure faster computation later on."
   ]
  },
  {
   "cell_type": "markdown",
   "metadata": {},
   "source": [
    "Let's take a look at the means, standard deviations and ranges of our numerical features."
   ]
  },
  {
   "cell_type": "code",
   "execution_count": 10,
   "metadata": {},
   "outputs": [
    {
     "data": {
      "text/html": [
       "<div>\n",
       "<style scoped>\n",
       "    .dataframe tbody tr th:only-of-type {\n",
       "        vertical-align: middle;\n",
       "    }\n",
       "\n",
       "    .dataframe tbody tr th {\n",
       "        vertical-align: top;\n",
       "    }\n",
       "\n",
       "    .dataframe thead th {\n",
       "        text-align: right;\n",
       "    }\n",
       "</style>\n",
       "<table border=\"1\" class=\"dataframe\">\n",
       "  <thead>\n",
       "    <tr style=\"text-align: right;\">\n",
       "      <th></th>\n",
       "      <th>count</th>\n",
       "      <th>mean</th>\n",
       "      <th>std</th>\n",
       "      <th>min</th>\n",
       "      <th>1%</th>\n",
       "      <th>5%</th>\n",
       "      <th>25%</th>\n",
       "      <th>50%</th>\n",
       "      <th>75%</th>\n",
       "      <th>95%</th>\n",
       "      <th>99%</th>\n",
       "      <th>max</th>\n",
       "    </tr>\n",
       "  </thead>\n",
       "  <tbody>\n",
       "    <tr>\n",
       "      <th>rating</th>\n",
       "      <td>701528.000</td>\n",
       "      <td>3.960</td>\n",
       "      <td>1.494</td>\n",
       "      <td>1.000</td>\n",
       "      <td>1.000</td>\n",
       "      <td>1.000</td>\n",
       "      <td>3.000</td>\n",
       "      <td>5.000</td>\n",
       "      <td>5.000</td>\n",
       "      <td>5.000</td>\n",
       "      <td>5.000</td>\n",
       "      <td>5.000</td>\n",
       "    </tr>\n",
       "    <tr>\n",
       "      <th>timestamp</th>\n",
       "      <td>701528.000</td>\n",
       "      <td>1554780708115.047</td>\n",
       "      <td>80057918775.209</td>\n",
       "      <td>973052658000.000</td>\n",
       "      <td>1309311503890.000</td>\n",
       "      <td>1420133678800.000</td>\n",
       "      <td>1501616365777.500</td>\n",
       "      <td>1571595088616.500</td>\n",
       "      <td>1614647105558.000</td>\n",
       "      <td>1660009295103.750</td>\n",
       "      <td>1678083747329.760</td>\n",
       "      <td>1694219976666.000</td>\n",
       "    </tr>\n",
       "    <tr>\n",
       "      <th>helpful_vote</th>\n",
       "      <td>701528.000</td>\n",
       "      <td>0.924</td>\n",
       "      <td>5.471</td>\n",
       "      <td>0.000</td>\n",
       "      <td>0.000</td>\n",
       "      <td>0.000</td>\n",
       "      <td>0.000</td>\n",
       "      <td>0.000</td>\n",
       "      <td>1.000</td>\n",
       "      <td>4.000</td>\n",
       "      <td>13.000</td>\n",
       "      <td>646.000</td>\n",
       "    </tr>\n",
       "  </tbody>\n",
       "</table>\n",
       "</div>"
      ],
      "text/plain": [
       "                  count              mean             std              min  \\\n",
       "rating       701528.000             3.960           1.494            1.000   \n",
       "timestamp    701528.000 1554780708115.047 80057918775.209 973052658000.000   \n",
       "helpful_vote 701528.000             0.924           5.471            0.000   \n",
       "\n",
       "                            1%                5%               25%  \\\n",
       "rating                   1.000             1.000             3.000   \n",
       "timestamp    1309311503890.000 1420133678800.000 1501616365777.500   \n",
       "helpful_vote             0.000             0.000             0.000   \n",
       "\n",
       "                           50%               75%               95%  \\\n",
       "rating                   5.000             5.000             5.000   \n",
       "timestamp    1571595088616.500 1614647105558.000 1660009295103.750   \n",
       "helpful_vote             0.000             1.000             4.000   \n",
       "\n",
       "                           99%               max  \n",
       "rating                   5.000             5.000  \n",
       "timestamp    1678083747329.760 1694219976666.000  \n",
       "helpful_vote            13.000           646.000  "
      ]
     },
     "execution_count": 10,
     "metadata": {},
     "output_type": "execute_result"
    }
   ],
   "source": [
    "df.describe(percentiles=[0.01, 0.05, 0.25, 0.5, 0.75, 0.95, 0.99]).transpose()"
   ]
  },
  {
   "cell_type": "markdown",
   "metadata": {},
   "source": [
    "- The rating ranges from 1 to 5 with a mean sitting at 3.96 and a standard deviation of 1.494, indicating a possible right-skewed distribution.\n",
    "We can refer to the image below for a better understanding:\n",
    "\n",
    "<figure style=\"width: 600px; height: 500px; display: block; margin: auto;\">\n",
    "    <img src=\"https://miro.medium.com/v2/resize:fit:846/1*XU3Kdl521XnWHECHZ7XOaQ.jpeg\">\n",
    "</figure>\n",
    "\n",
    "- The timestamp could give us an idea about the time period around when the product was bought. We will decode it later.\n",
    "\n",
    "- The mean of helpful_vote sits at 0.924 with a standard deviation at 5.471, it ranges from 0 to 646. However, the 99%th percentile is at 13. Therefore, outliers could be present."
   ]
  },
  {
   "cell_type": "markdown",
   "metadata": {},
   "source": [
    "Now that we have a good overall idea about this dataset, it's time to jump into the Exploratory Data Analysis.\n",
    "\n",
    "# EDA & Feature Engineering"
   ]
  },
  {
   "cell_type": "markdown",
   "metadata": {},
   "source": [
    "## Check for unique values\n",
    "\n",
    "We'll start by checking for unique values of certain features first."
   ]
  },
  {
   "cell_type": "markdown",
   "metadata": {},
   "source": [
    "+ rating"
   ]
  },
  {
   "cell_type": "code",
   "execution_count": 11,
   "metadata": {},
   "outputs": [
    {
     "name": "stdout",
     "output_type": "stream",
     "text": [
      "Unique values for rating: [5. 4. 1. 3. 2.]\n",
      "Value counts for rating: rating\n",
      "5.000    420726\n",
      "1.000    102080\n",
      "4.000     79381\n",
      "3.000     56307\n",
      "2.000     43034\n",
      "Name: count, dtype: int64\n"
     ]
    }
   ],
   "source": [
    "print(f\"Unique values for rating: {df['rating'].unique()}\")\n",
    "print(f\"Value counts for rating: {df['rating'].value_counts()}\")"
   ]
  },
  {
   "cell_type": "markdown",
   "metadata": {},
   "source": [
    "We observe that the 5 star reviews are dominant, making about 60% of the dataset, while the rest cover around %40.\n",
    "This is actually a good opportnuity to check why type optimization, when possible, is important, especially when working large datasets. First, we will compute the percentages of each value with `float64`. Then, we will cast to pandas' `int8` (since there is no pandas int4 and to avoid compatibility issues)."
   ]
  },
  {
   "cell_type": "code",
   "execution_count": 12,
   "metadata": {},
   "outputs": [],
   "source": [
    "def calculate_ratings():\n",
    "    ratings = [1.0, 2.0, 3.0, 4.0, 5.0]\n",
    "    for rating in ratings:\n",
    "        rating_count = df[df['rating'] == rating]['rating'].count()\n",
    "        total_count = df['rating'].count()\n",
    "        percentage = (rating_count / total_count) * 100\n",
    "        print(f\"Percentage of rating {rating}: {percentage:.2f}%\")"
   ]
  },
  {
   "cell_type": "code",
   "execution_count": 13,
   "metadata": {},
   "outputs": [],
   "source": [
    "# If you want to re-run the calculations with 'float64', uncomment the line below and run this cell.\n",
    "# df['rating'] = df['rating'].astype(pd.Float64Dtype())"
   ]
  },
  {
   "cell_type": "code",
   "execution_count": 14,
   "metadata": {},
   "outputs": [
    {
     "name": "stdout",
     "output_type": "stream",
     "text": [
      "Percentage of rating 1.0: 14.55%\n",
      "Percentage of rating 2.0: 6.13%\n",
      "Percentage of rating 3.0: 8.03%\n",
      "Percentage of rating 4.0: 11.32%\n",
      "Percentage of rating 5.0: 59.97%\n",
      "CPU times: total: 156 ms\n",
      "Wall time: 159 ms\n"
     ]
    }
   ],
   "source": [
    "%%time\n",
    "\n",
    "calculate_ratings()"
   ]
  },
  {
   "cell_type": "markdown",
   "metadata": {},
   "source": [
    "Let's transform the column type to int8, `pd.Int8Dtype` to be precise."
   ]
  },
  {
   "cell_type": "code",
   "execution_count": 15,
   "metadata": {},
   "outputs": [],
   "source": [
    "df['rating'] = df['rating'].astype(pd.Int8Dtype())"
   ]
  },
  {
   "cell_type": "code",
   "execution_count": 16,
   "metadata": {},
   "outputs": [
    {
     "name": "stdout",
     "output_type": "stream",
     "text": [
      "Percentage of rating 1.0: 14.55%\n",
      "Percentage of rating 2.0: 6.13%\n",
      "Percentage of rating 3.0: 8.03%\n",
      "Percentage of rating 4.0: 11.32%\n",
      "Percentage of rating 5.0: 59.97%\n",
      "CPU times: total: 172 ms\n",
      "Wall time: 180 ms\n"
     ]
    }
   ],
   "source": [
    "%%time\n",
    "\n",
    "calculate_ratings()"
   ]
  },
  {
   "cell_type": "markdown",
   "metadata": {},
   "source": [
    "We can see that it takes less time to compute. The dataframe will certainly use less memory than before. Let's verify."
   ]
  },
  {
   "cell_type": "code",
   "execution_count": 17,
   "metadata": {},
   "outputs": [
    {
     "name": "stdout",
     "output_type": "stream",
     "text": [
      "<class 'pandas.core.frame.DataFrame'>\n",
      "RangeIndex: 701528 entries, 0 to 701527\n",
      "Data columns (total 10 columns):\n",
      " #   Column             Non-Null Count   Dtype \n",
      "---  ------             --------------   ----- \n",
      " 0   rating             701528 non-null  Int8  \n",
      " 1   title              701528 non-null  object\n",
      " 2   text               701528 non-null  object\n",
      " 3   images             701528 non-null  object\n",
      " 4   asin               701528 non-null  object\n",
      " 5   parent_asin        701528 non-null  object\n",
      " 6   user_id            701528 non-null  object\n",
      " 7   timestamp          701528 non-null  int64 \n",
      " 8   helpful_vote       701528 non-null  int64 \n",
      " 9   verified_purchase  701528 non-null  bool  \n",
      "dtypes: Int8(1), bool(1), int64(2), object(6)\n",
      "memory usage: 44.8+ MB\n"
     ]
    }
   ],
   "source": [
    "df.info()"
   ]
  },
  {
   "cell_type": "markdown",
   "metadata": {},
   "source": [
    "Notice how we're now using 4 MB less than before.\n",
    "\n",
    "With that said and done, let's draw a histogram of the ratings."
   ]
  },
  {
   "cell_type": "code",
   "execution_count": 18,
   "metadata": {},
   "outputs": [
    {
     "data": {
      "image/png": "[encoded data removed]",
      "text/plain": [
       "<Figure size 640x480 with 1 Axes>"
      ]
     },
     "metadata": {},
     "output_type": "display_data"
    }
   ],
   "source": [
    "sns.countplot(x='rating', data=df, palette='viridis', hue='rating')\n",
    "plt.title('Distribution of Ratings')\n",
    "plt.xlabel('Rating')\n",
    "plt.ylabel('Count')\n",
    "plt.show()"
   ]
  },
  {
   "cell_type": "markdown",
   "metadata": {},
   "source": [
    "+ verified_purchase"
   ]
  },
  {
   "cell_type": "code",
   "execution_count": 19,
   "metadata": {},
   "outputs": [
    {
     "name": "stdout",
     "output_type": "stream",
     "text": [
      "Unique values for verified_purchase: [ True False]\n",
      "Value counts for verified_purchase: verified_purchase\n",
      "True     634969\n",
      "False     66559\n",
      "Name: count, dtype: int64\n"
     ]
    }
   ],
   "source": [
    "print(f\"Unique values for verified_purchase: {df['verified_purchase'].unique()}\")\n",
    "print(f\"Value counts for verified_purchase: {df['verified_purchase'].value_counts()}\")"
   ]
  },
  {
   "cell_type": "markdown",
   "metadata": {},
   "source": [
    "There isn't much to interpret here, aside from the review's credibility (maybe ?).\n",
    "\n",
    "Let's plot its corresponding piechart."
   ]
  },
  {
   "cell_type": "code",
   "execution_count": 20,
   "metadata": {},
   "outputs": [
    {
     "data": {
      "image/png": "[encoded data removed]",
      "text/plain": [
       "<Figure size 640x480 with 1 Axes>"
      ]
     },
     "metadata": {},
     "output_type": "display_data"
    }
   ],
   "source": [
    "df['verified_purchase'].value_counts().plot(kind='pie', autopct='%1.1f%%',\n",
    "                                            colors=['lightcoral', 'lightskyblue'],\n",
    "                                            wedgeprops={'edgecolor': 'black', 'linewidth': 1})\n",
    "plt.title('Verified Purchase Distribution')\n",
    "plt.ylabel('')\n",
    "plt.show()"
   ]
  },
  {
   "cell_type": "markdown",
   "metadata": {},
   "source": [
    "## Decoding timestamps"
   ]
  },
  {
   "cell_type": "markdown",
   "metadata": {},
   "source": [
    "The timestamp is in Unix epochs, milliseconds. It's understandable to systems and computers but not to us humans. We will decode it to a normal date format and use it for later plots."
   ]
  },
  {
   "cell_type": "code",
   "execution_count": 21,
   "metadata": {},
   "outputs": [],
   "source": [
    "def decode_timestamp(timestamp):\n",
    "    timestamp_seconds = timestamp // 1000\n",
    "    date = datetime.fromtimestamp(timestamp_seconds)\n",
    "\n",
    "    return date.strftime('%Y-%m-%d') ## YYYY-MM-DD format"
   ]
  },
  {
   "cell_type": "code",
   "execution_count": 22,
   "metadata": {},
   "outputs": [],
   "source": [
    "df[\"timestamp\"] = df[\"timestamp\"].apply(decode_timestamp)"
   ]
  },
  {
   "cell_type": "code",
   "execution_count": 23,
   "metadata": {},
   "outputs": [
    {
     "data": {
      "text/plain": [
       "0    2020-05-05\n",
       "1    2020-05-04\n",
       "2    2020-05-16\n",
       "3    2022-01-28\n",
       "4    2020-12-30\n",
       "Name: timestamp, dtype: object"
      ]
     },
     "execution_count": 23,
     "metadata": {},
     "output_type": "execute_result"
    }
   ],
   "source": [
    "df[\"timestamp\"].head()"
   ]
  },
  {
   "cell_type": "markdown",
   "metadata": {},
   "source": [
    "This allows us to better understand the distributions of reviews over time. Let's convert it to datetime."
   ]
  },
  {
   "cell_type": "code",
   "execution_count": 24,
   "metadata": {},
   "outputs": [],
   "source": [
    "df[\"timestamp\"] = pd.to_datetime(df[\"timestamp\"])"
   ]
  },
  {
   "cell_type": "markdown",
   "metadata": {},
   "source": [
    "Let's plot the distribution of reviews by year."
   ]
  },
  {
   "cell_type": "code",
   "execution_count": 25,
   "metadata": {},
   "outputs": [
    {
     "data": {
      "application/vnd.plotly.v1+json": {
       "config": {
        "plotlyServerURL": "https://plot.ly"
       },
       "data": [
        {
         "hovertemplate": "Year=%{x}<br>Number of Reviews=%{y}<extra></extra>",
         "legendgroup": "",
         "marker": {
          "color": "#636efa",
          "pattern": {
           "shape": ""
          }
         },
         "name": "",
         "orientation": "v",
         "showlegend": false,
         "textposition": "auto",
         "type": "bar",
         "x": {
          "bdata": "0AcAANEHAADSBwAA0wcAANQHAADVBwAA1gcAANcHAADYBwAA2QcAANoHAADbBwAA3AcAAN0HAADeBwAA3wcAAOAHAADhBwAA4gcAAOMHAADkBwAA5QcAAOYHAADnBwAA",
          "dtype": "i4"
         },
         "xaxis": "x",
         "y": {
          "bdata": "AQAAAAwAAAAYAAAAOAAAAIYAAAALAQAAowEAAIoEAAD1BAAAtwQAADIGAABVBwAA8woAAAwfAACRPwAAkY0AABX1AADHCQEA+hsBACaDAQAp7wEA7OcBAI3wAABLOAAA",
          "dtype": "i4"
         },
         "yaxis": "y"
        }
       ],
       "layout": {
        "barmode": "relative",
        "legend": {
         "tracegroupgap": 0
        },
        "template": {
         "data": {
          "bar": [
           {
            "error_x": {
             "color": "#f2f5fa"
            },
            "error_y": {
             "color": "#f2f5fa"
            },
            "marker": {
             "line": {
              "color": "rgb(17,17,17)",
              "width": 0.5
             },
             "pattern": {
              "fillmode": "overlay",
              "size": 10,
              "solidity": 0.2
             }
            },
            "type": "bar"
           }
          ],
          "barpolar": [
           {
            "marker": {
             "line": {
              "color": "rgb(17,17,17)",
              "width": 0.5
             },
             "pattern": {
              "fillmode": "overlay",
              "size": 10,
              "solidity": 0.2
             }
            },
            "type": "barpolar"
           }
          ],
          "carpet": [
           {
            "aaxis": {
             "endlinecolor": "#A2B1C6",
             "gridcolor": "#506784",
             "linecolor": "#506784",
             "minorgridcolor": "#506784",
             "startlinecolor": "#A2B1C6"
            },
            "baxis": {
             "endlinecolor": "#A2B1C6",
             "gridcolor": "#506784",
             "linecolor": "#506784",
             "minorgridcolor": "#506784",
             "startlinecolor": "#A2B1C6"
            },
            "type": "carpet"
           }
          ],
          "choropleth": [
           {
            "colorbar": {
             "outlinewidth": 0,
             "ticks": ""
            },
            "type": "choropleth"
           }
          ],
          "contour": [
           {
            "colorbar": {
             "outlinewidth": 0,
             "ticks": ""
            },
            "colorscale": [
             [
              0,
              "#0d0887"
             ],
             [
              0.1111111111111111,
              "#46039f"
             ],
             [
              0.2222222222222222,
              "#7201a8"
             ],
             [
              0.3333333333333333,
              "#9c179e"
             ],
             [
              0.4444444444444444,
              "#bd3786"
             ],
             [
              0.5555555555555556,
              "#d8576b"
             ],
             [
              0.6666666666666666,
              "#ed7953"
             ],
             [
              0.7777777777777778,
              "#fb9f3a"
             ],
             [
              0.8888888888888888,
              "#fdca26"
             ],
             [
              1,
              "#f0f921"
             ]
            ],
            "type": "contour"
           }
          ],
          "contourcarpet": [
           {
            "colorbar": {
             "outlinewidth": 0,
             "ticks": ""
            },
            "type": "contourcarpet"
           }
          ],
          "heatmap": [
           {
            "colorbar": {
             "outlinewidth": 0,
             "ticks": ""
            },
            "colorscale": [
             [
              0,
              "#0d0887"
             ],
             [
              0.1111111111111111,
              "#46039f"
             ],
             [
              0.2222222222222222,
              "#7201a8"
             ],
             [
              0.3333333333333333,
              "#9c179e"
             ],
             [
              0.4444444444444444,
              "#bd3786"
             ],
             [
              0.5555555555555556,
              "#d8576b"
             ],
             [
              0.6666666666666666,
              "#ed7953"
             ],
             [
              0.7777777777777778,
              "#fb9f3a"
             ],
             [
              0.8888888888888888,
              "#fdca26"
             ],
             [
              1,
              "#f0f921"
             ]
            ],
            "type": "heatmap"
           }
          ],
          "histogram": [
           {
            "marker": {
             "pattern": {
              "fillmode": "overlay",
              "size": 10,
              "solidity": 0.2
             }
            },
            "type": "histogram"
           }
          ],
          "histogram2d": [
           {
            "colorbar": {
             "outlinewidth": 0,
             "ticks": ""
            },
            "colorscale": [
             [
              0,
              "#0d0887"
             ],
             [
              0.1111111111111111,
              "#46039f"
             ],
             [
              0.2222222222222222,
              "#7201a8"
             ],
             [
              0.3333333333333333,
              "#9c179e"
             ],
             [
              0.4444444444444444,
              "#bd3786"
             ],
             [
              0.5555555555555556,
              "#d8576b"
             ],
             [
              0.6666666666666666,
              "#ed7953"
             ],
             [
              0.7777777777777778,
              "#fb9f3a"
             ],
             [
              0.8888888888888888,
              "#fdca26"
             ],
             [
              1,
              "#f0f921"
             ]
            ],
            "type": "histogram2d"
           }
          ],
          "histogram2dcontour": [
           {
            "colorbar": {
             "outlinewidth": 0,
             "ticks": ""
            },
            "colorscale": [
             [
              0,
              "#0d0887"
             ],
             [
              0.1111111111111111,
              "#46039f"
             ],
             [
              0.2222222222222222,
              "#7201a8"
             ],
             [
              0.3333333333333333,
              "#9c179e"
             ],
             [
              0.4444444444444444,
              "#bd3786"
             ],
             [
              0.5555555555555556,
              "#d8576b"
             ],
             [
              0.6666666666666666,
              "#ed7953"
             ],
             [
              0.7777777777777778,
              "#fb9f3a"
             ],
             [
              0.8888888888888888,
              "#fdca26"
             ],
             [
              1,
              "#f0f921"
             ]
            ],
            "type": "histogram2dcontour"
           }
          ],
          "mesh3d": [
           {
            "colorbar": {
             "outlinewidth": 0,
             "ticks": ""
            },
            "type": "mesh3d"
           }
          ],
          "parcoords": [
           {
            "line": {
             "colorbar": {
              "outlinewidth": 0,
              "ticks": ""
             }
            },
            "type": "parcoords"
           }
          ],
          "pie": [
           {
            "automargin": true,
            "type": "pie"
           }
          ],
          "scatter": [
           {
            "marker": {
             "line": {
              "color": "#283442"
             }
            },
            "type": "scatter"
           }
          ],
          "scatter3d": [
           {
            "line": {
             "colorbar": {
              "outlinewidth": 0,
              "ticks": ""
             }
            },
            "marker": {
             "colorbar": {
              "outlinewidth": 0,
              "ticks": ""
             }
            },
            "type": "scatter3d"
           }
          ],
          "scattercarpet": [
           {
            "marker": {
             "colorbar": {
              "outlinewidth": 0,
              "ticks": ""
             }
            },
            "type": "scattercarpet"
           }
          ],
          "scattergeo": [
           {
            "marker": {
             "colorbar": {
              "outlinewidth": 0,
              "ticks": ""
             }
            },
            "type": "scattergeo"
           }
          ],
          "scattergl": [
           {
            "marker": {
             "line": {
              "color": "#283442"
             }
            },
            "type": "scattergl"
           }
          ],
          "scattermap": [
           {
            "marker": {
             "colorbar": {
              "outlinewidth": 0,
              "ticks": ""
             }
            },
            "type": "scattermap"
           }
          ],
          "scattermapbox": [
           {
            "marker": {
             "colorbar": {
              "outlinewidth": 0,
              "ticks": ""
             }
            },
            "type": "scattermapbox"
           }
          ],
          "scatterpolar": [
           {
            "marker": {
             "colorbar": {
              "outlinewidth": 0,
              "ticks": ""
             }
            },
            "type": "scatterpolar"
           }
          ],
          "scatterpolargl": [
           {
            "marker": {
             "colorbar": {
              "outlinewidth": 0,
              "ticks": ""
             }
            },
            "type": "scatterpolargl"
           }
          ],
          "scatterternary": [
           {
            "marker": {
             "colorbar": {
              "outlinewidth": 0,
              "ticks": ""
             }
            },
            "type": "scatterternary"
           }
          ],
          "surface": [
           {
            "colorbar": {
             "outlinewidth": 0,
             "ticks": ""
            },
            "colorscale": [
             [
              0,
              "#0d0887"
             ],
             [
              0.1111111111111111,
              "#46039f"
             ],
             [
              0.2222222222222222,
              "#7201a8"
             ],
             [
              0.3333333333333333,
              "#9c179e"
             ],
             [
              0.4444444444444444,
              "#bd3786"
             ],
             [
              0.5555555555555556,
              "#d8576b"
             ],
             [
              0.6666666666666666,
              "#ed7953"
             ],
             [
              0.7777777777777778,
              "#fb9f3a"
             ],
             [
              0.8888888888888888,
              "#fdca26"
             ],
             [
              1,
              "#f0f921"
             ]
            ],
            "type": "surface"
           }
          ],
          "table": [
           {
            "cells": {
             "fill": {
              "color": "#506784"
             },
             "line": {
              "color": "rgb(17,17,17)"
             }
            },
            "header": {
             "fill": {
              "color": "#2a3f5f"
             },
             "line": {
              "color": "rgb(17,17,17)"
             }
            },
            "type": "table"
           }
          ]
         },
         "layout": {
          "annotationdefaults": {
           "arrowcolor": "#f2f5fa",
           "arrowhead": 0,
           "arrowwidth": 1
          },
          "autotypenumbers": "strict",
          "coloraxis": {
           "colorbar": {
            "outlinewidth": 0,
            "ticks": ""
           }
          },
          "colorscale": {
           "diverging": [
            [
             0,
             "#8e0152"
            ],
            [
             0.1,
             "#c51b7d"
            ],
            [
             0.2,
             "#de77ae"
            ],
            [
             0.3,
             "#f1b6da"
            ],
            [
             0.4,
             "#fde0ef"
            ],
            [
             0.5,
             "#f7f7f7"
            ],
            [
             0.6,
             "#e6f5d0"
            ],
            [
             0.7,
             "#b8e186"
            ],
            [
             0.8,
             "#7fbc41"
            ],
            [
             0.9,
             "#4d9221"
            ],
            [
             1,
             "#276419"
            ]
           ],
           "sequential": [
            [
             0,
             "#0d0887"
            ],
            [
             0.1111111111111111,
             "#46039f"
            ],
            [
             0.2222222222222222,
             "#7201a8"
            ],
            [
             0.3333333333333333,
             "#9c179e"
            ],
            [
             0.4444444444444444,
             "#bd3786"
            ],
            [
             0.5555555555555556,
             "#d8576b"
            ],
            [
             0.6666666666666666,
             "#ed7953"
            ],
            [
             0.7777777777777778,
             "#fb9f3a"
            ],
            [
             0.8888888888888888,
             "#fdca26"
            ],
            [
             1,
             "#f0f921"
            ]
           ],
           "sequentialminus": [
            [
             0,
             "#0d0887"
            ],
            [
             0.1111111111111111,
             "#46039f"
            ],
            [
             0.2222222222222222,
             "#7201a8"
            ],
            [
             0.3333333333333333,
             "#9c179e"
            ],
            [
             0.4444444444444444,
             "#bd3786"
            ],
            [
             0.5555555555555556,
             "#d8576b"
            ],
            [
             0.6666666666666666,
             "#ed7953"
            ],
            [
             0.7777777777777778,
             "#fb9f3a"
            ],
            [
             0.8888888888888888,
             "#fdca26"
            ],
            [
             1,
             "#f0f921"
            ]
           ]
          },
          "colorway": [
           "#636efa",
           "#EF553B",
           "#00cc96",
           "#ab63fa",
           "#FFA15A",
           "#19d3f3",
           "#FF6692",
           "#B6E880",
           "#FF97FF",
           "#FECB52"
          ],
          "font": {
           "color": "#f2f5fa"
          },
          "geo": {
           "bgcolor": "rgb(17,17,17)",
           "lakecolor": "rgb(17,17,17)",
           "landcolor": "rgb(17,17,17)",
           "showlakes": true,
           "showland": true,
           "subunitcolor": "#506784"
          },
          "hoverlabel": {
           "align": "left"
          },
          "hovermode": "closest",
          "mapbox": {
           "style": "dark"
          },
          "paper_bgcolor": "rgb(17,17,17)",
          "plot_bgcolor": "rgb(17,17,17)",
          "polar": {
           "angularaxis": {
            "gridcolor": "#506784",
            "linecolor": "#506784",
            "ticks": ""
           },
           "bgcolor": "rgb(17,17,17)",
           "radialaxis": {
            "gridcolor": "#506784",
            "linecolor": "#506784",
            "ticks": ""
           }
          },
          "scene": {
           "xaxis": {
            "backgroundcolor": "rgb(17,17,17)",
            "gridcolor": "#506784",
            "gridwidth": 2,
            "linecolor": "#506784",
            "showbackground": true,
            "ticks": "",
            "zerolinecolor": "#C8D4E3"
           },
           "yaxis": {
            "backgroundcolor": "rgb(17,17,17)",
            "gridcolor": "#506784",
            "gridwidth": 2,
            "linecolor": "#506784",
            "showbackground": true,
            "ticks": "",
            "zerolinecolor": "#C8D4E3"
           },
           "zaxis": {
            "backgroundcolor": "rgb(17,17,17)",
            "gridcolor": "#506784",
            "gridwidth": 2,
            "linecolor": "#506784",
            "showbackground": true,
            "ticks": "",
            "zerolinecolor": "#C8D4E3"
           }
          },
          "shapedefaults": {
           "line": {
            "color": "#f2f5fa"
           }
          },
          "sliderdefaults": {
           "bgcolor": "#C8D4E3",
           "bordercolor": "rgb(17,17,17)",
           "borderwidth": 1,
           "tickwidth": 0
          },
          "ternary": {
           "aaxis": {
            "gridcolor": "#506784",
            "linecolor": "#506784",
            "ticks": ""
           },
           "baxis": {
            "gridcolor": "#506784",
            "linecolor": "#506784",
            "ticks": ""
           },
           "bgcolor": "rgb(17,17,17)",
           "caxis": {
            "gridcolor": "#506784",
            "linecolor": "#506784",
            "ticks": ""
           }
          },
          "title": {
           "x": 0.05
          },
          "updatemenudefaults": {
           "bgcolor": "#506784",
           "borderwidth": 0
          },
          "xaxis": {
           "automargin": true,
           "gridcolor": "#283442",
           "linecolor": "#506784",
           "ticks": "",
           "title": {
            "standoff": 15
           },
           "zerolinecolor": "#283442",
           "zerolinewidth": 2
          },
          "yaxis": {
           "automargin": true,
           "gridcolor": "#283442",
           "linecolor": "#506784",
           "ticks": "",
           "title": {
            "standoff": 15
           },
           "zerolinecolor": "#283442",
           "zerolinewidth": 2
          }
         }
        },
        "title": {
         "text": "Distribution of Reviews by Year"
        },
        "xaxis": {
         "anchor": "y",
         "domain": [
          0,
          1
         ],
         "title": {
          "text": "Year"
         }
        },
        "yaxis": {
         "anchor": "x",
         "domain": [
          0,
          1
         ],
         "title": {
          "text": "Number of Reviews"
         }
        }
       }
      }
     },
     "metadata": {},
     "output_type": "display_data"
    }
   ],
   "source": [
    "reviews_count_by_year = df.groupby(df['timestamp'].dt.year).size().reset_index(name='review_count') # Reindex as 'review_count'\n",
    "\n",
    "# We'll use plotly for interactive plots\n",
    "fig = px.bar(reviews_count_by_year, \n",
    "             x='timestamp', \n",
    "             y='review_count', \n",
    "             labels={'timestamp': 'Year', 'review_count': 'Number of Reviews'},\n",
    "             title=\"Distribution of Reviews by Year\",\n",
    "             template='plotly_dark')\n",
    "\n",
    "fig.show()"
   ]
  },
  {
   "cell_type": "markdown",
   "metadata": {},
   "source": [
    "With the rise of internet and online stores, many people around the world started shopping online. The numbers gradually increased over the years and so did the reviews. 2020, marked by the global pandemic SARS-CoV-2 (Covid 19), saw the highest number of Amazon reviewers at around 126K, followed by 2021 at near 125K. This is only logical since about everyone was confined to their homes and weren't allowed to go out, local stores and retailers ran out of stock and/or closed up.\n",
    "\n",
    "Although Amazon nowadays is notorious for botted reviews, the objective of today is to classify the reviews based on sentiments, not detect wether a review is real or not."
   ]
  },
  {
   "cell_type": "markdown",
   "metadata": {},
   "source": [
    "## Mapping parent_asin to the actual product name\n",
    "\n",
    "Product names are not present within the data itself but in the metadata. We have already downloaded the corresponding metadata jsonl file.\n",
    "We will deserialize it and map each parent_asin to its corresponding product name."
   ]
  },
  {
   "cell_type": "code",
   "execution_count": 26,
   "metadata": {},
   "outputs": [
    {
     "name": "stdout",
     "output_type": "stream",
     "text": [
      "Parsing JSON...\n",
      "Mapping parent_asin to product name...\n",
      "Mapped successfully...\n"
     ]
    }
   ],
   "source": [
    "file_path = \"./meta_All_Beauty.jsonl\"\n",
    "\n",
    "asin_to_title = {}\n",
    "\n",
    "print(\"Parsing JSON...\")\n",
    "with open(file_path, 'r') as f:\n",
    "    for line in f:\n",
    "        try:\n",
    "            data = json.loads(line)  # Parse JSON from the line\n",
    "            if \"parent_asin\" in data and \"title\" in data:\n",
    "                asin_to_title[data[\"parent_asin\"]] = data[\"title\"]\n",
    "        except json.JSONDecodeError as e:\n",
    "            print(f\"Skipping invalid JSON: {e}\")\n",
    "            continue\n",
    "\n",
    "print(\"Mapping parent_asin to product name...\")\n",
    "df[\"product_name\"] = df[\"parent_asin\"].map(asin_to_title)\n",
    "print(\"Mapped successfully...\")"
   ]
  },
  {
   "cell_type": "code",
   "execution_count": 27,
   "metadata": {},
   "outputs": [
    {
     "data": {
      "text/plain": [
       "0    Herbivore - Natural Sea Mist Texturizing Salt ...\n",
       "1    All Natural Vegan Dry Shampoo Powder - Eco Fri...\n",
       "2    New Road Beauty - Creamsicle - Variety 3 Pack ...\n",
       "3    muaowig Ombre Body Wave Bundles 1B Grey Human ...\n",
       "4    Yinhua Electric Nail Drill Kit Portable Profes...\n",
       "5             China Glaze Nail Polish, Wanderlust 1381\n",
       "6    Disposable Facial Cotton Tissue, 100PCS Cotton...\n",
       "7    Niseyo new Faux Locs 24 Inch Crochet Hair 6 Pa...\n",
       "8    NIRA Skincare Laser & Serum Bundle - Includes ...\n",
       "9    Caroline Keller Keratin Shampoo for dry and da...\n",
       "Name: product_name, dtype: object"
      ]
     },
     "execution_count": 27,
     "metadata": {},
     "output_type": "execute_result"
    }
   ],
   "source": [
    "# Let's take a look at a sample\n",
    "df[\"product_name\"].head(10)"
   ]
  },
  {
   "cell_type": "markdown",
   "metadata": {},
   "source": [
    "Let's take a look at the current state of our dataframe."
   ]
  },
  {
   "cell_type": "code",
   "execution_count": 28,
   "metadata": {},
   "outputs": [
    {
     "name": "stdout",
     "output_type": "stream",
     "text": [
      "<class 'pandas.core.frame.DataFrame'>\n",
      "RangeIndex: 701528 entries, 0 to 701527\n",
      "Data columns (total 11 columns):\n",
      " #   Column             Non-Null Count   Dtype         \n",
      "---  ------             --------------   -----         \n",
      " 0   rating             701528 non-null  Int8          \n",
      " 1   title              701528 non-null  object        \n",
      " 2   text               701528 non-null  object        \n",
      " 3   images             701528 non-null  object        \n",
      " 4   asin               701528 non-null  object        \n",
      " 5   parent_asin        701528 non-null  object        \n",
      " 6   user_id            701528 non-null  object        \n",
      " 7   timestamp          701528 non-null  datetime64[ns]\n",
      " 8   helpful_vote       701528 non-null  int64         \n",
      " 9   verified_purchase  701528 non-null  bool          \n",
      " 10  product_name       701528 non-null  object        \n",
      "dtypes: Int8(1), bool(1), datetime64[ns](1), int64(1), object(7)\n",
      "memory usage: 50.2+ MB\n"
     ]
    }
   ],
   "source": [
    "df.info()"
   ]
  },
  {
   "cell_type": "markdown",
   "metadata": {},
   "source": [
    "Columns like `user_id` and `asin` are of no use (except for frequency count or plotting). They only take up memory space. We will be dropping them.\n",
    "Also, since we have the actual product name, we can also drop the `parent_asin`."
   ]
  },
  {
   "cell_type": "code",
   "execution_count": 29,
   "metadata": {},
   "outputs": [],
   "source": [
    "df.drop(columns=['user_id', 'asin', 'parent_asin'], inplace=True)"
   ]
  },
  {
   "cell_type": "code",
   "execution_count": 30,
   "metadata": {},
   "outputs": [
    {
     "name": "stdout",
     "output_type": "stream",
     "text": [
      "<class 'pandas.core.frame.DataFrame'>\n",
      "RangeIndex: 701528 entries, 0 to 701527\n",
      "Data columns (total 8 columns):\n",
      " #   Column             Non-Null Count   Dtype         \n",
      "---  ------             --------------   -----         \n",
      " 0   rating             701528 non-null  Int8          \n",
      " 1   title              701528 non-null  object        \n",
      " 2   text               701528 non-null  object        \n",
      " 3   images             701528 non-null  object        \n",
      " 4   timestamp          701528 non-null  datetime64[ns]\n",
      " 5   helpful_vote       701528 non-null  int64         \n",
      " 6   verified_purchase  701528 non-null  bool          \n",
      " 7   product_name       701528 non-null  object        \n",
      "dtypes: Int8(1), bool(1), datetime64[ns](1), int64(1), object(4)\n",
      "memory usage: 34.1+ MB\n"
     ]
    }
   ],
   "source": [
    "df.info()"
   ]
  },
  {
   "cell_type": "markdown",
   "metadata": {},
   "source": [
    "## Visualizing images of products"
   ]
  },
  {
   "cell_type": "markdown",
   "metadata": {},
   "source": [
    "Let's take a look at some of the products' images that the reviewers left."
   ]
  },
  {
   "cell_type": "code",
   "execution_count": 31,
   "metadata": {},
   "outputs": [
    {
     "data": {
      "text/plain": [
       "0                                                   []\n",
       "1                                                   []\n",
       "2                                                   []\n",
       "3                                                   []\n",
       "4                                                   []\n",
       "5    [{'attachment_type': 'IMAGE', 'large_image_url...\n",
       "6                                                   []\n",
       "7    [{'attachment_type': 'IMAGE', 'large_image_url...\n",
       "8                                                   []\n",
       "9                                                   []\n",
       "Name: images, dtype: object"
      ]
     },
     "execution_count": 31,
     "metadata": {},
     "output_type": "execute_result"
    }
   ],
   "source": [
    "df['images'].head(10)"
   ]
  },
  {
   "cell_type": "markdown",
   "metadata": {},
   "source": [
    "It seems that most of the images are just empty lists. Let's take a look at the 6th entry."
   ]
  },
  {
   "cell_type": "code",
   "execution_count": 32,
   "metadata": {},
   "outputs": [
    {
     "data": {
      "text/plain": [
       "array([{'attachment_type': 'IMAGE', 'large_image_url': 'https://images-na.ssl-images-amazon.com/images/I/71e9Noi7dJL._SL1600_.jpg', 'medium_image_url': 'https://images-na.ssl-images-amazon.com/images/I/71e9Noi7dJL._SL800_.jpg', 'small_image_url': 'https://images-na.ssl-images-amazon.com/images/I/71e9Noi7dJL._SL256_.jpg'}],\n",
       "      dtype=object)"
      ]
     },
     "execution_count": 32,
     "metadata": {},
     "output_type": "execute_result"
    }
   ],
   "source": [
    "df.iloc[5]['images']"
   ]
  },
  {
   "cell_type": "markdown",
   "metadata": {},
   "source": [
    "It looks like it's an array and not a list. We'll use numpy's ndarray to check for entries with images."
   ]
  },
  {
   "cell_type": "code",
   "execution_count": 33,
   "metadata": {},
   "outputs": [
    {
     "data": {
      "text/plain": [
       "5      [{'attachment_type': 'IMAGE', 'large_image_url...\n",
       "7      [{'attachment_type': 'IMAGE', 'large_image_url...\n",
       "45     [{'attachment_type': 'IMAGE', 'large_image_url...\n",
       "56     [{'attachment_type': 'IMAGE', 'large_image_url...\n",
       "106    [{'attachment_type': 'IMAGE', 'large_image_url...\n",
       "Name: images, dtype: object"
      ]
     },
     "execution_count": 33,
     "metadata": {},
     "output_type": "execute_result"
    }
   ],
   "source": [
    "df[df['images'].apply(lambda x: isinstance(x, (list, np.ndarray)) and len(x) > 0)]['images'].head()"
   ]
  },
  {
   "cell_type": "markdown",
   "metadata": {},
   "source": [
    "The `images` column (a non-empty one) contains an array of dictionary with the following keys:\n",
    "\n",
    "- attachment_type: usually `IMAGE`.\n",
    "- large_image_url: a 1200x1600 image.\n",
    "- medium_image_url: a 600x800 image.\n",
    "- small_image_url: a 192x256 image."
   ]
  },
  {
   "cell_type": "markdown",
   "metadata": {},
   "source": [
    "Let's get the `small_image_url` out of the populated rows."
   ]
  },
  {
   "cell_type": "code",
   "execution_count": 34,
   "metadata": {},
   "outputs": [],
   "source": [
    "df['small_image_url'] = df['images'].apply(lambda x: x[0]['small_image_url'] if isinstance(x, (list, np.ndarray)) and len(x) > 0 else None)"
   ]
  },
  {
   "cell_type": "markdown",
   "metadata": {},
   "source": [
    "The previous cell checks wether the value inside `small_image_url` is an instance of a `list` or a `np.ndarray` and if it contains anything.\n",
    "\n",
    "Let's have a sample."
   ]
  },
  {
   "cell_type": "code",
   "execution_count": 35,
   "metadata": {},
   "outputs": [
    {
     "data": {
      "text/html": [
       "<div>\n",
       "<style scoped>\n",
       "    .dataframe tbody tr th:only-of-type {\n",
       "        vertical-align: middle;\n",
       "    }\n",
       "\n",
       "    .dataframe tbody tr th {\n",
       "        vertical-align: top;\n",
       "    }\n",
       "\n",
       "    .dataframe thead th {\n",
       "        text-align: right;\n",
       "    }\n",
       "</style>\n",
       "<table border=\"1\" class=\"dataframe\">\n",
       "  <thead>\n",
       "    <tr style=\"text-align: right;\">\n",
       "      <th></th>\n",
       "      <th>rating</th>\n",
       "      <th>title</th>\n",
       "      <th>text</th>\n",
       "      <th>images</th>\n",
       "      <th>timestamp</th>\n",
       "      <th>helpful_vote</th>\n",
       "      <th>verified_purchase</th>\n",
       "      <th>product_name</th>\n",
       "      <th>small_image_url</th>\n",
       "    </tr>\n",
       "  </thead>\n",
       "  <tbody>\n",
       "    <tr>\n",
       "      <th>5</th>\n",
       "      <td>4</td>\n",
       "      <td>Pretty Color</td>\n",
       "      <td>The polish was quiet thick and did not apply s...</td>\n",
       "      <td>[{'attachment_type': 'IMAGE', 'large_image_url...</td>\n",
       "      <td>2020-08-28</td>\n",
       "      <td>0</td>\n",
       "      <td>True</td>\n",
       "      <td>China Glaze Nail Polish, Wanderlust 1381</td>\n",
       "      <td>https://images-na.ssl-images-amazon.com/images...</td>\n",
       "    </tr>\n",
       "    <tr>\n",
       "      <th>7</th>\n",
       "      <td>3</td>\n",
       "      <td>Meh</td>\n",
       "      <td>These were lightweight and soft but much too s...</td>\n",
       "      <td>[{'attachment_type': 'IMAGE', 'large_image_url...</td>\n",
       "      <td>2021-10-15</td>\n",
       "      <td>0</td>\n",
       "      <td>True</td>\n",
       "      <td>Niseyo new Faux Locs 24 Inch Crochet Hair 6 Pa...</td>\n",
       "      <td>https://m.media-amazon.com/images/I/81FN4c0VHz...</td>\n",
       "    </tr>\n",
       "    <tr>\n",
       "      <th>45</th>\n",
       "      <td>5</td>\n",
       "      <td>Nice colors and dries fast</td>\n",
       "      <td>Haven’t worn it very long yet so can’t comment...</td>\n",
       "      <td>[{'attachment_type': 'IMAGE', 'large_image_url...</td>\n",
       "      <td>2020-12-31</td>\n",
       "      <td>0</td>\n",
       "      <td>True</td>\n",
       "      <td>ZOYA All Snuggled Up Quad,4 Count (Pack of 1)</td>\n",
       "      <td>https://images-na.ssl-images-amazon.com/images...</td>\n",
       "    </tr>\n",
       "    <tr>\n",
       "      <th>56</th>\n",
       "      <td>5</td>\n",
       "      <td>Absolutely beautiful</td>\n",
       "      <td>These diamond are absolutely beautiful and shi...</td>\n",
       "      <td>[{'attachment_type': 'IMAGE', 'large_image_url...</td>\n",
       "      <td>2021-08-17</td>\n",
       "      <td>0</td>\n",
       "      <td>True</td>\n",
       "      <td>Rhinestones for Acrylic Nails, Nail Gems Jewel...</td>\n",
       "      <td>https://m.media-amazon.com/images/I/A1u4jV10XQ...</td>\n",
       "    </tr>\n",
       "    <tr>\n",
       "      <th>106</th>\n",
       "      <td>5</td>\n",
       "      <td>Doesn't Sting or Burn My Eyes!</td>\n",
       "      <td>I am in my late 40's and started using anti-ag...</td>\n",
       "      <td>[{'attachment_type': 'IMAGE', 'large_image_url...</td>\n",
       "      <td>2016-06-28</td>\n",
       "      <td>8</td>\n",
       "      <td>True</td>\n",
       "      <td>Anti Wrinkle Eye Cream by VEBELLE Anti Aging C...</td>\n",
       "      <td>https://images-na.ssl-images-amazon.com/images...</td>\n",
       "    </tr>\n",
       "  </tbody>\n",
       "</table>\n",
       "</div>"
      ],
      "text/plain": [
       "     rating                           title  \\\n",
       "5         4                    Pretty Color   \n",
       "7         3                             Meh   \n",
       "45        5      Nice colors and dries fast   \n",
       "56        5            Absolutely beautiful   \n",
       "106       5  Doesn't Sting or Burn My Eyes!   \n",
       "\n",
       "                                                  text  \\\n",
       "5    The polish was quiet thick and did not apply s...   \n",
       "7    These were lightweight and soft but much too s...   \n",
       "45   Haven’t worn it very long yet so can’t comment...   \n",
       "56   These diamond are absolutely beautiful and shi...   \n",
       "106  I am in my late 40's and started using anti-ag...   \n",
       "\n",
       "                                                images  timestamp  \\\n",
       "5    [{'attachment_type': 'IMAGE', 'large_image_url... 2020-08-28   \n",
       "7    [{'attachment_type': 'IMAGE', 'large_image_url... 2021-10-15   \n",
       "45   [{'attachment_type': 'IMAGE', 'large_image_url... 2020-12-31   \n",
       "56   [{'attachment_type': 'IMAGE', 'large_image_url... 2021-08-17   \n",
       "106  [{'attachment_type': 'IMAGE', 'large_image_url... 2016-06-28   \n",
       "\n",
       "     helpful_vote  verified_purchase  \\\n",
       "5               0               True   \n",
       "7               0               True   \n",
       "45              0               True   \n",
       "56              0               True   \n",
       "106             8               True   \n",
       "\n",
       "                                          product_name  \\\n",
       "5             China Glaze Nail Polish, Wanderlust 1381   \n",
       "7    Niseyo new Faux Locs 24 Inch Crochet Hair 6 Pa...   \n",
       "45       ZOYA All Snuggled Up Quad,4 Count (Pack of 1)   \n",
       "56   Rhinestones for Acrylic Nails, Nail Gems Jewel...   \n",
       "106  Anti Wrinkle Eye Cream by VEBELLE Anti Aging C...   \n",
       "\n",
       "                                       small_image_url  \n",
       "5    https://images-na.ssl-images-amazon.com/images...  \n",
       "7    https://m.media-amazon.com/images/I/81FN4c0VHz...  \n",
       "45   https://images-na.ssl-images-amazon.com/images...  \n",
       "56   https://m.media-amazon.com/images/I/A1u4jV10XQ...  \n",
       "106  https://images-na.ssl-images-amazon.com/images...  "
      ]
     },
     "execution_count": 35,
     "metadata": {},
     "output_type": "execute_result"
    }
   ],
   "source": [
    "df[df['small_image_url'].notna()].head()"
   ]
  },
  {
   "cell_type": "markdown",
   "metadata": {},
   "source": [
    "Now that we have the URLs, we can plot them. We will define the plot function `plot_image` below."
   ]
  },
  {
   "cell_type": "code",
   "execution_count": 36,
   "metadata": {},
   "outputs": [],
   "source": [
    "def plot_image(url):\n",
    "    with requests.get(url) as response:\n",
    "        img = Image.open(BytesIO(response.content))\n",
    "        plt.imshow(img)\n",
    "        plt.axis('off')\n",
    "        plt.show()"
   ]
  },
  {
   "cell_type": "code",
   "execution_count": 37,
   "metadata": {},
   "outputs": [
    {
     "data": {
      "image/png": "[encoded data removed]",
      "text/plain": [
       "<Figure size 640x480 with 1 Axes>"
      ]
     },
     "metadata": {},
     "output_type": "display_data"
    },
    {
     "name": "stdout",
     "output_type": "stream",
     "text": [
      "Product Name: 613 Passion Twist Hair Ombre Crochet Passion Twist Braiding Hair 18Inch 6Packs Water Wave Crochet Braids for Long Passion Twist (Black Blonde)\n"
     ]
    }
   ],
   "source": [
    "# Plot a random image (re-run cell to get another)\n",
    "\n",
    "random_url = random.choice(df[df['small_image_url'].notna()]['small_image_url'].values)\n",
    "product_name = df[df['small_image_url'] == random_url]['product_name'].iloc[0]\n",
    "plot_image(random_url)\n",
    "print(f\"Product Name: {product_name}\")"
   ]
  },
  {
   "cell_type": "code",
   "execution_count": 38,
   "metadata": {},
   "outputs": [
    {
     "name": "stdout",
     "output_type": "stream",
     "text": [
      "<class 'pandas.core.frame.DataFrame'>\n",
      "RangeIndex: 701528 entries, 0 to 701527\n",
      "Data columns (total 9 columns):\n",
      " #   Column             Non-Null Count   Dtype         \n",
      "---  ------             --------------   -----         \n",
      " 0   rating             701528 non-null  Int8          \n",
      " 1   title              701528 non-null  object        \n",
      " 2   text               701528 non-null  object        \n",
      " 3   images             701528 non-null  object        \n",
      " 4   timestamp          701528 non-null  datetime64[ns]\n",
      " 5   helpful_vote       701528 non-null  int64         \n",
      " 6   verified_purchase  701528 non-null  bool          \n",
      " 7   product_name       701528 non-null  object        \n",
      " 8   small_image_url    59684 non-null   object        \n",
      "dtypes: Int8(1), bool(1), datetime64[ns](1), int64(1), object(5)\n",
      "memory usage: 39.5+ MB\n"
     ]
    }
   ],
   "source": [
    "df.info()"
   ]
  },
  {
   "cell_type": "markdown",
   "metadata": {},
   "source": [
    "## Adding sentiment labels"
   ]
  },
  {
   "cell_type": "markdown",
   "metadata": {},
   "source": [
    "Sentiment labels are not present in the dataset. However, we can add them based on the rating. We will use the following system:\n",
    "+ If the rating is lower than 2, we will assign a 0, equivalant to `Negative`.\n",
    "+ If the rating is equal to 3, we will assign a 1, equivalant to `Neutral`.\n",
    "+ Otherwise, we will assign a 2, equivalant to `Positive`.\n",
    "\n",
    "Some machine learning models (like Extreme Gradient Boosting, or XGBoost for short, need numeric labels starting from 0, hence our choice for 0, 1 and 2 instead of -1, 0 and 1.)\n",
    "\n",
    "We will have to take into account the unbalanced data when preparing the data for our machine learning models."
   ]
  },
  {
   "cell_type": "code",
   "execution_count": 39,
   "metadata": {},
   "outputs": [],
   "source": [
    "sentiments = [\"Negative\", \"Neutral\", \"Positive\"]\n",
    "sentiment_map = {0: \"Negative\", 1: \"Neutral\", 2: \"Positive\"} # Can be used later for mapping predictions and/or plotting\n",
    "\n",
    "def add_label(rating):\n",
    "    \"\"\"\n",
    "    Add label to the rating\n",
    "    Args:\n",
    "        rating: int, rating\n",
    "    Returns:\n",
    "        str, label\"\"\"\n",
    "\n",
    "    if rating <= 2:\n",
    "        return 0\n",
    "    elif rating == 3:\n",
    "        return 1\n",
    "    else:\n",
    "        return 2"
   ]
  },
  {
   "cell_type": "code",
   "execution_count": 40,
   "metadata": {},
   "outputs": [],
   "source": [
    "df[\"label\"] = df[\"rating\"].apply(add_label)"
   ]
  },
  {
   "cell_type": "code",
   "execution_count": 41,
   "metadata": {},
   "outputs": [
    {
     "data": {
      "text/plain": [
       "0    2\n",
       "1    2\n",
       "2    2\n",
       "3    0\n",
       "4    2\n",
       "Name: label, dtype: int64"
      ]
     },
     "execution_count": 41,
     "metadata": {},
     "output_type": "execute_result"
    }
   ],
   "source": [
    "df[\"label\"].head()"
   ]
  },
  {
   "cell_type": "code",
   "execution_count": 42,
   "metadata": {},
   "outputs": [
    {
     "data": {
      "image/png": "[encoded data removed]",
      "text/plain": [
       "<Figure size 640x480 with 1 Axes>"
      ]
     },
     "metadata": {},
     "output_type": "display_data"
    }
   ],
   "source": [
    "sns.countplot(x='label', data=df, palette='coolwarm', hue='label')\n",
    "plt.title('Sentiment Label Distribution')\n",
    "plt.xlabel('Sentiment Label')\n",
    "plt.ylabel('Count')\n",
    "plt.xticks(ticks=[0, 1, 2], labels=[sentiment_map[i] for i in range(3)])\n",
    "plt.show()"
   ]
  },
  {
   "cell_type": "markdown",
   "metadata": {},
   "source": [
    "The sentiment distribution is even more right-skewed than before. To make sure that our models don't run into problems of overfitting and such, we will resort to undersample both positive and negative to match neutral count. This will break the original distribution of the data but it ensures the models generalize better to new and unseen one."
   ]
  },
  {
   "cell_type": "code",
   "execution_count": 43,
   "metadata": {},
   "outputs": [],
   "source": [
    "# Separate the classes\n",
    "df_pos = df[df['label'] == 2]\n",
    "df_neu = df[df['label'] == 1]\n",
    "df_neg = df[df['label'] == 0]\n",
    "\n",
    "\n",
    "# Undersample the positive and negative classes\n",
    "df_pos_undersampled = resample(df_pos, \n",
    "                               replace=False,  # No replacement\n",
    "                               n_samples=len(df_neu),\n",
    "                               random_state=42)\n",
    "\n",
    "df_neg_undersampled = resample(df_neg, \n",
    "                               replace=False,\n",
    "                               n_samples=len(df_neu),\n",
    "                               random_state=42)\n",
    "\n",
    "# Combine back the data\n",
    "df_balanced = pd.concat([df_pos_undersampled, df_neu, df_neg_undersampled])\n",
    "\n",
    "# Shuffle the dataset to mix the samples\n",
    "df_balanced = df_balanced.sample(frac=1, random_state=42).reset_index(drop=True)"
   ]
  },
  {
   "cell_type": "code",
   "execution_count": 44,
   "metadata": {},
   "outputs": [
    {
     "data": {
      "image/png": "[encoded data removed]",
      "text/plain": [
       "<Figure size 640x480 with 1 Axes>"
      ]
     },
     "metadata": {},
     "output_type": "display_data"
    }
   ],
   "source": [
    "sns.countplot(x='label', data=df_balanced, palette='coolwarm', hue='label', legend=None)\n",
    "plt.title('Sentiment Label Distribution')\n",
    "plt.xlabel('Sentiment Label')\n",
    "plt.ylabel('Count')\n",
    "plt.xticks(ticks=[0, 1, 2], labels=[sentiment_map[i] for i in range(3)])\n",
    "plt.show()"
   ]
  },
  {
   "cell_type": "markdown",
   "metadata": {},
   "source": [
    "Now, we can start working on the reviews themselves."
   ]
  },
  {
   "cell_type": "markdown",
   "metadata": {},
   "source": [
    "# Data pre-processing"
   ]
  },
  {
   "cell_type": "markdown",
   "metadata": {},
   "source": [
    "First, let's start by dropping the columns we won't be using for the next step."
   ]
  },
  {
   "cell_type": "code",
   "execution_count": 45,
   "metadata": {},
   "outputs": [
    {
     "name": "stdout",
     "output_type": "stream",
     "text": [
      "<class 'pandas.core.frame.DataFrame'>\n",
      "RangeIndex: 168921 entries, 0 to 168920\n",
      "Data columns (total 10 columns):\n",
      " #   Column             Non-Null Count   Dtype         \n",
      "---  ------             --------------   -----         \n",
      " 0   rating             168921 non-null  Int8          \n",
      " 1   title              168921 non-null  object        \n",
      " 2   text               168921 non-null  object        \n",
      " 3   images             168921 non-null  object        \n",
      " 4   timestamp          168921 non-null  datetime64[ns]\n",
      " 5   helpful_vote       168921 non-null  int64         \n",
      " 6   verified_purchase  168921 non-null  bool          \n",
      " 7   product_name       168921 non-null  object        \n",
      " 8   small_image_url    13447 non-null   object        \n",
      " 9   label              168921 non-null  int64         \n",
      "dtypes: Int8(1), bool(1), datetime64[ns](1), int64(2), object(5)\n",
      "memory usage: 10.8+ MB\n"
     ]
    }
   ],
   "source": [
    "df_balanced.info()"
   ]
  },
  {
   "cell_type": "markdown",
   "metadata": {},
   "source": [
    "Let's concatenate both `title` and `text` into a single `review_text`"
   ]
  },
  {
   "cell_type": "code",
   "execution_count": 46,
   "metadata": {},
   "outputs": [],
   "source": [
    "df_balanced[\"review_text\"] = df_balanced[\"title\"] + \" \" + df_balanced[\"text\"]"
   ]
  },
  {
   "cell_type": "code",
   "execution_count": 47,
   "metadata": {},
   "outputs": [],
   "source": [
    "df_balanced = df_balanced[[\"review_text\", \"label\"]]"
   ]
  },
  {
   "cell_type": "code",
   "execution_count": 48,
   "metadata": {},
   "outputs": [
    {
     "data": {
      "text/html": [
       "<div>\n",
       "<style scoped>\n",
       "    .dataframe tbody tr th:only-of-type {\n",
       "        vertical-align: middle;\n",
       "    }\n",
       "\n",
       "    .dataframe tbody tr th {\n",
       "        vertical-align: top;\n",
       "    }\n",
       "\n",
       "    .dataframe thead th {\n",
       "        text-align: right;\n",
       "    }\n",
       "</style>\n",
       "<table border=\"1\" class=\"dataframe\">\n",
       "  <thead>\n",
       "    <tr style=\"text-align: right;\">\n",
       "      <th></th>\n",
       "      <th>review_text</th>\n",
       "      <th>label</th>\n",
       "    </tr>\n",
       "  </thead>\n",
       "  <tbody>\n",
       "    <tr>\n",
       "      <th>0</th>\n",
       "      <td>One Star so bad</td>\n",
       "      <td>0</td>\n",
       "    </tr>\n",
       "    <tr>\n",
       "      <th>1</th>\n",
       "      <td>Three Stars Okay.</td>\n",
       "      <td>1</td>\n",
       "    </tr>\n",
       "    <tr>\n",
       "      <th>2</th>\n",
       "      <td>Missing a Bottle and a Defective Sprayer Inste...</td>\n",
       "      <td>0</td>\n",
       "    </tr>\n",
       "    <tr>\n",
       "      <th>3</th>\n",
       "      <td>Disappointed! I'm a little disappointed with t...</td>\n",
       "      <td>1</td>\n",
       "    </tr>\n",
       "    <tr>\n",
       "      <th>4</th>\n",
       "      <td>They don’t stay on These began peeling 20 minu...</td>\n",
       "      <td>0</td>\n",
       "    </tr>\n",
       "  </tbody>\n",
       "</table>\n",
       "</div>"
      ],
      "text/plain": [
       "                                         review_text  label\n",
       "0                                    One Star so bad      0\n",
       "1                                  Three Stars Okay.      1\n",
       "2  Missing a Bottle and a Defective Sprayer Inste...      0\n",
       "3  Disappointed! I'm a little disappointed with t...      1\n",
       "4  They don’t stay on These began peeling 20 minu...      0"
      ]
     },
     "execution_count": 48,
     "metadata": {},
     "output_type": "execute_result"
    }
   ],
   "source": [
    "df_balanced.iloc[:5]"
   ]
  },
  {
   "cell_type": "markdown",
   "metadata": {},
   "source": [
    "## Emoji checking"
   ]
  },
  {
   "cell_type": "markdown",
   "metadata": {},
   "source": [
    "The text may contain emojis. We will check for that."
   ]
  },
  {
   "cell_type": "code",
   "execution_count": 49,
   "metadata": {},
   "outputs": [],
   "source": [
    "emoji = re.compile(\"[\"\n",
    "        u\"\\U0001F600-\\U0001F64F\"  # emoticons\n",
    "        u\"\\U0001F300-\\U0001F5FF\"  # symbols & pictographs\n",
    "        u\"\\U0001F680-\\U0001F6FF\"  # transport & map symbols\n",
    "        u\"\\U0001F1E0-\\U0001F1FF\"  # flags (iOS)\n",
    "        u\"\\U00002500-\\U00002BEF\"  # chinese char\n",
    "        u\"\\U00002702-\\U000027B0\"\n",
    "        u\"\\U000024C2-\\U0001F251\"\n",
    "        u\"\\U0001f926-\\U0001f937\"\n",
    "        u\"\\U00010000-\\U0010ffff\"\n",
    "        u\"\\u2640-\\u2642\" \n",
    "        u\"\\u2600-\\u2B55\"\n",
    "        u\"\\u200d\"\n",
    "        u\"\\u23cf\"\n",
    "        u\"\\u23e9\"\n",
    "        u\"\\u231a\"\n",
    "        u\"\\ufe0f\"  # dingbats\n",
    "        u\"\\u3030\"\n",
    "                      \"]+\", re.UNICODE)\n",
    "\n",
    "## Courtesy of https://stackoverflow.com/questions/33404752/removing-emojis-from-a-string-in-python"
   ]
  },
  {
   "cell_type": "code",
   "execution_count": 50,
   "metadata": {},
   "outputs": [],
   "source": [
    "df_balanced[\"has_emojis\"] = df_balanced[\"review_text\"].apply(lambda x: bool(re.search(emoji, x)))"
   ]
  },
  {
   "cell_type": "code",
   "execution_count": 51,
   "metadata": {},
   "outputs": [
    {
     "data": {
      "text/html": [
       "<div>\n",
       "<style scoped>\n",
       "    .dataframe tbody tr th:only-of-type {\n",
       "        vertical-align: middle;\n",
       "    }\n",
       "\n",
       "    .dataframe tbody tr th {\n",
       "        vertical-align: top;\n",
       "    }\n",
       "\n",
       "    .dataframe thead th {\n",
       "        text-align: right;\n",
       "    }\n",
       "</style>\n",
       "<table border=\"1\" class=\"dataframe\">\n",
       "  <thead>\n",
       "    <tr style=\"text-align: right;\">\n",
       "      <th></th>\n",
       "      <th>review_text</th>\n",
       "      <th>label</th>\n",
       "      <th>has_emojis</th>\n",
       "    </tr>\n",
       "  </thead>\n",
       "  <tbody>\n",
       "    <tr>\n",
       "      <th>10</th>\n",
       "      <td>It stinks but good brush Minus a star for the ...</td>\n",
       "      <td>2</td>\n",
       "      <td>True</td>\n",
       "    </tr>\n",
       "    <tr>\n",
       "      <th>54</th>\n",
       "      <td>perfect ， I like it， an important item in my ....</td>\n",
       "      <td>2</td>\n",
       "      <td>True</td>\n",
       "    </tr>\n",
       "    <tr>\n",
       "      <th>76</th>\n",
       "      <td>Loved it❤️ This hair was everythinggggg</td>\n",
       "      <td>2</td>\n",
       "      <td>True</td>\n",
       "    </tr>\n",
       "    <tr>\n",
       "      <th>134</th>\n",
       "      <td>😐 Unfortunately i hate its smell.</td>\n",
       "      <td>1</td>\n",
       "      <td>True</td>\n",
       "    </tr>\n",
       "    <tr>\n",
       "      <th>140</th>\n",
       "      <td>pretty &amp; easy to use its really pretty and loo...</td>\n",
       "      <td>2</td>\n",
       "      <td>True</td>\n",
       "    </tr>\n",
       "  </tbody>\n",
       "</table>\n",
       "</div>"
      ],
      "text/plain": [
       "                                           review_text  label  has_emojis\n",
       "10   It stinks but good brush Minus a star for the ...      2        True\n",
       "54   perfect ， I like it， an important item in my ....      2        True\n",
       "76             Loved it❤️ This hair was everythinggggg      2        True\n",
       "134                  😐 Unfortunately i hate its smell.      1        True\n",
       "140  pretty & easy to use its really pretty and loo...      2        True"
      ]
     },
     "execution_count": 51,
     "metadata": {},
     "output_type": "execute_result"
    }
   ],
   "source": [
    "df_balanced[df_balanced[\"has_emojis\"] == True].head()"
   ]
  },
  {
   "cell_type": "code",
   "execution_count": 52,
   "metadata": {},
   "outputs": [
    {
     "data": {
      "text/plain": [
       "has_emojis\n",
       "False    165130\n",
       "True       3791\n",
       "Name: count, dtype: int64"
      ]
     },
     "execution_count": 52,
     "metadata": {},
     "output_type": "execute_result"
    }
   ],
   "source": [
    "df_balanced[\"has_emojis\"].value_counts()"
   ]
  },
  {
   "cell_type": "markdown",
   "metadata": {},
   "source": [
    "Now that we know that some reviews contain emojis (and double whitespaces or more), it's time to define the `remove_emojis` function."
   ]
  },
  {
   "cell_type": "code",
   "execution_count": 53,
   "metadata": {},
   "outputs": [],
   "source": [
    "def remove_emojis(data):\n",
    "\n",
    "    emoj = re.compile(\"[\"\n",
    "        u\"\\U0001F600-\\U0001F64F\"  # emoticons\n",
    "        u\"\\U0001F300-\\U0001F5FF\"  # symbols & pictographs\n",
    "        u\"\\U0001F680-\\U0001F6FF\"  # transport & map symbols\n",
    "        u\"\\U0001F1E0-\\U0001F1FF\"  # flags (iOS)\n",
    "        u\"\\U00002500-\\U00002BEF\"  # chinese char\n",
    "        u\"\\U00002702-\\U000027B0\"\n",
    "        u\"\\U000024C2-\\U0001F251\"\n",
    "        u\"\\U0001f926-\\U0001f937\"\n",
    "        u\"\\U00010000-\\U0010ffff\"\n",
    "        u\"\\u2640-\\u2642\" \n",
    "        u\"\\u2600-\\u2B55\"\n",
    "        u\"\\u200d\"\n",
    "        u\"\\u23cf\"\n",
    "        u\"\\u23e9\"\n",
    "        u\"\\u231a\"\n",
    "        u\"\\ufe0f\"  # dingbats\n",
    "        u\"\\u3030\"\n",
    "                      \"]+\", re.UNICODE)\n",
    "    return re.sub(emoj, '', data)"
   ]
  },
  {
   "cell_type": "code",
   "execution_count": 54,
   "metadata": {},
   "outputs": [],
   "source": [
    "df_balanced[\"review_text\"] = df_balanced[\"review_text\"].apply(remove_emojis)"
   ]
  },
  {
   "cell_type": "markdown",
   "metadata": {},
   "source": [
    "Let's verify that the emojis have been properly removed."
   ]
  },
  {
   "cell_type": "code",
   "execution_count": 55,
   "metadata": {},
   "outputs": [],
   "source": [
    "df_balanced[\"has_emojis\"] = df_balanced[\"review_text\"].apply(lambda x: bool(re.search(emoji, x)))"
   ]
  },
  {
   "cell_type": "code",
   "execution_count": 56,
   "metadata": {},
   "outputs": [
    {
     "data": {
      "text/plain": [
       "(Empty DataFrame\n",
       " Columns: [review_text, label, has_emojis]\n",
       " Index: [],\n",
       " has_emojis\n",
       " False    168921\n",
       " Name: count, dtype: int64)"
      ]
     },
     "execution_count": 56,
     "metadata": {},
     "output_type": "execute_result"
    }
   ],
   "source": [
    "df_balanced[df_balanced[\"has_emojis\"] == True].head(), df_balanced[\"has_emojis\"].value_counts()"
   ]
  },
  {
   "cell_type": "code",
   "execution_count": 57,
   "metadata": {},
   "outputs": [],
   "source": [
    "# Time to drop the 'has_emojis' col\n",
    "df_balanced.drop(columns=['has_emojis'], inplace=True)"
   ]
  },
  {
   "cell_type": "markdown",
   "metadata": {},
   "source": [
    "## Lower text"
   ]
  },
  {
   "cell_type": "code",
   "execution_count": 58,
   "metadata": {},
   "outputs": [],
   "source": [
    "df_balanced['review_text'] = df_balanced['review_text'].apply(lambda x: x.lower())"
   ]
  },
  {
   "cell_type": "markdown",
   "metadata": {},
   "source": [
    "## Double or more whitespaces removal"
   ]
  },
  {
   "cell_type": "code",
   "execution_count": 59,
   "metadata": {},
   "outputs": [],
   "source": [
    "df_balanced[\"review_text\"] = df_balanced[\"review_text\"].apply(lambda x: re.sub(r\"\\s{2,}\", \" \", x))"
   ]
  },
  {
   "cell_type": "markdown",
   "metadata": {},
   "source": [
    "## Stop words removal"
   ]
  },
  {
   "cell_type": "code",
   "execution_count": 60,
   "metadata": {},
   "outputs": [
    {
     "name": "stderr",
     "output_type": "stream",
     "text": [
      "[nltk_data] Downloading package stopwords to\n",
      "[nltk_data]     C:\\Users\\Amine\\AppData\\Roaming\\nltk_data...\n",
      "[nltk_data]   Package stopwords is already up-to-date!\n"
     ]
    }
   ],
   "source": [
    "nltk.download('stopwords')\n",
    "\n",
    "stop_words = stopwords.words('english')\n",
    "stop_words = set(stop_words)\n",
    "stop_words\n",
    "stop_words.discard('not') # 'not', 'but' and 'such' are important to keep\n",
    "stop_words.discard('such')\n",
    "stop_words.discard('but')"
   ]
  },
  {
   "cell_type": "code",
   "execution_count": 61,
   "metadata": {},
   "outputs": [],
   "source": [
    "def remove_stopwords(data, stop_words):\n",
    "    return ' '.join([word for word in data.split() if word not in stop_words])"
   ]
  },
  {
   "cell_type": "code",
   "execution_count": 62,
   "metadata": {},
   "outputs": [],
   "source": [
    "df_balanced[\"review_text\"] = df_balanced[\"review_text\"].apply(lambda x: remove_stopwords(x, stop_words))"
   ]
  },
  {
   "cell_type": "markdown",
   "metadata": {},
   "source": [
    "## Punctuation removal"
   ]
  },
  {
   "cell_type": "code",
   "execution_count": 63,
   "metadata": {},
   "outputs": [],
   "source": [
    "def remove_punctuation(data: str):\n",
    "    clean_text = data.translate(str.maketrans('', '', punctuation))\n",
    "    return clean_text"
   ]
  },
  {
   "cell_type": "code",
   "execution_count": 64,
   "metadata": {},
   "outputs": [],
   "source": [
    "df_balanced[\"review_text\"] = df_balanced[\"review_text\"].apply(lambda x: remove_punctuation(x))"
   ]
  },
  {
   "cell_type": "markdown",
   "metadata": {},
   "source": [
    "This is how our pipeline was:\n",
    "\n",
    "- remove emojis\n",
    "- remove double or more whitespaces\n",
    "- lowercase the text\n",
    "- remove stopwords\n",
    "- remove punctuation\n",
    "\n",
    "The previous could have been done in a single go as follows:\n",
    "\n",
    "```python\n",
    "df_balanced[\"review_text\"] = df_balanced[\"review_text\"].apply(lambda x: (remove_emojis,\n",
    "                                                                         re.sub(r\"\\s{2,}\", \" \", x),\n",
    "                                                                         x.lower(),\n",
    "                                                                         remove_stopwords(x, stop_words),\n",
    "                                                                         remove_punctuation(x)\n",
    "                                                                        )\n",
    "                                                            )\n",
    "```"
   ]
  },
  {
   "cell_type": "markdown",
   "metadata": {},
   "source": [
    "One last thing is to check for empty reviews."
   ]
  },
  {
   "cell_type": "code",
   "execution_count": 65,
   "metadata": {},
   "outputs": [
    {
     "data": {
      "text/html": [
       "<div>\n",
       "<style scoped>\n",
       "    .dataframe tbody tr th:only-of-type {\n",
       "        vertical-align: middle;\n",
       "    }\n",
       "\n",
       "    .dataframe tbody tr th {\n",
       "        vertical-align: top;\n",
       "    }\n",
       "\n",
       "    .dataframe thead th {\n",
       "        text-align: right;\n",
       "    }\n",
       "</style>\n",
       "<table border=\"1\" class=\"dataframe\">\n",
       "  <thead>\n",
       "    <tr style=\"text-align: right;\">\n",
       "      <th></th>\n",
       "      <th>review_text</th>\n",
       "      <th>label</th>\n",
       "    </tr>\n",
       "  </thead>\n",
       "  <tbody>\n",
       "    <tr>\n",
       "      <th>680</th>\n",
       "      <td></td>\n",
       "      <td>1</td>\n",
       "    </tr>\n",
       "    <tr>\n",
       "      <th>1058</th>\n",
       "      <td></td>\n",
       "      <td>2</td>\n",
       "    </tr>\n",
       "    <tr>\n",
       "      <th>4472</th>\n",
       "      <td></td>\n",
       "      <td>2</td>\n",
       "    </tr>\n",
       "    <tr>\n",
       "      <th>5145</th>\n",
       "      <td></td>\n",
       "      <td>1</td>\n",
       "    </tr>\n",
       "    <tr>\n",
       "      <th>6250</th>\n",
       "      <td></td>\n",
       "      <td>1</td>\n",
       "    </tr>\n",
       "    <tr>\n",
       "      <th>...</th>\n",
       "      <td>...</td>\n",
       "      <td>...</td>\n",
       "    </tr>\n",
       "    <tr>\n",
       "      <th>158034</th>\n",
       "      <td></td>\n",
       "      <td>2</td>\n",
       "    </tr>\n",
       "    <tr>\n",
       "      <th>161554</th>\n",
       "      <td></td>\n",
       "      <td>2</td>\n",
       "    </tr>\n",
       "    <tr>\n",
       "      <th>162210</th>\n",
       "      <td></td>\n",
       "      <td>2</td>\n",
       "    </tr>\n",
       "    <tr>\n",
       "      <th>163309</th>\n",
       "      <td></td>\n",
       "      <td>1</td>\n",
       "    </tr>\n",
       "    <tr>\n",
       "      <th>164602</th>\n",
       "      <td></td>\n",
       "      <td>0</td>\n",
       "    </tr>\n",
       "  </tbody>\n",
       "</table>\n",
       "<p>73 rows × 2 columns</p>\n",
       "</div>"
      ],
      "text/plain": [
       "       review_text  label\n",
       "680                     1\n",
       "1058                    2\n",
       "4472                    2\n",
       "5145                    1\n",
       "6250                    1\n",
       "...            ...    ...\n",
       "158034                  2\n",
       "161554                  2\n",
       "162210                  2\n",
       "163309                  1\n",
       "164602                  0\n",
       "\n",
       "[73 rows x 2 columns]"
      ]
     },
     "execution_count": 65,
     "metadata": {},
     "output_type": "execute_result"
    }
   ],
   "source": [
    "df_balanced[df_balanced[\"review_text\"] == \"\"]"
   ]
  },
  {
   "cell_type": "markdown",
   "metadata": {},
   "source": [
    "It seems there were a few rows where no review is present. Let us delete them."
   ]
  },
  {
   "cell_type": "code",
   "execution_count": 66,
   "metadata": {},
   "outputs": [],
   "source": [
    "df_balanced = df_balanced[df_balanced[\"review_text\"] != \"\"]"
   ]
  },
  {
   "cell_type": "markdown",
   "metadata": {},
   "source": [
    "Our data is ready for training. In the next notebook, we will cover tokenization with both TF-IDF and Word2Vec approaches, as well as training some models like Random Forest, XGBoost and LogisticRegression.\n",
    "\n",
    "Let us save this dataframe so that, next time, we'll simply load it."
   ]
  },
  {
   "cell_type": "code",
   "execution_count": 67,
   "metadata": {},
   "outputs": [],
   "source": [
    "df_balanced.to_csv('GenMinds_Balanced_Dataset_All_Beauty.csv', encoding='utf-8')"
   ]
  },
  {
   "cell_type": "code",
   "execution_count": 68,
   "metadata": {},
   "outputs": [
    {
     "name": "stdout",
     "output_type": "stream",
     "text": [
      "<class 'pandas.core.frame.DataFrame'>\n",
      "Index: 168848 entries, 0 to 168920\n",
      "Data columns (total 2 columns):\n",
      " #   Column       Non-Null Count   Dtype \n",
      "---  ------       --------------   ----- \n",
      " 0   review_text  168848 non-null  object\n",
      " 1   label        168848 non-null  int64 \n",
      "dtypes: int64(1), object(1)\n",
      "memory usage: 3.9+ MB\n"
     ]
    }
   ],
   "source": [
    "df_balanced.info()"
   ]
  }
 ],
 "metadata": {
  "kernelspec": {
   "display_name": "nlp_proj_venv",
   "language": "python",
   "name": "python3"
  },
  "language_info": {
   "codemirror_mode": {
    "name": "ipython",
    "version": 3
   },
   "file_extension": ".py",
   "mimetype": "text/x-python",
   "name": "python",
   "nbconvert_exporter": "python",
   "pygments_lexer": "ipython3",
   "version": "3.11.9"
  }
 },
 "nbformat": 4,
 "nbformat_minor": 2
}
